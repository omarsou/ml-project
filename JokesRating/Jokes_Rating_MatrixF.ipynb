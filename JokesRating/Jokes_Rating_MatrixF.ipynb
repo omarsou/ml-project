{
 "cells": [
  {
   "cell_type": "code",
   "execution_count": 1,
   "metadata": {
    "colab": {
     "base_uri": "https://localhost:8080/"
    },
    "executionInfo": {
     "elapsed": 2666,
     "status": "ok",
     "timestamp": 1605003490013,
     "user": {
      "displayName": "Omar Souaidi",
      "photoUrl": "",
      "userId": "18313246010754186886"
     },
     "user_tz": -60
    },
    "id": "x0fCiNh2c55N",
    "outputId": "a6d09fb6-7042-4de8-ae91-d007e7a06dcc"
   },
   "outputs": [],
   "source": [
    "#!pip install scikit-surprise"
   ]
  },
  {
   "cell_type": "code",
   "execution_count": 2,
   "metadata": {
    "colab": {
     "base_uri": "https://localhost:8080/"
    },
    "executionInfo": {
     "elapsed": 59025,
     "status": "ok",
     "timestamp": 1605003512483,
     "user": {
      "displayName": "Omar Souaidi",
      "photoUrl": "",
      "userId": "18313246010754186886"
     },
     "user_tz": -60
    },
    "id": "etlgWOcs9juP",
    "outputId": "6c7e40c6-2b2c-4db0-cf4b-7b6c71b4a2a4"
   },
   "outputs": [],
   "source": [
    "import pandas as pd\n",
    "import numpy as np\n",
    "import matplotlib.pyplot as plt\n",
    "import seaborn as sns"
   ]
  },
  {
   "cell_type": "code",
   "execution_count": 3,
   "metadata": {
    "executionInfo": {
     "elapsed": 11871,
     "status": "ok",
     "timestamp": 1605003524374,
     "user": {
      "displayName": "Omar Souaidi",
      "photoUrl": "",
      "userId": "18313246010754186886"
     },
     "user_tz": -60
    },
    "id": "staVQRqs-PZU"
   },
   "outputs": [],
   "source": [
    "train = pd.read_csv('train.csv')\n",
    "jokes = pd.read_csv('jokes.csv')\n",
    "test = pd.read_csv('test.csv')"
   ]
  },
  {
   "cell_type": "code",
   "execution_count": 4,
   "metadata": {
    "colab": {
     "base_uri": "https://localhost:8080/",
     "height": 204
    },
    "executionInfo": {
     "elapsed": 11861,
     "status": "ok",
     "timestamp": 1605003524375,
     "user": {
      "displayName": "Omar Souaidi",
      "photoUrl": "",
      "userId": "18313246010754186886"
     },
     "user_tz": -60
    },
    "id": "mOSvWQ92-iGR",
    "outputId": "769de64c-2664-4238-ba1d-4ead7ed13951"
   },
   "outputs": [
    {
     "data": {
      "text/html": [
       "<div>\n",
       "<style scoped>\n",
       "    .dataframe tbody tr th:only-of-type {\n",
       "        vertical-align: middle;\n",
       "    }\n",
       "\n",
       "    .dataframe tbody tr th {\n",
       "        vertical-align: top;\n",
       "    }\n",
       "\n",
       "    .dataframe thead th {\n",
       "        text-align: right;\n",
       "    }\n",
       "</style>\n",
       "<table border=\"1\" class=\"dataframe\">\n",
       "  <thead>\n",
       "    <tr style=\"text-align: right;\">\n",
       "      <th></th>\n",
       "      <th>id</th>\n",
       "      <th>user_id</th>\n",
       "      <th>joke_id</th>\n",
       "      <th>Rating</th>\n",
       "    </tr>\n",
       "  </thead>\n",
       "  <tbody>\n",
       "    <tr>\n",
       "      <th>0</th>\n",
       "      <td>31030_110</td>\n",
       "      <td>31030</td>\n",
       "      <td>110</td>\n",
       "      <td>2.750</td>\n",
       "    </tr>\n",
       "    <tr>\n",
       "      <th>1</th>\n",
       "      <td>16144_109</td>\n",
       "      <td>16144</td>\n",
       "      <td>109</td>\n",
       "      <td>5.094</td>\n",
       "    </tr>\n",
       "    <tr>\n",
       "      <th>2</th>\n",
       "      <td>23098_6</td>\n",
       "      <td>23098</td>\n",
       "      <td>6</td>\n",
       "      <td>-6.438</td>\n",
       "    </tr>\n",
       "    <tr>\n",
       "      <th>3</th>\n",
       "      <td>14273_86</td>\n",
       "      <td>14273</td>\n",
       "      <td>86</td>\n",
       "      <td>4.406</td>\n",
       "    </tr>\n",
       "    <tr>\n",
       "      <th>4</th>\n",
       "      <td>18419_134</td>\n",
       "      <td>18419</td>\n",
       "      <td>134</td>\n",
       "      <td>9.375</td>\n",
       "    </tr>\n",
       "  </tbody>\n",
       "</table>\n",
       "</div>"
      ],
      "text/plain": [
       "          id  user_id  joke_id  Rating\n",
       "0  31030_110    31030      110   2.750\n",
       "1  16144_109    16144      109   5.094\n",
       "2    23098_6    23098        6  -6.438\n",
       "3   14273_86    14273       86   4.406\n",
       "4  18419_134    18419      134   9.375"
      ]
     },
     "execution_count": 4,
     "metadata": {},
     "output_type": "execute_result"
    }
   ],
   "source": [
    "train.head()"
   ]
  },
  {
   "cell_type": "code",
   "execution_count": 5,
   "metadata": {
    "colab": {
     "base_uri": "https://localhost:8080/",
     "height": 204
    },
    "executionInfo": {
     "elapsed": 11854,
     "status": "ok",
     "timestamp": 1605003524376,
     "user": {
      "displayName": "Omar Souaidi",
      "photoUrl": "",
      "userId": "18313246010754186886"
     },
     "user_tz": -60
    },
    "id": "v2tBpJPN-lus",
    "outputId": "88766372-88e5-4985-ec16-8fb52fa20cb6"
   },
   "outputs": [
    {
     "data": {
      "text/html": [
       "<div>\n",
       "<style scoped>\n",
       "    .dataframe tbody tr th:only-of-type {\n",
       "        vertical-align: middle;\n",
       "    }\n",
       "\n",
       "    .dataframe tbody tr th {\n",
       "        vertical-align: top;\n",
       "    }\n",
       "\n",
       "    .dataframe thead th {\n",
       "        text-align: right;\n",
       "    }\n",
       "</style>\n",
       "<table border=\"1\" class=\"dataframe\">\n",
       "  <thead>\n",
       "    <tr style=\"text-align: right;\">\n",
       "      <th></th>\n",
       "      <th>joke_id</th>\n",
       "      <th>joke_text</th>\n",
       "    </tr>\n",
       "  </thead>\n",
       "  <tbody>\n",
       "    <tr>\n",
       "      <th>0</th>\n",
       "      <td>1</td>\n",
       "      <td>Q. What's O. J. Simpson's web address? A. Slas...</td>\n",
       "    </tr>\n",
       "    <tr>\n",
       "      <th>1</th>\n",
       "      <td>2</td>\n",
       "      <td>How many feminists does it take to screw in a ...</td>\n",
       "    </tr>\n",
       "    <tr>\n",
       "      <th>2</th>\n",
       "      <td>3</td>\n",
       "      <td>Q. Did you hear about the dyslexic devil worsh...</td>\n",
       "    </tr>\n",
       "    <tr>\n",
       "      <th>3</th>\n",
       "      <td>4</td>\n",
       "      <td>They asked the Japanese visitor if they have e...</td>\n",
       "    </tr>\n",
       "    <tr>\n",
       "      <th>4</th>\n",
       "      <td>5</td>\n",
       "      <td>Q: What did the blind person say when given so...</td>\n",
       "    </tr>\n",
       "  </tbody>\n",
       "</table>\n",
       "</div>"
      ],
      "text/plain": [
       "   joke_id                                          joke_text\n",
       "0        1  Q. What's O. J. Simpson's web address? A. Slas...\n",
       "1        2  How many feminists does it take to screw in a ...\n",
       "2        3  Q. Did you hear about the dyslexic devil worsh...\n",
       "3        4  They asked the Japanese visitor if they have e...\n",
       "4        5  Q: What did the blind person say when given so..."
      ]
     },
     "execution_count": 5,
     "metadata": {},
     "output_type": "execute_result"
    }
   ],
   "source": [
    "jokes.head()"
   ]
  },
  {
   "cell_type": "code",
   "execution_count": 6,
   "metadata": {
    "executionInfo": {
     "elapsed": 12630,
     "status": "ok",
     "timestamp": 1605003525160,
     "user": {
      "displayName": "Omar Souaidi",
      "photoUrl": "",
      "userId": "18313246010754186886"
     },
     "user_tz": -60
    },
    "id": "f2jnB6Bo-5-q"
   },
   "outputs": [],
   "source": [
    "train['joke_text'] = train[['joke_id']].merge(jokes, how='left')['joke_text']"
   ]
  },
  {
   "cell_type": "code",
   "execution_count": 7,
   "metadata": {
    "colab": {
     "base_uri": "https://localhost:8080/",
     "height": 204
    },
    "executionInfo": {
     "elapsed": 12623,
     "status": "ok",
     "timestamp": 1605003525160,
     "user": {
      "displayName": "Omar Souaidi",
      "photoUrl": "",
      "userId": "18313246010754186886"
     },
     "user_tz": -60
    },
    "id": "jYx6d7yc_aDl",
    "outputId": "038c0c73-67fd-486c-e8de-eb981586f3a0"
   },
   "outputs": [
    {
     "data": {
      "text/html": [
       "<div>\n",
       "<style scoped>\n",
       "    .dataframe tbody tr th:only-of-type {\n",
       "        vertical-align: middle;\n",
       "    }\n",
       "\n",
       "    .dataframe tbody tr th {\n",
       "        vertical-align: top;\n",
       "    }\n",
       "\n",
       "    .dataframe thead th {\n",
       "        text-align: right;\n",
       "    }\n",
       "</style>\n",
       "<table border=\"1\" class=\"dataframe\">\n",
       "  <thead>\n",
       "    <tr style=\"text-align: right;\">\n",
       "      <th></th>\n",
       "      <th>id</th>\n",
       "      <th>user_id</th>\n",
       "      <th>joke_id</th>\n",
       "      <th>Rating</th>\n",
       "      <th>joke_text</th>\n",
       "    </tr>\n",
       "  </thead>\n",
       "  <tbody>\n",
       "    <tr>\n",
       "      <th>0</th>\n",
       "      <td>31030_110</td>\n",
       "      <td>31030</td>\n",
       "      <td>110</td>\n",
       "      <td>2.750</td>\n",
       "      <td>Judy was having trouble with her computer, so ...</td>\n",
       "    </tr>\n",
       "    <tr>\n",
       "      <th>1</th>\n",
       "      <td>16144_109</td>\n",
       "      <td>16144</td>\n",
       "      <td>109</td>\n",
       "      <td>5.094</td>\n",
       "      <td>One day the first grade teacher was reading th...</td>\n",
       "    </tr>\n",
       "    <tr>\n",
       "      <th>2</th>\n",
       "      <td>23098_6</td>\n",
       "      <td>23098</td>\n",
       "      <td>6</td>\n",
       "      <td>-6.438</td>\n",
       "      <td>Q. What is orange and sounds like a parrot? A....</td>\n",
       "    </tr>\n",
       "    <tr>\n",
       "      <th>3</th>\n",
       "      <td>14273_86</td>\n",
       "      <td>14273</td>\n",
       "      <td>86</td>\n",
       "      <td>4.406</td>\n",
       "      <td>Two attorneys went into a diner and ordered tw...</td>\n",
       "    </tr>\n",
       "    <tr>\n",
       "      <th>4</th>\n",
       "      <td>18419_134</td>\n",
       "      <td>18419</td>\n",
       "      <td>134</td>\n",
       "      <td>9.375</td>\n",
       "      <td>A man is driving in the country one evening wh...</td>\n",
       "    </tr>\n",
       "  </tbody>\n",
       "</table>\n",
       "</div>"
      ],
      "text/plain": [
       "          id  user_id  joke_id  Rating  \\\n",
       "0  31030_110    31030      110   2.750   \n",
       "1  16144_109    16144      109   5.094   \n",
       "2    23098_6    23098        6  -6.438   \n",
       "3   14273_86    14273       86   4.406   \n",
       "4  18419_134    18419      134   9.375   \n",
       "\n",
       "                                           joke_text  \n",
       "0  Judy was having trouble with her computer, so ...  \n",
       "1  One day the first grade teacher was reading th...  \n",
       "2  Q. What is orange and sounds like a parrot? A....  \n",
       "3  Two attorneys went into a diner and ordered tw...  \n",
       "4  A man is driving in the country one evening wh...  "
      ]
     },
     "execution_count": 7,
     "metadata": {},
     "output_type": "execute_result"
    }
   ],
   "source": [
    "train.head()"
   ]
  },
  {
   "cell_type": "markdown",
   "metadata": {
    "id": "I1pP1gWe-MO9"
   },
   "source": [
    "# Data Viz"
   ]
  },
  {
   "cell_type": "code",
   "execution_count": 8,
   "metadata": {
    "colab": {
     "base_uri": "https://localhost:8080/"
    },
    "executionInfo": {
     "elapsed": 12616,
     "status": "ok",
     "timestamp": 1605003525161,
     "user": {
      "displayName": "Omar Souaidi",
      "photoUrl": "",
      "userId": "18313246010754186886"
     },
     "user_tz": -60
    },
    "id": "-ViuVvjd-BNK",
    "outputId": "2005ca48-5ef7-4ff6-9d98-1d56262602d4"
   },
   "outputs": [
    {
     "name": "stdout",
     "output_type": "stream",
     "text": [
      "An astronomer, a physicist and a mathematician (it is said) were holidaying in Scotland. Glancing from a train window, they observed a black sheep in the middle of a field. \"How interesting,\" observed the astronomer, \"All Scottish sheep are black!\" To which the physicist responded, \"No, no! Some Scottish sheep are black!\" The mathematician gazed heavenward in supplication, and then intoned, \"In Scotland there exists at least one field, containing at least one sheep, at least one side of which is black.\"\n",
      "\n",
      "Early one morning a mother went to her sleeping son and woke him up. \"Wake up, son. It's time to go to school.\" \"But why, Mama? I don't want to go to school.\" \"Give me two reasons why you don't want to go to school.\" \"One, all the children hate me. Two, all the teachers hate me.\" \"Oh, that's no reason. Come on, you have to go to school.\" \"Give me two good reasons why I should go to school.\" \"One, you are fifty-two years old. Two, you are the principal of the school.\"\n",
      "\n",
      "Out in the backwoods of some midwestern state, little Johnny arrives at school an hour late. Teacher: \"Why are you so late, John?\" Johny: \"My big brother got shot in the ass.\" (The teacher corrects his speech.) Teacher: \"Rectum.\" Johnny: \"Wrecked him!? Hell, It damn near killed him!\"\n",
      "\n",
      "Two men are discussing the age old question: who enjoys sex more, the man or the woman? A woman walks by and listens in for a while and then interrupts: \"Listen, you guys. You know when your ear itches and you put in your little finger and wiggle it around for a while? Afterward, which feels better, your finger or your ear?\"\n",
      "\n",
      "What does an atheist say during an orgasm? \"Oh Darwin! Oh Darwin!\"\n",
      "\n",
      "A man in a hot air balloon realized he was lost. He reduced altitude and spotted a woman below. He descended a bit more and shouted, \"Excuse me, can you help me? I promised a friend I would meet him an hour ago, but I don't know where I am.\" The woman below replied, \"You are in a hot air balloon hovering approximately 30 feet above the ground. You are between 40 and 41 degrees north latitude and between 59 and 60 degrees west longitude.\" \"You must be an engineer,\" said the balloonist. \"I am,\" replied the woman. \"How did you know?\" \"Well,\" answered the balloonist, \"everything you told me is technically correct, but I have no idea what to make of your information, and the fact is, I am still lost. Frankly, you've not been much help so far.\" The woman below responded, \"You must be in management.\" \"I am,\" replied the balloonist, \"but how did you know?\" \"Well,\" said the woman, \"you don't know where you are or where you are going. You have risen to where you are due to a large quantity of hot air. You made a promise that you have no idea how to keep, and you expect people beneath you to solve your problems. The fact is, you are in exactly the same position you were in before we met, but now, somehow, it's my fault!\"\n",
      "\n",
      "A man joins a big corporate empire as a trainee. On his very first day of work, he dials the pantry and shouts into the phone: \"Get me a coffee, quickly!\" The voice from the other side responds, \"You fool, you've dialed the wrong extension! Do you know who you're talking to, dumbo?\" \"No,\" replied the trainee. \"It's the CEO of the company, you fool!\" The trainee shouts back, \"And do YOU know who YOU are talking to, you fool?!\" \"No.\" replied the CEO indignantly. \"Good!\" replied the trainee, and puts down the phone.\n",
      "\n",
      "What's the difference between a Macintosh and an Etch-a-Sketch? You don't have to shake the Mac to clear the screen.\n",
      "\n",
      "Jack Bauer can get McDonald's breakfast after 10:30.\n",
      "\n",
      "Two atoms are walking down the street when one atom says to the other, \"Oh, my! I've lost an electron!\" The second atom says, \"Are you sure?\" The first replies, \"I'm positive!\"\n",
      "\n"
     ]
    }
   ],
   "source": [
    "## Display some jokes\n",
    "for joke in jokes.joke_text.sample(n=10):\n",
    "    print(joke)\n",
    "    print()"
   ]
  },
  {
   "cell_type": "code",
   "execution_count": 9,
   "metadata": {
    "colab": {
     "base_uri": "https://localhost:8080/",
     "height": 594
    },
    "executionInfo": {
     "elapsed": 12605,
     "status": "ok",
     "timestamp": 1605003525162,
     "user": {
      "displayName": "Omar Souaidi",
      "photoUrl": "",
      "userId": "18313246010754186886"
     },
     "user_tz": -60
    },
    "id": "NwinG9LQAzE4",
    "outputId": "d3e2aefe-663f-44ae-f11b-d0467e7ed620"
   },
   "outputs": [
    {
     "data": {
      "image/png": "[encoded data removed]",
      "text/plain": [
       "<Figure size 720x720 with 1 Axes>"
      ]
     },
     "metadata": {
      "needs_background": "light"
     },
     "output_type": "display_data"
    }
   ],
   "source": [
    "len_jokes = []\n",
    "for x in jokes.joke_text:\n",
    "    len_jokes.append(len(x.split()))\n",
    "plt.figure(figsize=(10,10))\n",
    "sns.set(style='darkgrid')\n",
    "plt.plot(np.arange(0,len(len_jokes)), len_jokes, '.')\n",
    "plt.ylabel('Number of word in a jokes')\n",
    "plt.show()"
   ]
  },
  {
   "cell_type": "code",
   "execution_count": 10,
   "metadata": {
    "colab": {
     "base_uri": "https://localhost:8080/",
     "height": 235
    },
    "executionInfo": {
     "elapsed": 12590,
     "status": "ok",
     "timestamp": 1605003525163,
     "user": {
      "displayName": "Omar Souaidi",
      "photoUrl": "",
      "userId": "18313246010754186886"
     },
     "user_tz": -60
    },
    "id": "zKsylWv4BoeG",
    "outputId": "563df009-7a82-4050-bde3-c8a468fe4cde"
   },
   "outputs": [
    {
     "data": {
      "text/html": [
       "<div>\n",
       "<style scoped>\n",
       "    .dataframe tbody tr th:only-of-type {\n",
       "        vertical-align: middle;\n",
       "    }\n",
       "\n",
       "    .dataframe tbody tr th {\n",
       "        vertical-align: top;\n",
       "    }\n",
       "\n",
       "    .dataframe thead th {\n",
       "        text-align: right;\n",
       "    }\n",
       "</style>\n",
       "<table border=\"1\" class=\"dataframe\">\n",
       "  <thead>\n",
       "    <tr style=\"text-align: right;\">\n",
       "      <th></th>\n",
       "      <th>Rating</th>\n",
       "    </tr>\n",
       "    <tr>\n",
       "      <th>joke_id</th>\n",
       "      <th></th>\n",
       "    </tr>\n",
       "  </thead>\n",
       "  <tbody>\n",
       "    <tr>\n",
       "      <th>1</th>\n",
       "      <td>-2.246770</td>\n",
       "    </tr>\n",
       "    <tr>\n",
       "      <th>2</th>\n",
       "      <td>-1.933251</td>\n",
       "    </tr>\n",
       "    <tr>\n",
       "      <th>3</th>\n",
       "      <td>-0.671942</td>\n",
       "    </tr>\n",
       "    <tr>\n",
       "      <th>4</th>\n",
       "      <td>-0.604674</td>\n",
       "    </tr>\n",
       "    <tr>\n",
       "      <th>5</th>\n",
       "      <td>-1.415667</td>\n",
       "    </tr>\n",
       "  </tbody>\n",
       "</table>\n",
       "</div>"
      ],
      "text/plain": [
       "           Rating\n",
       "joke_id          \n",
       "1       -2.246770\n",
       "2       -1.933251\n",
       "3       -0.671942\n",
       "4       -0.604674\n",
       "5       -1.415667"
      ]
     },
     "execution_count": 10,
     "metadata": {},
     "output_type": "execute_result"
    }
   ],
   "source": [
    "jokes_mean = train[['joke_id', 'joke_text', 'Rating']].groupby('joke_id').mean()\n",
    "jokes_mean.head()"
   ]
  },
  {
   "cell_type": "code",
   "execution_count": 11,
   "metadata": {
    "colab": {
     "base_uri": "https://localhost:8080/"
    },
    "executionInfo": {
     "elapsed": 12583,
     "status": "ok",
     "timestamp": 1605003525164,
     "user": {
      "displayName": "Omar Souaidi",
      "photoUrl": "",
      "userId": "18313246010754186886"
     },
     "user_tz": -60
    },
    "id": "RXJuhoX8CP5K",
    "outputId": "55c44d23-49bc-438d-fdc2-b9119743006c"
   },
   "outputs": [
    {
     "data": {
      "text/plain": [
       "count    139.000000\n",
       "mean       1.620978\n",
       "std        1.465558\n",
       "min       -2.734815\n",
       "25%        0.766440\n",
       "50%        1.865004\n",
       "75%        2.822265\n",
       "max        3.733667\n",
       "Name: Rating, dtype: float64"
      ]
     },
     "execution_count": 11,
     "metadata": {},
     "output_type": "execute_result"
    }
   ],
   "source": [
    "jokes_mean.Rating.describe()"
   ]
  },
  {
   "cell_type": "code",
   "execution_count": 12,
   "metadata": {
    "colab": {
     "base_uri": "https://localhost:8080/"
    },
    "executionInfo": {
     "elapsed": 13157,
     "status": "ok",
     "timestamp": 1605003525747,
     "user": {
      "displayName": "Omar Souaidi",
      "photoUrl": "",
      "userId": "18313246010754186886"
     },
     "user_tz": -60
    },
    "id": "yQthi5zPCrSf",
    "outputId": "34b83467-95d8-41ee-ea45-db00207920d5"
   },
   "outputs": [
    {
     "data": {
      "text/plain": [
       "count    1.092059e+06\n",
       "mean     1.758394e+00\n",
       "std      5.230860e+00\n",
       "min     -1.000000e+01\n",
       "25%     -1.719000e+00\n",
       "50%      2.344000e+00\n",
       "75%      5.781000e+00\n",
       "max      1.000000e+01\n",
       "Name: Rating, dtype: float64"
      ]
     },
     "execution_count": 12,
     "metadata": {},
     "output_type": "execute_result"
    }
   ],
   "source": [
    "train.Rating.describe()"
   ]
  },
  {
   "cell_type": "markdown",
   "metadata": {
    "id": "9opNk6e_C0GB"
   },
   "source": [
    "Just by seing these figures, we can notice that not everyone shares the same sense of humour haha"
   ]
  },
  {
   "cell_type": "code",
   "execution_count": 13,
   "metadata": {
    "colab": {
     "base_uri": "https://localhost:8080/",
     "height": 235
    },
    "executionInfo": {
     "elapsed": 13152,
     "status": "ok",
     "timestamp": 1605003525751,
     "user": {
      "displayName": "Omar Souaidi",
      "photoUrl": "",
      "userId": "18313246010754186886"
     },
     "user_tz": -60
    },
    "id": "BsimCRQxi5Jx",
    "outputId": "a67a8ab0-1a56-45c1-8b7a-2234ac74d9a9"
   },
   "outputs": [
    {
     "data": {
      "text/html": [
       "<div>\n",
       "<style scoped>\n",
       "    .dataframe tbody tr th:only-of-type {\n",
       "        vertical-align: middle;\n",
       "    }\n",
       "\n",
       "    .dataframe tbody tr th {\n",
       "        vertical-align: top;\n",
       "    }\n",
       "\n",
       "    .dataframe thead th {\n",
       "        text-align: right;\n",
       "    }\n",
       "</style>\n",
       "<table border=\"1\" class=\"dataframe\">\n",
       "  <thead>\n",
       "    <tr style=\"text-align: right;\">\n",
       "      <th></th>\n",
       "      <th>Rating</th>\n",
       "      <th>number_of_ratings</th>\n",
       "    </tr>\n",
       "    <tr>\n",
       "      <th>joke_id</th>\n",
       "      <th></th>\n",
       "      <th></th>\n",
       "    </tr>\n",
       "  </thead>\n",
       "  <tbody>\n",
       "    <tr>\n",
       "      <th>1</th>\n",
       "      <td>-2.246770</td>\n",
       "      <td>387</td>\n",
       "    </tr>\n",
       "    <tr>\n",
       "      <th>2</th>\n",
       "      <td>-1.933251</td>\n",
       "      <td>27361</td>\n",
       "    </tr>\n",
       "    <tr>\n",
       "      <th>3</th>\n",
       "      <td>-0.671942</td>\n",
       "      <td>27369</td>\n",
       "    </tr>\n",
       "    <tr>\n",
       "      <th>4</th>\n",
       "      <td>-0.604674</td>\n",
       "      <td>27368</td>\n",
       "    </tr>\n",
       "    <tr>\n",
       "      <th>5</th>\n",
       "      <td>-1.415667</td>\n",
       "      <td>27402</td>\n",
       "    </tr>\n",
       "  </tbody>\n",
       "</table>\n",
       "</div>"
      ],
      "text/plain": [
       "           Rating  number_of_ratings\n",
       "joke_id                             \n",
       "1       -2.246770                387\n",
       "2       -1.933251              27361\n",
       "3       -0.671942              27369\n",
       "4       -0.604674              27368\n",
       "5       -1.415667              27402"
      ]
     },
     "execution_count": 13,
     "metadata": {},
     "output_type": "execute_result"
    }
   ],
   "source": [
    "jokes_mean['number_of_ratings'] = train.groupby('joke_id')['Rating'].count()\n",
    "jokes_mean.head()"
   ]
  },
  {
   "cell_type": "code",
   "execution_count": 14,
   "metadata": {
    "colab": {
     "base_uri": "https://localhost:8080/",
     "height": 628
    },
    "executionInfo": {
     "elapsed": 13145,
     "status": "ok",
     "timestamp": 1605003525752,
     "user": {
      "displayName": "Omar Souaidi",
      "photoUrl": "",
      "userId": "18313246010754186886"
     },
     "user_tz": -60
    },
    "id": "adJYnUbIjV0n",
    "outputId": "e27ed2fc-c063-4f7d-8d67-6c224ea830ef"
   },
   "outputs": [
    {
     "data": {
      "text/plain": [
       "Text(0, 0.5, 'Proportion')"
      ]
     },
     "execution_count": 14,
     "metadata": {},
     "output_type": "execute_result"
    },
    {
     "data": {
      "image/png": "[encoded data removed]",
      "text/plain": [
       "<Figure size 720x720 with 1 Axes>"
      ]
     },
     "metadata": {},
     "output_type": "display_data"
    }
   ],
   "source": [
    "plt.figure(figsize=(10,10))\n",
    "jokes_mean['Rating'].hist(bins=50)\n",
    "plt.xlabel('Average rating')\n",
    "plt.ylabel('Proportion')"
   ]
  },
  {
   "cell_type": "code",
   "execution_count": 15,
   "metadata": {
    "colab": {
     "base_uri": "https://localhost:8080/",
     "height": 628
    },
    "executionInfo": {
     "elapsed": 14397,
     "status": "ok",
     "timestamp": 1605003527015,
     "user": {
      "displayName": "Omar Souaidi",
      "photoUrl": "",
      "userId": "18313246010754186886"
     },
     "user_tz": -60
    },
    "id": "vZ3K0ELmj2z6",
    "outputId": "49f410e8-b9d7-4193-c7b7-50483a0e87d7"
   },
   "outputs": [
    {
     "data": {
      "text/plain": [
       "Text(0, 0.5, 'Proportion')"
      ]
     },
     "execution_count": 15,
     "metadata": {},
     "output_type": "execute_result"
    },
    {
     "data": {
      "image/png": "[encoded data removed]",
      "text/plain": [
       "<Figure size 720x720 with 1 Axes>"
      ]
     },
     "metadata": {},
     "output_type": "display_data"
    }
   ],
   "source": [
    "plt.figure(figsize=(10,10))\n",
    "jokes_mean['number_of_ratings'].hist(bins=70)\n",
    "plt.xlabel('Number of rating')\n",
    "plt.ylabel('Proportion')"
   ]
  },
  {
   "cell_type": "markdown",
   "metadata": {
    "id": "63S8J2grkEMZ"
   },
   "source": [
    "Most jokes have few ratings and the jokes with the most ratings are probably 'common jokes'"
   ]
  },
  {
   "cell_type": "code",
   "execution_count": 16,
   "metadata": {
    "colab": {
     "base_uri": "https://localhost:8080/",
     "height": 454
    },
    "executionInfo": {
     "elapsed": 15024,
     "status": "ok",
     "timestamp": 1605003527653,
     "user": {
      "displayName": "Omar Souaidi",
      "photoUrl": "",
      "userId": "18313246010754186886"
     },
     "user_tz": -60
    },
    "id": "yuQza8oHkQlv",
    "outputId": "522118bf-df92-48ff-c5f9-aca0f41e8130"
   },
   "outputs": [
    {
     "data": {
      "text/plain": [
       "<seaborn.axisgrid.JointGrid at 0x7fc204f94b20>"
      ]
     },
     "execution_count": 16,
     "metadata": {},
     "output_type": "execute_result"
    },
    {
     "data": {
      "image/png": "[encoded data removed]",
      "text/plain": [
       "<Figure size 432x432 with 3 Axes>"
      ]
     },
     "metadata": {},
     "output_type": "display_data"
    }
   ],
   "source": [
    "sns.jointplot(x='Rating', y='number_of_ratings', data=jokes_mean)"
   ]
  },
  {
   "cell_type": "markdown",
   "metadata": {
    "id": "ZVH3hnglkm0G"
   },
   "source": [
    "From the diagram we can see that their is a positive relationship between the average rating of a joke and the number of ratings (with some exception). The graph indicates that the more the ratings a jokes gets the higher the average rating it gets. This is important to note especially when choosing the threshold for the number of ratings per jokes."
   ]
  },
  {
   "cell_type": "markdown",
   "metadata": {
    "id": "bEgu8mXRk22I"
   },
   "source": [
    "# Matrix for recommender system"
   ]
  },
  {
   "cell_type": "code",
   "execution_count": 17,
   "metadata": {
    "colab": {
     "base_uri": "https://localhost:8080/",
     "height": 284
    },
    "executionInfo": {
     "elapsed": 2371,
     "status": "ok",
     "timestamp": 1605003534647,
     "user": {
      "displayName": "Omar Souaidi",
      "photoUrl": "",
      "userId": "18313246010754186886"
     },
     "user_tz": -60
    },
    "id": "dC5rVXEUkz7P",
    "outputId": "a5e515c4-4045-4562-c639-13aca3ae515a"
   },
   "outputs": [
    {
     "data": {
      "text/html": [
       "<div>\n",
       "<style scoped>\n",
       "    .dataframe tbody tr th:only-of-type {\n",
       "        vertical-align: middle;\n",
       "    }\n",
       "\n",
       "    .dataframe tbody tr th {\n",
       "        vertical-align: top;\n",
       "    }\n",
       "\n",
       "    .dataframe thead th {\n",
       "        text-align: right;\n",
       "    }\n",
       "</style>\n",
       "<table border=\"1\" class=\"dataframe\">\n",
       "  <thead>\n",
       "    <tr style=\"text-align: right;\">\n",
       "      <th>joke_id</th>\n",
       "      <th>1</th>\n",
       "      <th>2</th>\n",
       "      <th>3</th>\n",
       "      <th>4</th>\n",
       "      <th>5</th>\n",
       "      <th>6</th>\n",
       "      <th>7</th>\n",
       "      <th>8</th>\n",
       "      <th>9</th>\n",
       "      <th>10</th>\n",
       "      <th>...</th>\n",
       "      <th>130</th>\n",
       "      <th>131</th>\n",
       "      <th>132</th>\n",
       "      <th>133</th>\n",
       "      <th>134</th>\n",
       "      <th>135</th>\n",
       "      <th>136</th>\n",
       "      <th>137</th>\n",
       "      <th>138</th>\n",
       "      <th>139</th>\n",
       "    </tr>\n",
       "    <tr>\n",
       "      <th>user_id</th>\n",
       "      <th></th>\n",
       "      <th></th>\n",
       "      <th></th>\n",
       "      <th></th>\n",
       "      <th></th>\n",
       "      <th></th>\n",
       "      <th></th>\n",
       "      <th></th>\n",
       "      <th></th>\n",
       "      <th></th>\n",
       "      <th></th>\n",
       "      <th></th>\n",
       "      <th></th>\n",
       "      <th></th>\n",
       "      <th></th>\n",
       "      <th></th>\n",
       "      <th></th>\n",
       "      <th></th>\n",
       "      <th></th>\n",
       "      <th></th>\n",
       "      <th></th>\n",
       "    </tr>\n",
       "  </thead>\n",
       "  <tbody>\n",
       "    <tr>\n",
       "      <th>1</th>\n",
       "      <td>0.219</td>\n",
       "      <td>-9.281</td>\n",
       "      <td>NaN</td>\n",
       "      <td>-6.781</td>\n",
       "      <td>0.875</td>\n",
       "      <td>-9.656</td>\n",
       "      <td>-9.031</td>\n",
       "      <td>-7.469</td>\n",
       "      <td>-8.719</td>\n",
       "      <td>NaN</td>\n",
       "      <td>...</td>\n",
       "      <td>NaN</td>\n",
       "      <td>NaN</td>\n",
       "      <td>NaN</td>\n",
       "      <td>NaN</td>\n",
       "      <td>NaN</td>\n",
       "      <td>NaN</td>\n",
       "      <td>NaN</td>\n",
       "      <td>NaN</td>\n",
       "      <td>NaN</td>\n",
       "      <td>NaN</td>\n",
       "    </tr>\n",
       "    <tr>\n",
       "      <th>2</th>\n",
       "      <td>-9.688</td>\n",
       "      <td>9.938</td>\n",
       "      <td>9.531</td>\n",
       "      <td>9.938</td>\n",
       "      <td>0.406</td>\n",
       "      <td>NaN</td>\n",
       "      <td>9.656</td>\n",
       "      <td>NaN</td>\n",
       "      <td>NaN</td>\n",
       "      <td>-9.125</td>\n",
       "      <td>...</td>\n",
       "      <td>NaN</td>\n",
       "      <td>NaN</td>\n",
       "      <td>NaN</td>\n",
       "      <td>NaN</td>\n",
       "      <td>NaN</td>\n",
       "      <td>NaN</td>\n",
       "      <td>NaN</td>\n",
       "      <td>NaN</td>\n",
       "      <td>NaN</td>\n",
       "      <td>NaN</td>\n",
       "    </tr>\n",
       "    <tr>\n",
       "      <th>3</th>\n",
       "      <td>NaN</td>\n",
       "      <td>NaN</td>\n",
       "      <td>-7.219</td>\n",
       "      <td>-2.031</td>\n",
       "      <td>-9.938</td>\n",
       "      <td>NaN</td>\n",
       "      <td>NaN</td>\n",
       "      <td>-9.812</td>\n",
       "      <td>-9.781</td>\n",
       "      <td>NaN</td>\n",
       "      <td>...</td>\n",
       "      <td>NaN</td>\n",
       "      <td>NaN</td>\n",
       "      <td>NaN</td>\n",
       "      <td>NaN</td>\n",
       "      <td>NaN</td>\n",
       "      <td>NaN</td>\n",
       "      <td>NaN</td>\n",
       "      <td>NaN</td>\n",
       "      <td>NaN</td>\n",
       "      <td>NaN</td>\n",
       "    </tr>\n",
       "    <tr>\n",
       "      <th>4</th>\n",
       "      <td>6.906</td>\n",
       "      <td>NaN</td>\n",
       "      <td>-5.906</td>\n",
       "      <td>NaN</td>\n",
       "      <td>NaN</td>\n",
       "      <td>3.875</td>\n",
       "      <td>6.219</td>\n",
       "      <td>NaN</td>\n",
       "      <td>6.094</td>\n",
       "      <td>5.406</td>\n",
       "      <td>...</td>\n",
       "      <td>NaN</td>\n",
       "      <td>NaN</td>\n",
       "      <td>NaN</td>\n",
       "      <td>NaN</td>\n",
       "      <td>NaN</td>\n",
       "      <td>NaN</td>\n",
       "      <td>NaN</td>\n",
       "      <td>NaN</td>\n",
       "      <td>NaN</td>\n",
       "      <td>NaN</td>\n",
       "    </tr>\n",
       "    <tr>\n",
       "      <th>5</th>\n",
       "      <td>-0.031</td>\n",
       "      <td>NaN</td>\n",
       "      <td>NaN</td>\n",
       "      <td>7.500</td>\n",
       "      <td>-7.219</td>\n",
       "      <td>NaN</td>\n",
       "      <td>NaN</td>\n",
       "      <td>NaN</td>\n",
       "      <td>3.656</td>\n",
       "      <td>NaN</td>\n",
       "      <td>...</td>\n",
       "      <td>NaN</td>\n",
       "      <td>NaN</td>\n",
       "      <td>NaN</td>\n",
       "      <td>NaN</td>\n",
       "      <td>NaN</td>\n",
       "      <td>NaN</td>\n",
       "      <td>NaN</td>\n",
       "      <td>NaN</td>\n",
       "      <td>NaN</td>\n",
       "      <td>NaN</td>\n",
       "    </tr>\n",
       "  </tbody>\n",
       "</table>\n",
       "<p>5 rows × 139 columns</p>\n",
       "</div>"
      ],
      "text/plain": [
       "joke_id    1      2      3      4      5      6      7      8      9      10   \\\n",
       "user_id                                                                         \n",
       "1        0.219 -9.281    NaN -6.781  0.875 -9.656 -9.031 -7.469 -8.719    NaN   \n",
       "2       -9.688  9.938  9.531  9.938  0.406    NaN  9.656    NaN    NaN -9.125   \n",
       "3          NaN    NaN -7.219 -2.031 -9.938    NaN    NaN -9.812 -9.781    NaN   \n",
       "4        6.906    NaN -5.906    NaN    NaN  3.875  6.219    NaN  6.094  5.406   \n",
       "5       -0.031    NaN    NaN  7.500 -7.219    NaN    NaN    NaN  3.656    NaN   \n",
       "\n",
       "joke_id  ...  130  131  132  133  134  135  136  137  138  139  \n",
       "user_id  ...                                                    \n",
       "1        ...  NaN  NaN  NaN  NaN  NaN  NaN  NaN  NaN  NaN  NaN  \n",
       "2        ...  NaN  NaN  NaN  NaN  NaN  NaN  NaN  NaN  NaN  NaN  \n",
       "3        ...  NaN  NaN  NaN  NaN  NaN  NaN  NaN  NaN  NaN  NaN  \n",
       "4        ...  NaN  NaN  NaN  NaN  NaN  NaN  NaN  NaN  NaN  NaN  \n",
       "5        ...  NaN  NaN  NaN  NaN  NaN  NaN  NaN  NaN  NaN  NaN  \n",
       "\n",
       "[5 rows x 139 columns]"
      ]
     },
     "execution_count": 17,
     "metadata": {},
     "output_type": "execute_result"
    }
   ],
   "source": [
    "jokes_matrix = train.pivot_table(index='user_id', columns='joke_id', values='Rating')\n",
    "jokes_matrix.head()"
   ]
  },
  {
   "cell_type": "markdown",
   "metadata": {
    "id": "dTgHRUWkmtUU"
   },
   "source": [
    "# Basic Collaborative filtering Algorithm"
   ]
  },
  {
   "cell_type": "markdown",
   "metadata": {
    "id": "OuRy-ib_payM"
   },
   "source": [
    "## Surprise"
   ]
  },
  {
   "cell_type": "code",
   "execution_count": 18,
   "metadata": {
    "executionInfo": {
     "elapsed": 1002,
     "status": "ok",
     "timestamp": 1605003537444,
     "user": {
      "displayName": "Omar Souaidi",
      "photoUrl": "",
      "userId": "18313246010754186886"
     },
     "user_tz": -60
    },
    "id": "6DOMLCdfmxJR"
   },
   "outputs": [],
   "source": [
    "from surprise import Dataset\n",
    "from surprise import Reader\n",
    "from surprise.model_selection import cross_validate\n",
    "from surprise.model_selection import GridSearchCV\n",
    "from surprise import KNNBasic, KNNWithMeans, KNNWithZScore\n",
    "from surprise import SVD, SVDpp, NMF\n",
    "from surprise import SlopeOne, CoClustering"
   ]
  },
  {
   "cell_type": "code",
   "execution_count": 19,
   "metadata": {
    "executionInfo": {
     "elapsed": 2297,
     "status": "ok",
     "timestamp": 1605003541103,
     "user": {
      "displayName": "Omar Souaidi",
      "photoUrl": "",
      "userId": "18313246010754186886"
     },
     "user_tz": -60
    },
    "id": "PzieBkwKpdN1"
   },
   "outputs": [],
   "source": [
    "# Set Rating Scale\n",
    "reader = Reader(rating_scale=(-10, 10))\n",
    "\n",
    "# Load data with rating scale\n",
    "data = Dataset.load_from_df(train[['user_id', 'joke_id', 'Rating']], reader)"
   ]
  },
  {
   "cell_type": "markdown",
   "metadata": {
    "id": "LguI50-4puA1"
   },
   "source": [
    "### k-NN Based Algorithm"
   ]
  },
  {
   "cell_type": "code",
   "execution_count": 20,
   "metadata": {
    "colab": {
     "base_uri": "https://localhost:8080/",
     "height": 392
    },
    "executionInfo": {
     "elapsed": 53222,
     "status": "error",
     "timestamp": 1605003597400,
     "user": {
      "displayName": "Omar Souaidi",
      "photoUrl": "",
      "userId": "18313246010754186886"
     },
     "user_tz": -60
    },
    "id": "jHR2ppMEp8MA",
    "outputId": "03e6d5fd-7b65-4164-c17e-ffb4eb198de2"
   },
   "outputs": [],
   "source": [
    "#knnmeans_cv = cross_validate(KNNWithMeans(), data, cv=2, n_jobs=1, verbose=False)  ## Too slow ..\n",
    "#knnz_cv = cross_validate(KNNWithZScore(), data, cv=2, n_jobs=1, verbose=False) ## Too slow because of the testing..."
   ]
  },
  {
   "cell_type": "markdown",
   "metadata": {},
   "source": [
    "### Matrix Factorization"
   ]
  },
  {
   "cell_type": "code",
   "execution_count": 21,
   "metadata": {},
   "outputs": [],
   "source": [
    "## SVD\n",
    "svd_cv = cross_validate(SVD(), data, cv=2, n_jobs=1, verbose=False)\n",
    "svdpp_cv = cross_validate(SVDpp(), data, cv=2, n_jobs=1, verbose=False)"
   ]
  },
  {
   "cell_type": "markdown",
   "metadata": {},
   "source": [
    "### Others"
   ]
  },
  {
   "cell_type": "code",
   "execution_count": 22,
   "metadata": {},
   "outputs": [],
   "source": [
    "coclus_cv = cross_validate(CoClustering(), data, cv=2, n_jobs=1, verbose=False)"
   ]
  },
  {
   "cell_type": "code",
   "execution_count": 23,
   "metadata": {},
   "outputs": [
    {
     "name": "stdout",
     "output_type": "stream",
     "text": [
      "Algorithm\t RMSE\t\t MAE\n",
      "\n",
      "\n",
      "SVD \t\t 4.3055 \t 3.2854\n",
      "SVDpp \t\t 5.0076 \t 3.7405\n",
      "\n",
      "CoClustering \t 4.3952 \t 3.368\n",
      "\n"
     ]
    }
   ],
   "source": [
    "print('Algorithm\\t RMSE\\t\\t MAE')\n",
    "print()\n",
    "# print('KNN Means', '\\t', round(knnmeans_cv['test_rmse'].mean(), 4), '\\t', round(knnmeans_cv['test_mae'].mean(), 4))\n",
    "# print('KNN ZScore', '\\t', round(knnz_cv['test_rmse'].mean(), 4), '\\t', round(knnz_cv['test_mae'].mean(), 4)) too slow ..\n",
    "print()\n",
    "print('SVD', '\\t\\t', round(svd_cv['test_rmse'].mean(), 4), '\\t', round(svd_cv['test_mae'].mean(), 4))\n",
    "print('SVDpp', '\\t\\t', round(svdpp_cv['test_rmse'].mean(), 4), '\\t', round(svdpp_cv['test_mae'].mean(), 4))\n",
    "\n",
    "print()\n",
    "print('CoClustering', '\\t', round(coclus_cv['test_rmse'].mean(), 4), '\\t', round(coclus_cv['test_mae'].mean(), 4))\n",
    "print()"
   ]
  },
  {
   "cell_type": "markdown",
   "metadata": {},
   "source": [
    "As SVD has the least RMSE value we will tune the hyper-parameters of SVD."
   ]
  },
  {
   "cell_type": "markdown",
   "metadata": {
    "id": "z-Zivbupm6cJ"
   },
   "source": [
    "### SVD (Singular Value Decomposition)"
   ]
  },
  {
   "cell_type": "code",
   "execution_count": 25,
   "metadata": {},
   "outputs": [
    {
     "name": "stdout",
     "output_type": "stream",
     "text": [
      "4.179296358450363\n",
      "{'n_factors': 100, 'n_epochs': 20, 'lr_all': 0.002, 'reg_all': 0.1}\n"
     ]
    }
   ],
   "source": [
    "# Parameter space\n",
    "svd_param_grid = {'n_factors' : [40, 70, 100],\n",
    "                  'n_epochs': [20, 25], \n",
    "                  'lr_all': [0.002, 0.005, 0.009, 0.01],\n",
    "                  'reg_all': [0.01, 0.05, 0.10]}\n",
    "gs = GridSearchCV(SVD, svd_param_grid, measures=['rmse', 'mae'], cv=2, refit=True) ## I can only 2 cv\n",
    "gs.fit(data) \n",
    "algo = gs.best_estimator['rmse']\n",
    "print(gs.best_score['rmse']) \n",
    "print(gs.best_params['rmse'])\n",
    "#Assigning values\n",
    "t = gs.best_params \n",
    "factors = t['rmse']['n_factors']\n",
    "epochs = t['rmse']['n_epochs'] \n",
    "lr_value = t['rmse']['lr_all']\n",
    "reg_value = t['rmse']['reg_all']"
   ]
  },
  {
   "cell_type": "code",
   "execution_count": 35,
   "metadata": {},
   "outputs": [],
   "source": [
    "predictions = []\n",
    "for idx, row in test.iterrows():\n",
    "    uid, iid = row['user_id'], row['joke_id']\n",
    "    predictions.append(algo.predict(uid=uid, iid=iid).est)"
   ]
  },
  {
   "cell_type": "code",
   "execution_count": 37,
   "metadata": {},
   "outputs": [],
   "source": [
    "test['Rating'] = predictions\n",
    "test[['id', 'Rating']].to_csv('sub_svd.csv', index=False)"
   ]
  },
  {
   "cell_type": "markdown",
   "metadata": {},
   "source": [
    "Score of 4.0432"
   ]
  }
 ],
 "metadata": {
  "colab": {
   "authorship_tag": "ABX9TyOG6YgjLbSQzOvswltIh/G1",
   "collapsed_sections": [],
   "name": "Untitled0.ipynb",
   "provenance": []
  },
  "kernelspec": {
   "display_name": "Python 3",
   "language": "python",
   "name": "python3"
  },
  "language_info": {
   "codemirror_mode": {
    "name": "ipython",
    "version": 3
   },
   "file_extension": ".py",
   "mimetype": "text/x-python",
   "name": "python",
   "nbconvert_exporter": "python",
   "pygments_lexer": "ipython3",
   "version": "3.8.3"
  }
 },
 "nbformat": 4,
 "nbformat_minor": 1
}
