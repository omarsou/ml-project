{
 "cells": [
  {
   "cell_type": "code",
   "execution_count": null,
   "metadata": {
    "colab": {
     "base_uri": "https://localhost:8080/"
    },
    "executionInfo": {
     "elapsed": 768,
     "status": "ok",
     "timestamp": 1605023357512,
     "user": {
      "displayName": "Omar Souaidi",
      "photoUrl": "",
      "userId": "18313246010754186886"
     },
     "user_tz": -60
    },
    "id": "etlgWOcs9juP",
    "outputId": "7487e8d8-6712-4d0b-dd0a-dc260532513c"
   },
   "outputs": [
    {
     "name": "stdout",
     "output_type": "stream",
     "text": [
      "Drive already mounted at /content/drive; to attempt to forcibly remount, call drive.mount(\"/content/drive\", force_remount=True).\n"
     ]
    }
   ],
   "source": [
    "import pandas as pd\n",
    "import numpy as np\n",
    "import matplotlib.pyplot as plt\n",
    "import seaborn as sns\n",
    "from google.colab import drive\n",
    "drive.mount(\"/content/drive\")"
   ]
  },
  {
   "cell_type": "code",
   "execution_count": null,
   "metadata": {
    "id": "staVQRqs-PZU"
   },
   "outputs": [],
   "source": [
    "train = pd.read_csv('/content/drive/My Drive/Jokes_Rating/train.csv')\n",
    "jokes = pd.read_csv('/content/drive/My Drive/Jokes_Rating/jokes.csv')\n",
    "test = pd.read_csv('/content/drive/My Drive/Jokes_Rating/test.csv')"
   ]
  },
  {
   "cell_type": "code",
   "execution_count": null,
   "metadata": {
    "colab": {
     "base_uri": "https://localhost:8080/",
     "height": 204
    },
    "executionInfo": {
     "elapsed": 690,
     "status": "ok",
     "timestamp": 1605010679208,
     "user": {
      "displayName": "Omar Souaidi",
      "photoUrl": "",
      "userId": "18313246010754186886"
     },
     "user_tz": -60
    },
    "id": "mOSvWQ92-iGR",
    "outputId": "8ed4ef0b-5c1f-45da-b466-4bdf6d3d86f9"
   },
   "outputs": [
    {
     "data": {
      "text/html": [
       "<div>\n",
       "<style scoped>\n",
       "    .dataframe tbody tr th:only-of-type {\n",
       "        vertical-align: middle;\n",
       "    }\n",
       "\n",
       "    .dataframe tbody tr th {\n",
       "        vertical-align: top;\n",
       "    }\n",
       "\n",
       "    .dataframe thead th {\n",
       "        text-align: right;\n",
       "    }\n",
       "</style>\n",
       "<table border=\"1\" class=\"dataframe\">\n",
       "  <thead>\n",
       "    <tr style=\"text-align: right;\">\n",
       "      <th></th>\n",
       "      <th>id</th>\n",
       "      <th>user_id</th>\n",
       "      <th>joke_id</th>\n",
       "      <th>Rating</th>\n",
       "    </tr>\n",
       "  </thead>\n",
       "  <tbody>\n",
       "    <tr>\n",
       "      <th>0</th>\n",
       "      <td>31030_110</td>\n",
       "      <td>31030</td>\n",
       "      <td>110</td>\n",
       "      <td>2.750</td>\n",
       "    </tr>\n",
       "    <tr>\n",
       "      <th>1</th>\n",
       "      <td>16144_109</td>\n",
       "      <td>16144</td>\n",
       "      <td>109</td>\n",
       "      <td>5.094</td>\n",
       "    </tr>\n",
       "    <tr>\n",
       "      <th>2</th>\n",
       "      <td>23098_6</td>\n",
       "      <td>23098</td>\n",
       "      <td>6</td>\n",
       "      <td>-6.438</td>\n",
       "    </tr>\n",
       "    <tr>\n",
       "      <th>3</th>\n",
       "      <td>14273_86</td>\n",
       "      <td>14273</td>\n",
       "      <td>86</td>\n",
       "      <td>4.406</td>\n",
       "    </tr>\n",
       "    <tr>\n",
       "      <th>4</th>\n",
       "      <td>18419_134</td>\n",
       "      <td>18419</td>\n",
       "      <td>134</td>\n",
       "      <td>9.375</td>\n",
       "    </tr>\n",
       "  </tbody>\n",
       "</table>\n",
       "</div>"
      ],
      "text/plain": [
       "          id  user_id  joke_id  Rating\n",
       "0  31030_110    31030      110   2.750\n",
       "1  16144_109    16144      109   5.094\n",
       "2    23098_6    23098        6  -6.438\n",
       "3   14273_86    14273       86   4.406\n",
       "4  18419_134    18419      134   9.375"
      ]
     },
     "execution_count": 3,
     "metadata": {
      "tags": []
     },
     "output_type": "execute_result"
    }
   ],
   "source": [
    "train.head()"
   ]
  },
  {
   "cell_type": "code",
   "execution_count": null,
   "metadata": {
    "colab": {
     "base_uri": "https://localhost:8080/",
     "height": 204
    },
    "executionInfo": {
     "elapsed": 577,
     "status": "ok",
     "timestamp": 1605010680742,
     "user": {
      "displayName": "Omar Souaidi",
      "photoUrl": "",
      "userId": "18313246010754186886"
     },
     "user_tz": -60
    },
    "id": "v2tBpJPN-lus",
    "outputId": "51a3fe69-6ebd-4327-f19c-8789a6367a7c"
   },
   "outputs": [
    {
     "data": {
      "text/html": [
       "<div>\n",
       "<style scoped>\n",
       "    .dataframe tbody tr th:only-of-type {\n",
       "        vertical-align: middle;\n",
       "    }\n",
       "\n",
       "    .dataframe tbody tr th {\n",
       "        vertical-align: top;\n",
       "    }\n",
       "\n",
       "    .dataframe thead th {\n",
       "        text-align: right;\n",
       "    }\n",
       "</style>\n",
       "<table border=\"1\" class=\"dataframe\">\n",
       "  <thead>\n",
       "    <tr style=\"text-align: right;\">\n",
       "      <th></th>\n",
       "      <th>joke_id</th>\n",
       "      <th>joke_text</th>\n",
       "    </tr>\n",
       "  </thead>\n",
       "  <tbody>\n",
       "    <tr>\n",
       "      <th>0</th>\n",
       "      <td>1</td>\n",
       "      <td>Q. What's O. J. Simpson's web address? A. Slas...</td>\n",
       "    </tr>\n",
       "    <tr>\n",
       "      <th>1</th>\n",
       "      <td>2</td>\n",
       "      <td>How many feminists does it take to screw in a ...</td>\n",
       "    </tr>\n",
       "    <tr>\n",
       "      <th>2</th>\n",
       "      <td>3</td>\n",
       "      <td>Q. Did you hear about the dyslexic devil worsh...</td>\n",
       "    </tr>\n",
       "    <tr>\n",
       "      <th>3</th>\n",
       "      <td>4</td>\n",
       "      <td>They asked the Japanese visitor if they have e...</td>\n",
       "    </tr>\n",
       "    <tr>\n",
       "      <th>4</th>\n",
       "      <td>5</td>\n",
       "      <td>Q: What did the blind person say when given so...</td>\n",
       "    </tr>\n",
       "  </tbody>\n",
       "</table>\n",
       "</div>"
      ],
      "text/plain": [
       "   joke_id                                          joke_text\n",
       "0        1  Q. What's O. J. Simpson's web address? A. Slas...\n",
       "1        2  How many feminists does it take to screw in a ...\n",
       "2        3  Q. Did you hear about the dyslexic devil worsh...\n",
       "3        4  They asked the Japanese visitor if they have e...\n",
       "4        5  Q: What did the blind person say when given so..."
      ]
     },
     "execution_count": 4,
     "metadata": {
      "tags": []
     },
     "output_type": "execute_result"
    }
   ],
   "source": [
    "jokes.head()"
   ]
  },
  {
   "cell_type": "code",
   "execution_count": null,
   "metadata": {
    "id": "f2jnB6Bo-5-q"
   },
   "outputs": [],
   "source": [
    "train['joke_text'] = train[['joke_id']].merge(jokes, how='left')['joke_text']"
   ]
  },
  {
   "cell_type": "code",
   "execution_count": null,
   "metadata": {
    "colab": {
     "base_uri": "https://localhost:8080/",
     "height": 204
    },
    "executionInfo": {
     "elapsed": 553,
     "status": "ok",
     "timestamp": 1605010685199,
     "user": {
      "displayName": "Omar Souaidi",
      "photoUrl": "",
      "userId": "18313246010754186886"
     },
     "user_tz": -60
    },
    "id": "jYx6d7yc_aDl",
    "outputId": "55debfa1-31a9-4553-ce7d-2d1492368427"
   },
   "outputs": [
    {
     "data": {
      "text/html": [
       "<div>\n",
       "<style scoped>\n",
       "    .dataframe tbody tr th:only-of-type {\n",
       "        vertical-align: middle;\n",
       "    }\n",
       "\n",
       "    .dataframe tbody tr th {\n",
       "        vertical-align: top;\n",
       "    }\n",
       "\n",
       "    .dataframe thead th {\n",
       "        text-align: right;\n",
       "    }\n",
       "</style>\n",
       "<table border=\"1\" class=\"dataframe\">\n",
       "  <thead>\n",
       "    <tr style=\"text-align: right;\">\n",
       "      <th></th>\n",
       "      <th>id</th>\n",
       "      <th>user_id</th>\n",
       "      <th>joke_id</th>\n",
       "      <th>Rating</th>\n",
       "      <th>joke_text</th>\n",
       "    </tr>\n",
       "  </thead>\n",
       "  <tbody>\n",
       "    <tr>\n",
       "      <th>0</th>\n",
       "      <td>31030_110</td>\n",
       "      <td>31030</td>\n",
       "      <td>110</td>\n",
       "      <td>2.750</td>\n",
       "      <td>Judy was having trouble with her computer, so ...</td>\n",
       "    </tr>\n",
       "    <tr>\n",
       "      <th>1</th>\n",
       "      <td>16144_109</td>\n",
       "      <td>16144</td>\n",
       "      <td>109</td>\n",
       "      <td>5.094</td>\n",
       "      <td>One day the first grade teacher was reading th...</td>\n",
       "    </tr>\n",
       "    <tr>\n",
       "      <th>2</th>\n",
       "      <td>23098_6</td>\n",
       "      <td>23098</td>\n",
       "      <td>6</td>\n",
       "      <td>-6.438</td>\n",
       "      <td>Q. What is orange and sounds like a parrot? A....</td>\n",
       "    </tr>\n",
       "    <tr>\n",
       "      <th>3</th>\n",
       "      <td>14273_86</td>\n",
       "      <td>14273</td>\n",
       "      <td>86</td>\n",
       "      <td>4.406</td>\n",
       "      <td>Two attorneys went into a diner and ordered tw...</td>\n",
       "    </tr>\n",
       "    <tr>\n",
       "      <th>4</th>\n",
       "      <td>18419_134</td>\n",
       "      <td>18419</td>\n",
       "      <td>134</td>\n",
       "      <td>9.375</td>\n",
       "      <td>A man is driving in the country one evening wh...</td>\n",
       "    </tr>\n",
       "  </tbody>\n",
       "</table>\n",
       "</div>"
      ],
      "text/plain": [
       "          id  ...                                          joke_text\n",
       "0  31030_110  ...  Judy was having trouble with her computer, so ...\n",
       "1  16144_109  ...  One day the first grade teacher was reading th...\n",
       "2    23098_6  ...  Q. What is orange and sounds like a parrot? A....\n",
       "3   14273_86  ...  Two attorneys went into a diner and ordered tw...\n",
       "4  18419_134  ...  A man is driving in the country one evening wh...\n",
       "\n",
       "[5 rows x 5 columns]"
      ]
     },
     "execution_count": 6,
     "metadata": {
      "tags": []
     },
     "output_type": "execute_result"
    }
   ],
   "source": [
    "train.head()"
   ]
  },
  {
   "cell_type": "markdown",
   "metadata": {
    "id": "dTgHRUWkmtUU"
   },
   "source": [
    "# Collaborative Fitlering using Keras\n",
    "This is just a kind of implementation of Low Rank Matrix Factorization "
   ]
  },
  {
   "cell_type": "code",
   "execution_count": null,
   "metadata": {
    "id": "dF_xDVxuFj47"
   },
   "outputs": [],
   "source": [
    "import tensorflow as tf\n",
    "from tensorflow import keras\n",
    "from tensorflow.keras import layers\n",
    "import copy"
   ]
  },
  {
   "cell_type": "markdown",
   "metadata": {
    "id": "_ewu64TkF-S0"
   },
   "source": [
    "# Preprocessing"
   ]
  },
  {
   "cell_type": "code",
   "execution_count": null,
   "metadata": {
    "colab": {
     "base_uri": "https://localhost:8080/"
    },
    "executionInfo": {
     "elapsed": 839,
     "status": "ok",
     "timestamp": 1605023364001,
     "user": {
      "displayName": "Omar Souaidi",
      "photoUrl": "",
      "userId": "18313246010754186886"
     },
     "user_tz": -60
    },
    "id": "OgeRKzYWGA1i",
    "outputId": "cd3299ec-4dbb-43d2-e466-2c2a2184920f"
   },
   "outputs": [
    {
     "name": "stdout",
     "output_type": "stream",
     "text": [
      "Number of users: 40863, Number of Movies: 139, Min rating: -10.0, Max rating: 10.0\n"
     ]
    }
   ],
   "source": [
    "df = copy.deepcopy(train)\n",
    "user_ids = df[\"user_id\"].unique().tolist()\n",
    "user2user_encoded = {x: i for i, x in enumerate(user_ids)}\n",
    "userencoded2user = {i: x for i, x in enumerate(user_ids)}\n",
    "jokes_ids = df[\"joke_id\"].unique().tolist()\n",
    "jokes2jokes_encoded = {x: i for i, x in enumerate(jokes_ids)}\n",
    "joke_encoded2joke = {i: x for i, x in enumerate(jokes_ids)}\n",
    "df[\"user\"] = df[\"user_id\"].map(user2user_encoded)\n",
    "df[\"joke\"] = df[\"joke_id\"].map(jokes2jokes_encoded)\n",
    "\n",
    "num_users = len(user2user_encoded)\n",
    "num_jokes = len(joke_encoded2joke)\n",
    "df[\"Rating\"] = df[\"Rating\"].values.astype(np.float32)\n",
    "# min and max ratings will be used to normalize the ratings later\n",
    "min_rating = min(df[\"Rating\"])\n",
    "max_rating = max(df[\"Rating\"])\n",
    "\n",
    "print(\n",
    "    \"Number of users: {}, Number of Movies: {}, Min rating: {}, Max rating: {}\".format(\n",
    "        num_users, num_jokes, min_rating, max_rating\n",
    "    )\n",
    ")"
   ]
  },
  {
   "cell_type": "markdown",
   "metadata": {
    "id": "joIqNVyMHC2a"
   },
   "source": [
    "## Prepare for training"
   ]
  },
  {
   "cell_type": "code",
   "execution_count": null,
   "metadata": {
    "id": "kHeJ5QRTHFXS"
   },
   "outputs": [],
   "source": [
    "df = df.sample(frac=1, random_state=42)\n",
    "x = df[[\"user\", \"joke\"]].values\n",
    "# Normalize the targets between 0 and 1. Makes it easy to train.\n",
    "y = df[\"Rating\"].apply(lambda x: (x - min_rating) / (max_rating - min_rating)).values\n",
    "train_indices = int(1 * df.shape[0]). ## No Validation , You can modify if you want to make validation\n",
    "x_train, x_val, y_train, y_val = (\n",
    "    x[:train_indices],\n",
    "    x[train_indices:],\n",
    "    y[:train_indices],\n",
    "    y[train_indices:],\n",
    ")"
   ]
  },
  {
   "cell_type": "markdown",
   "metadata": {
    "id": "3h16qg8THa8b"
   },
   "source": [
    "# Model"
   ]
  },
  {
   "cell_type": "code",
   "execution_count": null,
   "metadata": {
    "id": "2OFg2xsIH40Y"
   },
   "outputs": [],
   "source": [
    "EMBEDDING_SIZE = 50\n",
    "\n",
    "class RecommenderNet(keras.Model):\n",
    "    def __init__(self, num_users, num_jokes, embedding_size, **kwargs):\n",
    "        super(RecommenderNet, self).__init__(**kwargs)\n",
    "        self.num_users = num_users\n",
    "        self.num_jokes = num_jokes\n",
    "        self.embedding_size = embedding_size\n",
    "        self.user_embedding = layers.Embedding(\n",
    "            num_users,\n",
    "            embedding_size,\n",
    "            embeddings_initializer=\"he_normal\",\n",
    "            embeddings_regularizer=keras.regularizers.l2(1e-6),\n",
    "        )\n",
    "        self.user_bias = layers.Embedding(num_users, 1)\n",
    "        self.joke_embedding = layers.Embedding(\n",
    "            num_jokes,\n",
    "            embedding_size,\n",
    "            embeddings_initializer=\"he_normal\",\n",
    "            embeddings_regularizer=keras.regularizers.l2(1e-6),\n",
    "        )\n",
    "        self.movie_bias = layers.Embedding(num_jokes, 1)\n",
    "\n",
    "    def call(self, inputs):\n",
    "        user_vector = self.user_embedding(inputs[:, 0])\n",
    "        user_bias = self.user_bias(inputs[:, 0])\n",
    "        joke_vector = self.joke_embedding(inputs[:, 1])\n",
    "        joke_bias = self.movie_bias(inputs[:, 1])\n",
    "        dot_user_joke = tf.tensordot(user_vector, joke_vector, 2)\n",
    "        # Add all the components (including bias)\n",
    "        x = dot_user_joke + user_bias + joke_bias\n",
    "        # The sigmoid activation forces the rating to between 0 and 1\n",
    "        return tf.nn.sigmoid(x)"
   ]
  },
  {
   "cell_type": "code",
   "execution_count": null,
   "metadata": {
    "colab": {
     "base_uri": "https://localhost:8080/"
    },
    "executionInfo": {
     "elapsed": 896659,
     "status": "ok",
     "timestamp": 1605012345715,
     "user": {
      "displayName": "Omar Souaidi",
      "photoUrl": "",
      "userId": "18313246010754186886"
     },
     "user_tz": -60
    },
    "id": "YTOCd1qMIlMy",
    "outputId": "3439545a-6bba-47a5-b688-79c6c54a51ec"
   },
   "outputs": [
    {
     "name": "stdout",
     "output_type": "stream",
     "text": [
      "Epoch 1/5\n",
      "17064/17064 [==============================] - 174s 10ms/step - loss: 0.6612\n",
      "Epoch 2/5\n",
      "17064/17064 [==============================] - 179s 10ms/step - loss: 0.6450\n",
      "Epoch 3/5\n",
      "17064/17064 [==============================] - 179s 10ms/step - loss: 0.6391\n",
      "Epoch 4/5\n",
      "17064/17064 [==============================] - 179s 10ms/step - loss: 0.6369\n",
      "Epoch 5/5\n",
      "17064/17064 [==============================] - 178s 10ms/step - loss: 0.6360\n"
     ]
    }
   ],
   "source": [
    "model = RecommenderNet(num_users, num_jokes, EMBEDDING_SIZE)\n",
    "model.compile(\n",
    "    loss=tf.keras.losses.BinaryCrossentropy(), optimizer=keras.optimizers.Adam(lr=0.001)\n",
    ")\n",
    "history = model.fit(\n",
    "    x=x_train,\n",
    "    y=y_train,\n",
    "    batch_size=64,\n",
    "    epochs=5,\n",
    "    verbose=1,\n",
    ")"
   ]
  },
  {
   "cell_type": "code",
   "execution_count": null,
   "metadata": {
    "id": "7bwm_gMcHaDc"
   },
   "outputs": [],
   "source": [
    "test[\"user\"] = test[\"user_id\"].map(user2user_encoded)\n",
    "test[\"joke\"] = test[\"joke_id\"].map(jokes2jokes_encoded)\n",
    "ratings = model.predict(test[[\"user\", \"joke\"]].values).flatten()\n",
    "test['Rating'] = ratings"
   ]
  },
  {
   "cell_type": "code",
   "execution_count": null,
   "metadata": {
    "colab": {
     "base_uri": "https://localhost:8080/",
     "height": 204
    },
    "executionInfo": {
     "elapsed": 633,
     "status": "ok",
     "timestamp": 1605012572271,
     "user": {
      "displayName": "Omar Souaidi",
      "photoUrl": "",
      "userId": "18313246010754186886"
     },
     "user_tz": -60
    },
    "id": "tv8GsIgSMhql",
    "outputId": "56455d1f-71c2-4061-fba7-5e3828270759"
   },
   "outputs": [
    {
     "data": {
      "text/html": [
       "<div>\n",
       "<style scoped>\n",
       "    .dataframe tbody tr th:only-of-type {\n",
       "        vertical-align: middle;\n",
       "    }\n",
       "\n",
       "    .dataframe tbody tr th {\n",
       "        vertical-align: top;\n",
       "    }\n",
       "\n",
       "    .dataframe thead th {\n",
       "        text-align: right;\n",
       "    }\n",
       "</style>\n",
       "<table border=\"1\" class=\"dataframe\">\n",
       "  <thead>\n",
       "    <tr style=\"text-align: right;\">\n",
       "      <th></th>\n",
       "      <th>id</th>\n",
       "      <th>user_id</th>\n",
       "      <th>joke_id</th>\n",
       "      <th>user</th>\n",
       "      <th>joke</th>\n",
       "      <th>Rating</th>\n",
       "    </tr>\n",
       "  </thead>\n",
       "  <tbody>\n",
       "    <tr>\n",
       "      <th>0</th>\n",
       "      <td>6194_11</td>\n",
       "      <td>6194</td>\n",
       "      <td>11</td>\n",
       "      <td>10718</td>\n",
       "      <td>76</td>\n",
       "      <td>1.480949</td>\n",
       "    </tr>\n",
       "    <tr>\n",
       "      <th>1</th>\n",
       "      <td>19356_3</td>\n",
       "      <td>19356</td>\n",
       "      <td>3</td>\n",
       "      <td>16900</td>\n",
       "      <td>32</td>\n",
       "      <td>-2.180818</td>\n",
       "    </tr>\n",
       "    <tr>\n",
       "      <th>2</th>\n",
       "      <td>23426_79</td>\n",
       "      <td>23426</td>\n",
       "      <td>79</td>\n",
       "      <td>26083</td>\n",
       "      <td>62</td>\n",
       "      <td>3.986017</td>\n",
       "    </tr>\n",
       "    <tr>\n",
       "      <th>3</th>\n",
       "      <td>40030_3</td>\n",
       "      <td>40030</td>\n",
       "      <td>3</td>\n",
       "      <td>21033</td>\n",
       "      <td>32</td>\n",
       "      <td>-4.677805</td>\n",
       "    </tr>\n",
       "    <tr>\n",
       "      <th>4</th>\n",
       "      <td>19806_115</td>\n",
       "      <td>19806</td>\n",
       "      <td>115</td>\n",
       "      <td>8108</td>\n",
       "      <td>28</td>\n",
       "      <td>5.692490</td>\n",
       "    </tr>\n",
       "  </tbody>\n",
       "</table>\n",
       "</div>"
      ],
      "text/plain": [
       "          id  user_id  joke_id   user  joke    Rating\n",
       "0    6194_11     6194       11  10718    76  1.480949\n",
       "1    19356_3    19356        3  16900    32 -2.180818\n",
       "2   23426_79    23426       79  26083    62  3.986017\n",
       "3    40030_3    40030        3  21033    32 -4.677805\n",
       "4  19806_115    19806      115   8108    28  5.692490"
      ]
     },
     "execution_count": 18,
     "metadata": {
      "tags": []
     },
     "output_type": "execute_result"
    }
   ],
   "source": [
    "test['Rating'] = test['Rating']*(max_rating - min_rating) + min_rating. # Unscale\n",
    "test.head()"
   ]
  },
  {
   "cell_type": "code",
   "execution_count": null,
   "metadata": {
    "id": "LLdUYD5kNYWr"
   },
   "outputs": [],
   "source": [
    "test[['id', 'Rating']].to_csv('/content/drive/My Drive/Jokes_Rating/sub_keras.csv', index=False)"
   ]
  },
  {
   "cell_type": "markdown",
   "metadata": {
    "id": "hij2IfeXRwYN"
   },
   "source": [
    "Well we got a score of 4.270991 (rank = 37 / 250). The best score is 3.99280"
   ]
  },
  {
   "cell_type": "code",
   "execution_count": null,
   "metadata": {
    "colab": {
     "base_uri": "https://localhost:8080/"
    },
    "executionInfo": {
     "elapsed": 2156942,
     "status": "ok",
     "timestamp": 1605015919937,
     "user": {
      "displayName": "Omar Souaidi",
      "photoUrl": "",
      "userId": "18313246010754186886"
     },
     "user_tz": -60
    },
    "id": "acDgcuD-RUVg",
    "outputId": "acbbdd39-370a-4f2b-abc0-b209c436d8c0"
   },
   "outputs": [
    {
     "name": "stdout",
     "output_type": "stream",
     "text": [
      "Epoch 1/25\n",
      "8532/8532 [==============================] - 86s 10ms/step - loss: 0.0660\n",
      "Epoch 2/25\n",
      "8532/8532 [==============================] - 87s 10ms/step - loss: 0.0609\n",
      "Epoch 3/25\n",
      "8532/8532 [==============================] - 87s 10ms/step - loss: 0.0591\n",
      "Epoch 4/25\n",
      "8532/8532 [==============================] - 88s 10ms/step - loss: 0.0576\n",
      "Epoch 5/25\n",
      "8532/8532 [==============================] - 87s 10ms/step - loss: 0.0562\n",
      "Epoch 6/25\n",
      "8532/8532 [==============================] - 87s 10ms/step - loss: 0.0549\n",
      "Epoch 7/25\n",
      "8532/8532 [==============================] - 86s 10ms/step - loss: 0.0537\n",
      "Epoch 8/25\n",
      "8532/8532 [==============================] - 88s 10ms/step - loss: 0.0527\n",
      "Epoch 9/25\n",
      "8532/8532 [==============================] - 88s 10ms/step - loss: 0.0517\n",
      "Epoch 10/25\n",
      "8532/8532 [==============================] - 89s 10ms/step - loss: 0.0508\n",
      "Epoch 11/25\n",
      "8532/8532 [==============================] - 88s 10ms/step - loss: 0.0500\n",
      "Epoch 12/25\n",
      "8532/8532 [==============================] - 86s 10ms/step - loss: 0.0493\n",
      "Epoch 13/25\n",
      "8532/8532 [==============================] - 86s 10ms/step - loss: 0.0486\n",
      "Epoch 14/25\n",
      "8532/8532 [==============================] - 86s 10ms/step - loss: 0.0480\n",
      "Epoch 15/25\n",
      "8532/8532 [==============================] - 85s 10ms/step - loss: 0.0475\n",
      "Epoch 16/25\n",
      "8532/8532 [==============================] - 86s 10ms/step - loss: 0.0470\n",
      "Epoch 17/25\n",
      "8532/8532 [==============================] - 85s 10ms/step - loss: 0.0465\n",
      "Epoch 18/25\n",
      "8532/8532 [==============================] - 85s 10ms/step - loss: 0.0461\n",
      "Epoch 19/25\n",
      "8532/8532 [==============================] - 85s 10ms/step - loss: 0.0458\n",
      "Epoch 20/25\n",
      "8532/8532 [==============================] - 86s 10ms/step - loss: 0.0454\n",
      "Epoch 21/25\n",
      "8532/8532 [==============================] - 85s 10ms/step - loss: 0.0451\n",
      "Epoch 22/25\n",
      "8532/8532 [==============================] - 85s 10ms/step - loss: 0.0448\n",
      "Epoch 23/25\n",
      "8532/8532 [==============================] - 85s 10ms/step - loss: 0.0446\n",
      "Epoch 24/25\n",
      "8532/8532 [==============================] - 86s 10ms/step - loss: 0.0443\n",
      "Epoch 25/25\n",
      "8532/8532 [==============================] - 85s 10ms/step - loss: 0.0441\n"
     ]
    }
   ],
   "source": [
    "## Maybe Training for more epoch (bigger batch size) and smallest learning rate\n",
    "model_ = RecommenderNet(num_users, num_jokes, EMBEDDING_SIZE)\n",
    "model_.compile(\n",
    "    loss='mse', optimizer=keras.optimizers.Adam(lr=0.0001)\n",
    ")\n",
    "history = model_.fit(\n",
    "    x=x_train,\n",
    "    y=y_train,\n",
    "    batch_size=128,\n",
    "    epochs=25,\n",
    "    verbose=1,\n",
    ")"
   ]
  },
  {
   "cell_type": "code",
   "execution_count": null,
   "metadata": {
    "id": "452mbFVXR4jI"
   },
   "outputs": [],
   "source": [
    "ratings = model_.predict(test[[\"user\", \"joke\"]].values).flatten()\n",
    "test['Rating'] = ratings\n",
    "test['Rating'] = test['Rating']*(max_rating - min_rating) + min_rating  # Unscale\n",
    "test[['id', 'Rating']].to_csv('/content/drive/My Drive/Jokes_Rating/sub_keras_v1.csv', index=False)"
   ]
  },
  {
   "cell_type": "code",
   "execution_count": null,
   "metadata": {
    "colab": {
     "base_uri": "https://localhost:8080/",
     "height": 204
    },
    "executionInfo": {
     "elapsed": 551,
     "status": "ok",
     "timestamp": 1605016157805,
     "user": {
      "displayName": "Omar Souaidi",
      "photoUrl": "",
      "userId": "18313246010754186886"
     },
     "user_tz": -60
    },
    "id": "veFcP7oQaRTy",
    "outputId": "6abdb2de-df51-4637-d693-e97b4dc4b2bf"
   },
   "outputs": [
    {
     "data": {
      "text/html": [
       "<div>\n",
       "<style scoped>\n",
       "    .dataframe tbody tr th:only-of-type {\n",
       "        vertical-align: middle;\n",
       "    }\n",
       "\n",
       "    .dataframe tbody tr th {\n",
       "        vertical-align: top;\n",
       "    }\n",
       "\n",
       "    .dataframe thead th {\n",
       "        text-align: right;\n",
       "    }\n",
       "</style>\n",
       "<table border=\"1\" class=\"dataframe\">\n",
       "  <thead>\n",
       "    <tr style=\"text-align: right;\">\n",
       "      <th></th>\n",
       "      <th>id</th>\n",
       "      <th>user_id</th>\n",
       "      <th>joke_id</th>\n",
       "      <th>user</th>\n",
       "      <th>joke</th>\n",
       "      <th>Rating</th>\n",
       "    </tr>\n",
       "  </thead>\n",
       "  <tbody>\n",
       "    <tr>\n",
       "      <th>0</th>\n",
       "      <td>6194_11</td>\n",
       "      <td>6194</td>\n",
       "      <td>11</td>\n",
       "      <td>10718</td>\n",
       "      <td>76</td>\n",
       "      <td>1.403801</td>\n",
       "    </tr>\n",
       "    <tr>\n",
       "      <th>1</th>\n",
       "      <td>19356_3</td>\n",
       "      <td>19356</td>\n",
       "      <td>3</td>\n",
       "      <td>16900</td>\n",
       "      <td>32</td>\n",
       "      <td>-2.701854</td>\n",
       "    </tr>\n",
       "    <tr>\n",
       "      <th>2</th>\n",
       "      <td>23426_79</td>\n",
       "      <td>23426</td>\n",
       "      <td>79</td>\n",
       "      <td>26083</td>\n",
       "      <td>62</td>\n",
       "      <td>2.931864</td>\n",
       "    </tr>\n",
       "    <tr>\n",
       "      <th>3</th>\n",
       "      <td>40030_3</td>\n",
       "      <td>40030</td>\n",
       "      <td>3</td>\n",
       "      <td>21033</td>\n",
       "      <td>32</td>\n",
       "      <td>-3.341493</td>\n",
       "    </tr>\n",
       "    <tr>\n",
       "      <th>4</th>\n",
       "      <td>19806_115</td>\n",
       "      <td>19806</td>\n",
       "      <td>115</td>\n",
       "      <td>8108</td>\n",
       "      <td>28</td>\n",
       "      <td>4.677395</td>\n",
       "    </tr>\n",
       "  </tbody>\n",
       "</table>\n",
       "</div>"
      ],
      "text/plain": [
       "          id  user_id  joke_id   user  joke    Rating\n",
       "0    6194_11     6194       11  10718    76  1.403801\n",
       "1    19356_3    19356        3  16900    32 -2.701854\n",
       "2   23426_79    23426       79  26083    62  2.931864\n",
       "3    40030_3    40030        3  21033    32 -3.341493\n",
       "4  19806_115    19806      115   8108    28  4.677395"
      ]
     },
     "execution_count": 28,
     "metadata": {
      "tags": []
     },
     "output_type": "execute_result"
    }
   ],
   "source": [
    "test.head()"
   ]
  },
  {
   "cell_type": "markdown",
   "metadata": {
    "id": "ZnWvgdBccJto"
   },
   "source": [
    "We got a score of 4.3175 which is less than before, maybe the model 'overfit' and tried to capture something complex.\n",
    "\n",
    "I can play with the embedding size and see If I can improve the result."
   ]
  },
  {
   "cell_type": "code",
   "execution_count": null,
   "metadata": {
    "colab": {
     "base_uri": "https://localhost:8080/"
    },
    "executionInfo": {
     "elapsed": 1737838,
     "status": "ok",
     "timestamp": 1605018506726,
     "user": {
      "displayName": "Omar Souaidi",
      "photoUrl": "",
      "userId": "18313246010754186886"
     },
     "user_tz": -60
    },
    "id": "c3YLZRoQc03k",
    "outputId": "7679487b-abe3-40fa-a24e-36ee7749a43b"
   },
   "outputs": [
    {
     "name": "stdout",
     "output_type": "stream",
     "text": [
      "Epoch 1/6\n",
      "17064/17064 [==============================] - 318s 19ms/step - loss: 0.0650\n",
      "Epoch 2/6\n",
      "17064/17064 [==============================] - 318s 19ms/step - loss: 0.0603\n",
      "Epoch 3/6\n",
      "17064/17064 [==============================] - 312s 18ms/step - loss: 0.0583\n",
      "Epoch 4/6\n",
      "17064/17064 [==============================] - 266s 16ms/step - loss: 0.0564\n",
      "Epoch 5/6\n",
      "17064/17064 [==============================] - 265s 16ms/step - loss: 0.0546\n",
      "Epoch 6/6\n",
      "17064/17064 [==============================] - 257s 15ms/step - loss: 0.0532\n"
     ]
    }
   ],
   "source": [
    "## Maybe Training for more epoch (bigger batch size) and smallest learning rate\n",
    "model_100 = RecommenderNet(num_users, num_jokes, 100)\n",
    "model_100.compile(\n",
    "    loss='mse', optimizer=keras.optimizers.Adam(lr=0.0001)\n",
    ")\n",
    "history = model_100.fit(\n",
    "    x=x_train,\n",
    "    y=y_train,\n",
    "    batch_size=64,\n",
    "    epochs=6,\n",
    "    verbose=1,\n",
    ")"
   ]
  },
  {
   "cell_type": "code",
   "execution_count": null,
   "metadata": {
    "id": "WXsKOD7flRNn"
   },
   "outputs": [],
   "source": [
    "ratings = model_100.predict(test[[\"user\", \"joke\"]].values).flatten()\n",
    "test['Rating'] = ratings\n",
    "test['Rating'] = test['Rating']*(max_rating - min_rating) + min_rating  # Unscale\n",
    "test[['id', 'Rating']].to_csv('/content/drive/My Drive/Jokes_Rating/sub_keras_v2.csv', index=False)"
   ]
  },
  {
   "cell_type": "markdown",
   "metadata": {
    "id": "O-RGjqEsmeD2"
   },
   "source": [
    "Lowest score that we had : 4.62 :/\n",
    "\n",
    "I thought that capturing more feature related to each user & each joke will help to decrease the error .."
   ]
  },
  {
   "cell_type": "markdown",
   "metadata": {
    "id": "yzaHn_4Fc2ip"
   },
   "source": [
    "@TODO:\n",
    "\n",
    "Look at the last technique : https://www.kaggle.com/rajmehra03/cf-based-recsys-by-low-rank-matrix-factorization\n",
    "\n",
    "Look at this implementation : https://github.com/tonytonev/JokeRecommender"
   ]
  },
  {
   "cell_type": "markdown",
   "metadata": {
    "id": "A5IiLQH4nT-6"
   },
   "source": [
    "# Collaborative Filtering using Bert and HumourDistilbert"
   ]
  },
  {
   "cell_type": "code",
   "execution_count": null,
   "metadata": {
    "id": "wf9yBblzn8BC"
   },
   "outputs": [],
   "source": [
    "!pip install transformers"
   ]
  },
  {
   "cell_type": "markdown",
   "metadata": {
    "id": "4XPl6inSpdI9"
   },
   "source": [
    "## Bert Large Uncased Whole Word Masking"
   ]
  },
  {
   "cell_type": "code",
   "execution_count": null,
   "metadata": {
    "id": "yr90uc1YuCqq"
   },
   "outputs": [],
   "source": [
    "from transformers import DistilBertModel, DistilBertTokenizer"
   ]
  },
  {
   "cell_type": "code",
   "execution_count": null,
   "metadata": {
    "colab": {
     "base_uri": "https://localhost:8080/",
     "height": 204
    },
    "executionInfo": {
     "elapsed": 573,
     "status": "ok",
     "timestamp": 1605023411776,
     "user": {
      "displayName": "Omar Souaidi",
      "photoUrl": "",
      "userId": "18313246010754186886"
     },
     "user_tz": -60
    },
    "id": "8xorYAejnN1R",
    "outputId": "db690fc2-cd63-4ef7-b0ec-2136ce587ad6"
   },
   "outputs": [
    {
     "data": {
      "text/html": [
       "<div>\n",
       "<style scoped>\n",
       "    .dataframe tbody tr th:only-of-type {\n",
       "        vertical-align: middle;\n",
       "    }\n",
       "\n",
       "    .dataframe tbody tr th {\n",
       "        vertical-align: top;\n",
       "    }\n",
       "\n",
       "    .dataframe thead th {\n",
       "        text-align: right;\n",
       "    }\n",
       "</style>\n",
       "<table border=\"1\" class=\"dataframe\">\n",
       "  <thead>\n",
       "    <tr style=\"text-align: right;\">\n",
       "      <th></th>\n",
       "      <th>id</th>\n",
       "      <th>user_id</th>\n",
       "      <th>joke_id</th>\n",
       "      <th>Rating</th>\n",
       "      <th>joke_text</th>\n",
       "      <th>user</th>\n",
       "      <th>joke</th>\n",
       "    </tr>\n",
       "  </thead>\n",
       "  <tbody>\n",
       "    <tr>\n",
       "      <th>0</th>\n",
       "      <td>31030_110</td>\n",
       "      <td>31030</td>\n",
       "      <td>110</td>\n",
       "      <td>2.750</td>\n",
       "      <td>Judy was having trouble with her computer, so ...</td>\n",
       "      <td>0</td>\n",
       "      <td>0</td>\n",
       "    </tr>\n",
       "    <tr>\n",
       "      <th>1</th>\n",
       "      <td>16144_109</td>\n",
       "      <td>16144</td>\n",
       "      <td>109</td>\n",
       "      <td>5.094</td>\n",
       "      <td>One day the first grade teacher was reading th...</td>\n",
       "      <td>1</td>\n",
       "      <td>1</td>\n",
       "    </tr>\n",
       "    <tr>\n",
       "      <th>2</th>\n",
       "      <td>23098_6</td>\n",
       "      <td>23098</td>\n",
       "      <td>6</td>\n",
       "      <td>-6.438</td>\n",
       "      <td>Q. What is orange and sounds like a parrot? A....</td>\n",
       "      <td>2</td>\n",
       "      <td>2</td>\n",
       "    </tr>\n",
       "    <tr>\n",
       "      <th>3</th>\n",
       "      <td>14273_86</td>\n",
       "      <td>14273</td>\n",
       "      <td>86</td>\n",
       "      <td>4.406</td>\n",
       "      <td>Two attorneys went into a diner and ordered tw...</td>\n",
       "      <td>3</td>\n",
       "      <td>3</td>\n",
       "    </tr>\n",
       "    <tr>\n",
       "      <th>4</th>\n",
       "      <td>18419_134</td>\n",
       "      <td>18419</td>\n",
       "      <td>134</td>\n",
       "      <td>9.375</td>\n",
       "      <td>A man is driving in the country one evening wh...</td>\n",
       "      <td>4</td>\n",
       "      <td>4</td>\n",
       "    </tr>\n",
       "  </tbody>\n",
       "</table>\n",
       "</div>"
      ],
      "text/plain": [
       "          id  user_id  ...  user  joke\n",
       "0  31030_110    31030  ...     0     0\n",
       "1  16144_109    16144  ...     1     1\n",
       "2    23098_6    23098  ...     2     2\n",
       "3   14273_86    14273  ...     3     3\n",
       "4  18419_134    18419  ...     4     4\n",
       "\n",
       "[5 rows x 7 columns]"
      ]
     },
     "execution_count": 8,
     "metadata": {
      "tags": []
     },
     "output_type": "execute_result"
    }
   ],
   "source": [
    "df.head()"
   ]
  },
  {
   "cell_type": "code",
   "execution_count": null,
   "metadata": {
    "colab": {
     "base_uri": "https://localhost:8080/",
     "height": 120,
     "referenced_widgets": [
      "51cdc0c451be45b0806b0b3ae8cbf60d",
      "5692d67d64f04263a1e8d8da19a4a64c",
      "eedd1236c5ec4b2ea45c8e32b4906642",
      "14e23591222a469ea11ef7960c23f98c",
      "62a28e8dfa9946f2ac577ebbedda8d2e",
      "4a03fe69bb9b40f1a6019b14e063c867",
      "c818b6a0e90d42eca31fec855cf05b81",
      "f8d35b7f1e3a48d1bb558e52cdbad22a"
     ]
    },
    "executionInfo": {
     "elapsed": 1857,
     "status": "ok",
     "timestamp": 1605023558516,
     "user": {
      "displayName": "Omar Souaidi",
      "photoUrl": "",
      "userId": "18313246010754186886"
     },
     "user_tz": -60
    },
    "id": "uEWQXTqhnsCn",
    "outputId": "4e40f614-406a-48c2-bc0a-e71d1de7ee62"
   },
   "outputs": [
    {
     "data": {
      "application/vnd.jupyter.widget-view+json": {
       "model_id": "51cdc0c451be45b0806b0b3ae8cbf60d",
       "version_major": 2,
       "version_minor": 0
      },
      "text/plain": [
       "HBox(children=(FloatProgress(value=0.0, description='Downloading', max=231508.0, style=ProgressStyle(descripti…"
      ]
     },
     "metadata": {
      "tags": []
     },
     "output_type": "display_data"
    },
    {
     "name": "stdout",
     "output_type": "stream",
     "text": [
      "\n"
     ]
    },
    {
     "name": "stderr",
     "output_type": "stream",
     "text": [
      "/usr/local/lib/python3.6/dist-packages/transformers/tokenization_utils_base.py:2022: FutureWarning: The `pad_to_max_length` argument is deprecated and will be removed in a future version, use `padding=True` or `padding='longest'` to pad to the longest sequence in the batch, or use `padding='max_length'` to pad to a max length. In this case, you can give a specific length with `max_length` (e.g. `max_length=45`) or leave max_length to None to pad to the maximal input size of the model (e.g. 512 for Bert).\n",
      "  FutureWarning,\n"
     ]
    }
   ],
   "source": [
    "# Load the BERT tokenizer\n",
    "tokenizer = DistilBertTokenizer.from_pretrained('distilbert-base-uncased', do_lower_case=True)\n",
    "jokes = df.joke_text.unique().tolist()\n",
    "tokens_jokes = tokenizer.batch_encode_plus(\n",
    "    jokes,\n",
    "    max_length = 250,\n",
    "    pad_to_max_length=True,\n",
    "    truncation=True,\n",
    "    return_token_type_ids=False)"
   ]
  },
  {
   "cell_type": "code",
   "execution_count": null,
   "metadata": {
    "id": "BdhL06ecy5Jb"
   },
   "outputs": [],
   "source": [
    "model = DistilBertModel.from_pretrained('distilbert-base-uncased')"
   ]
  },
  {
   "cell_type": "code",
   "execution_count": null,
   "metadata": {
    "id": "kanOZW51wDT9"
   },
   "outputs": [],
   "source": [
    "import torch\n",
    "device = torch.device(\"cuda\")\n",
    "model.cuda()\n",
    "embedding = []\n",
    "for i in range(len(jokes)):\n",
    "  a = model(torch.tensor([tokens_jokes['input_ids'][i]]).to(device), torch.tensor([tokens_jokes['attention_mask'][i]]).to(device))\n",
    "  embedding.append(a)"
   ]
  },
  {
   "cell_type": "code",
   "execution_count": null,
   "metadata": {
    "colab": {
     "base_uri": "https://localhost:8080/"
    },
    "executionInfo": {
     "elapsed": 691,
     "status": "ok",
     "timestamp": 1605023685145,
     "user": {
      "displayName": "Omar Souaidi",
      "photoUrl": "",
      "userId": "18313246010754186886"
     },
     "user_tz": -60
    },
    "id": "w2RLwvsSyvR8",
    "outputId": "aed3677d-84ef-4033-ca2f-6bc2c32beabe"
   },
   "outputs": [
    {
     "data": {
      "text/plain": [
       "torch.Size([1, 250, 768])"
      ]
     },
     "execution_count": 19,
     "metadata": {
      "tags": []
     },
     "output_type": "execute_result"
    }
   ],
   "source": [
    "model(torch.tensor([tokens_jokes['input_ids'][0]]), torch.tensor([tokens_jokes['attention_mask'][0]]))[0].shape"
   ]
  }
 ],
 "metadata": {
  "accelerator": "GPU",
  "colab": {
   "authorship_tag": "ABX9TyORxbL8fEktCHRaacutWyHR",
   "collapsed_sections": [],
   "name": "Jokes_Rating_MatrixF_Keras.ipynb",
   "provenance": [],
   "toc_visible": true
  },
  "kernelspec": {
   "display_name": "Python 3",
   "language": "python",
   "name": "python3"
  },
  "language_info": {
   "codemirror_mode": {
    "name": "ipython",
    "version": 3
   },
   "file_extension": ".py",
   "mimetype": "text/x-python",
   "name": "python",
   "nbconvert_exporter": "python",
   "pygments_lexer": "ipython3",
   "version": "3.8.3"
  },
  "widgets": {
   "application/vnd.jupyter.widget-state+json": {
    "14e23591222a469ea11ef7960c23f98c": {
     "model_module": "@jupyter-widgets/controls",
     "model_name": "HTMLModel",
     "state": {
      "_dom_classes": [],
      "_model_module": "@jupyter-widgets/controls",
      "_model_module_version": "1.5.0",
      "_model_name": "HTMLModel",
      "_view_count": null,
      "_view_module": "@jupyter-widgets/controls",
      "_view_module_version": "1.5.0",
      "_view_name": "HTMLView",
      "description": "",
      "description_tooltip": null,
      "layout": "IPY_MODEL_f8d35b7f1e3a48d1bb558e52cdbad22a",
      "placeholder": "​",
      "style": "IPY_MODEL_c818b6a0e90d42eca31fec855cf05b81",
      "value": " 232k/232k [00:00&lt;00:00, 2.09MB/s]"
     }
    },
    "4a03fe69bb9b40f1a6019b14e063c867": {
     "model_module": "@jupyter-widgets/base",
     "model_name": "LayoutModel",
     "state": {
      "_model_module": "@jupyter-widgets/base",
      "_model_module_version": "1.2.0",
      "_model_name": "LayoutModel",
      "_view_count": null,
      "_view_module": "@jupyter-widgets/base",
      "_view_module_version": "1.2.0",
      "_view_name": "LayoutView",
      "align_content": null,
      "align_items": null,
      "align_self": null,
      "border": null,
      "bottom": null,
      "display": null,
      "flex": null,
      "flex_flow": null,
      "grid_area": null,
      "grid_auto_columns": null,
      "grid_auto_flow": null,
      "grid_auto_rows": null,
      "grid_column": null,
      "grid_gap": null,
      "grid_row": null,
      "grid_template_areas": null,
      "grid_template_columns": null,
      "grid_template_rows": null,
      "height": null,
      "justify_content": null,
      "justify_items": null,
      "left": null,
      "margin": null,
      "max_height": null,
      "max_width": null,
      "min_height": null,
      "min_width": null,
      "object_fit": null,
      "object_position": null,
      "order": null,
      "overflow": null,
      "overflow_x": null,
      "overflow_y": null,
      "padding": null,
      "right": null,
      "top": null,
      "visibility": null,
      "width": null
     }
    },
    "51cdc0c451be45b0806b0b3ae8cbf60d": {
     "model_module": "@jupyter-widgets/controls",
     "model_name": "HBoxModel",
     "state": {
      "_dom_classes": [],
      "_model_module": "@jupyter-widgets/controls",
      "_model_module_version": "1.5.0",
      "_model_name": "HBoxModel",
      "_view_count": null,
      "_view_module": "@jupyter-widgets/controls",
      "_view_module_version": "1.5.0",
      "_view_name": "HBoxView",
      "box_style": "",
      "children": [
       "IPY_MODEL_eedd1236c5ec4b2ea45c8e32b4906642",
       "IPY_MODEL_14e23591222a469ea11ef7960c23f98c"
      ],
      "layout": "IPY_MODEL_5692d67d64f04263a1e8d8da19a4a64c"
     }
    },
    "5692d67d64f04263a1e8d8da19a4a64c": {
     "model_module": "@jupyter-widgets/base",
     "model_name": "LayoutModel",
     "state": {
      "_model_module": "@jupyter-widgets/base",
      "_model_module_version": "1.2.0",
      "_model_name": "LayoutModel",
      "_view_count": null,
      "_view_module": "@jupyter-widgets/base",
      "_view_module_version": "1.2.0",
      "_view_name": "LayoutView",
      "align_content": null,
      "align_items": null,
      "align_self": null,
      "border": null,
      "bottom": null,
      "display": null,
      "flex": null,
      "flex_flow": null,
      "grid_area": null,
      "grid_auto_columns": null,
      "grid_auto_flow": null,
      "grid_auto_rows": null,
      "grid_column": null,
      "grid_gap": null,
      "grid_row": null,
      "grid_template_areas": null,
      "grid_template_columns": null,
      "grid_template_rows": null,
      "height": null,
      "justify_content": null,
      "justify_items": null,
      "left": null,
      "margin": null,
      "max_height": null,
      "max_width": null,
      "min_height": null,
      "min_width": null,
      "object_fit": null,
      "object_position": null,
      "order": null,
      "overflow": null,
      "overflow_x": null,
      "overflow_y": null,
      "padding": null,
      "right": null,
      "top": null,
      "visibility": null,
      "width": null
     }
    },
    "62a28e8dfa9946f2ac577ebbedda8d2e": {
     "model_module": "@jupyter-widgets/controls",
     "model_name": "ProgressStyleModel",
     "state": {
      "_model_module": "@jupyter-widgets/controls",
      "_model_module_version": "1.5.0",
      "_model_name": "ProgressStyleModel",
      "_view_count": null,
      "_view_module": "@jupyter-widgets/base",
      "_view_module_version": "1.2.0",
      "_view_name": "StyleView",
      "bar_color": null,
      "description_width": "initial"
     }
    },
    "c818b6a0e90d42eca31fec855cf05b81": {
     "model_module": "@jupyter-widgets/controls",
     "model_name": "DescriptionStyleModel",
     "state": {
      "_model_module": "@jupyter-widgets/controls",
      "_model_module_version": "1.5.0",
      "_model_name": "DescriptionStyleModel",
      "_view_count": null,
      "_view_module": "@jupyter-widgets/base",
      "_view_module_version": "1.2.0",
      "_view_name": "StyleView",
      "description_width": ""
     }
    },
    "eedd1236c5ec4b2ea45c8e32b4906642": {
     "model_module": "@jupyter-widgets/controls",
     "model_name": "FloatProgressModel",
     "state": {
      "_dom_classes": [],
      "_model_module": "@jupyter-widgets/controls",
      "_model_module_version": "1.5.0",
      "_model_name": "FloatProgressModel",
      "_view_count": null,
      "_view_module": "@jupyter-widgets/controls",
      "_view_module_version": "1.5.0",
      "_view_name": "ProgressView",
      "bar_style": "success",
      "description": "Downloading: 100%",
      "description_tooltip": null,
      "layout": "IPY_MODEL_4a03fe69bb9b40f1a6019b14e063c867",
      "max": 231508,
      "min": 0,
      "orientation": "horizontal",
      "style": "IPY_MODEL_62a28e8dfa9946f2ac577ebbedda8d2e",
      "value": 231508
     }
    },
    "f8d35b7f1e3a48d1bb558e52cdbad22a": {
     "model_module": "@jupyter-widgets/base",
     "model_name": "LayoutModel",
     "state": {
      "_model_module": "@jupyter-widgets/base",
      "_model_module_version": "1.2.0",
      "_model_name": "LayoutModel",
      "_view_count": null,
      "_view_module": "@jupyter-widgets/base",
      "_view_module_version": "1.2.0",
      "_view_name": "LayoutView",
      "align_content": null,
      "align_items": null,
      "align_self": null,
      "border": null,
      "bottom": null,
      "display": null,
      "flex": null,
      "flex_flow": null,
      "grid_area": null,
      "grid_auto_columns": null,
      "grid_auto_flow": null,
      "grid_auto_rows": null,
      "grid_column": null,
      "grid_gap": null,
      "grid_row": null,
      "grid_template_areas": null,
      "grid_template_columns": null,
      "grid_template_rows": null,
      "height": null,
      "justify_content": null,
      "justify_items": null,
      "left": null,
      "margin": null,
      "max_height": null,
      "max_width": null,
      "min_height": null,
      "min_width": null,
      "object_fit": null,
      "object_position": null,
      "order": null,
      "overflow": null,
      "overflow_x": null,
      "overflow_y": null,
      "padding": null,
      "right": null,
      "top": null,
      "visibility": null,
      "width": null
     }
    }
   }
  }
 },
 "nbformat": 4,
 "nbformat_minor": 1
}
