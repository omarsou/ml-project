{
 "cells": [
  {
   "cell_type": "code",
   "execution_count": 1,
   "metadata": {},
   "outputs": [],
   "source": [
    "import pandas as pd\n",
    "import numpy as np\n",
    "import matplotlib.pyplot as plt\n",
    "import seaborn as sns\n",
    "from matplotlib import rcParams\n",
    "# figure size in inches\n",
    "rcParams['figure.figsize'] = 15,15"
   ]
  },
  {
   "cell_type": "code",
   "execution_count": 2,
   "metadata": {},
   "outputs": [],
   "source": [
    "data = pd.read_excel('Data_Train.xlsx')\n",
    "data_submit = pd.read_excel('Data_Test.xlsx')"
   ]
  },
  {
   "cell_type": "code",
   "execution_count": 3,
   "metadata": {},
   "outputs": [
    {
     "data": {
      "text/html": [
       "<div>\n",
       "<style scoped>\n",
       "    .dataframe tbody tr th:only-of-type {\n",
       "        vertical-align: middle;\n",
       "    }\n",
       "\n",
       "    .dataframe tbody tr th {\n",
       "        vertical-align: top;\n",
       "    }\n",
       "\n",
       "    .dataframe thead th {\n",
       "        text-align: right;\n",
       "    }\n",
       "</style>\n",
       "<table border=\"1\" class=\"dataframe\">\n",
       "  <thead>\n",
       "    <tr style=\"text-align: right;\">\n",
       "      <th></th>\n",
       "      <th>Title</th>\n",
       "      <th>Author</th>\n",
       "      <th>Edition</th>\n",
       "      <th>Reviews</th>\n",
       "      <th>Ratings</th>\n",
       "      <th>Synopsis</th>\n",
       "      <th>Genre</th>\n",
       "      <th>BookCategory</th>\n",
       "      <th>Price</th>\n",
       "    </tr>\n",
       "  </thead>\n",
       "  <tbody>\n",
       "    <tr>\n",
       "      <th>0</th>\n",
       "      <td>The Prisoner's Gold (The Hunters 3)</td>\n",
       "      <td>Chris Kuzneski</td>\n",
       "      <td>Paperback,– 10 Mar 2016</td>\n",
       "      <td>4.0 out of 5 stars</td>\n",
       "      <td>8 customer reviews</td>\n",
       "      <td>THE HUNTERS return in their third brilliant no...</td>\n",
       "      <td>Action &amp; Adventure (Books)</td>\n",
       "      <td>Action &amp; Adventure</td>\n",
       "      <td>220.00</td>\n",
       "    </tr>\n",
       "    <tr>\n",
       "      <th>1</th>\n",
       "      <td>Guru Dutt: A Tragedy in Three Acts</td>\n",
       "      <td>Arun Khopkar</td>\n",
       "      <td>Paperback,– 7 Nov 2012</td>\n",
       "      <td>3.9 out of 5 stars</td>\n",
       "      <td>14 customer reviews</td>\n",
       "      <td>A layered portrait of a troubled genius for wh...</td>\n",
       "      <td>Cinema &amp; Broadcast (Books)</td>\n",
       "      <td>Biographies, Diaries &amp; True Accounts</td>\n",
       "      <td>202.93</td>\n",
       "    </tr>\n",
       "    <tr>\n",
       "      <th>2</th>\n",
       "      <td>Leviathan (Penguin Classics)</td>\n",
       "      <td>Thomas Hobbes</td>\n",
       "      <td>Paperback,– 25 Feb 1982</td>\n",
       "      <td>4.8 out of 5 stars</td>\n",
       "      <td>6 customer reviews</td>\n",
       "      <td>\"During the time men live without a common Pow...</td>\n",
       "      <td>International Relations</td>\n",
       "      <td>Humour</td>\n",
       "      <td>299.00</td>\n",
       "    </tr>\n",
       "    <tr>\n",
       "      <th>3</th>\n",
       "      <td>A Pocket Full of Rye (Miss Marple)</td>\n",
       "      <td>Agatha Christie</td>\n",
       "      <td>Paperback,– 5 Oct 2017</td>\n",
       "      <td>4.1 out of 5 stars</td>\n",
       "      <td>13 customer reviews</td>\n",
       "      <td>A handful of grain is found in the pocket of a...</td>\n",
       "      <td>Contemporary Fiction (Books)</td>\n",
       "      <td>Crime, Thriller &amp; Mystery</td>\n",
       "      <td>180.00</td>\n",
       "    </tr>\n",
       "    <tr>\n",
       "      <th>4</th>\n",
       "      <td>LIFE 70 Years of Extraordinary Photography</td>\n",
       "      <td>Editors of Life</td>\n",
       "      <td>Hardcover,– 10 Oct 2006</td>\n",
       "      <td>5.0 out of 5 stars</td>\n",
       "      <td>1 customer review</td>\n",
       "      <td>For seven decades, \"Life\" has been thrilling t...</td>\n",
       "      <td>Photography Textbooks</td>\n",
       "      <td>Arts, Film &amp; Photography</td>\n",
       "      <td>965.62</td>\n",
       "    </tr>\n",
       "  </tbody>\n",
       "</table>\n",
       "</div>"
      ],
      "text/plain": [
       "                                        Title           Author  \\\n",
       "0         The Prisoner's Gold (The Hunters 3)   Chris Kuzneski   \n",
       "1          Guru Dutt: A Tragedy in Three Acts     Arun Khopkar   \n",
       "2                Leviathan (Penguin Classics)    Thomas Hobbes   \n",
       "3          A Pocket Full of Rye (Miss Marple)  Agatha Christie   \n",
       "4  LIFE 70 Years of Extraordinary Photography  Editors of Life   \n",
       "\n",
       "                   Edition             Reviews              Ratings  \\\n",
       "0  Paperback,– 10 Mar 2016  4.0 out of 5 stars   8 customer reviews   \n",
       "1   Paperback,– 7 Nov 2012  3.9 out of 5 stars  14 customer reviews   \n",
       "2  Paperback,– 25 Feb 1982  4.8 out of 5 stars   6 customer reviews   \n",
       "3   Paperback,– 5 Oct 2017  4.1 out of 5 stars  13 customer reviews   \n",
       "4  Hardcover,– 10 Oct 2006  5.0 out of 5 stars    1 customer review   \n",
       "\n",
       "                                            Synopsis  \\\n",
       "0  THE HUNTERS return in their third brilliant no...   \n",
       "1  A layered portrait of a troubled genius for wh...   \n",
       "2  \"During the time men live without a common Pow...   \n",
       "3  A handful of grain is found in the pocket of a...   \n",
       "4  For seven decades, \"Life\" has been thrilling t...   \n",
       "\n",
       "                          Genre                          BookCategory   Price  \n",
       "0    Action & Adventure (Books)                    Action & Adventure  220.00  \n",
       "1    Cinema & Broadcast (Books)  Biographies, Diaries & True Accounts  202.93  \n",
       "2       International Relations                                Humour  299.00  \n",
       "3  Contemporary Fiction (Books)             Crime, Thriller & Mystery  180.00  \n",
       "4         Photography Textbooks              Arts, Film & Photography  965.62  "
      ]
     },
     "execution_count": 3,
     "metadata": {},
     "output_type": "execute_result"
    }
   ],
   "source": [
    "data.head()"
   ]
  },
  {
   "cell_type": "markdown",
   "metadata": {},
   "source": [
    "# Data Analysis and Processing"
   ]
  },
  {
   "cell_type": "markdown",
   "metadata": {},
   "source": [
    "**Look if there are some missing values**"
   ]
  },
  {
   "cell_type": "code",
   "execution_count": 4,
   "metadata": {},
   "outputs": [
    {
     "name": "stdout",
     "output_type": "stream",
     "text": [
      "<class 'pandas.core.frame.DataFrame'>\n",
      "RangeIndex: 6237 entries, 0 to 6236\n",
      "Data columns (total 9 columns):\n",
      " #   Column        Non-Null Count  Dtype  \n",
      "---  ------        --------------  -----  \n",
      " 0   Title         6237 non-null   object \n",
      " 1   Author        6237 non-null   object \n",
      " 2   Edition       6237 non-null   object \n",
      " 3   Reviews       6237 non-null   object \n",
      " 4   Ratings       6237 non-null   object \n",
      " 5   Synopsis      6237 non-null   object \n",
      " 6   Genre         6237 non-null   object \n",
      " 7   BookCategory  6237 non-null   object \n",
      " 8   Price         6237 non-null   float64\n",
      "dtypes: float64(1), object(8)\n",
      "memory usage: 438.7+ KB\n"
     ]
    }
   ],
   "source": [
    "data.info()"
   ]
  },
  {
   "cell_type": "code",
   "execution_count": 5,
   "metadata": {},
   "outputs": [
    {
     "name": "stdout",
     "output_type": "stream",
     "text": [
      "<class 'pandas.core.frame.DataFrame'>\n",
      "RangeIndex: 1560 entries, 0 to 1559\n",
      "Data columns (total 8 columns):\n",
      " #   Column        Non-Null Count  Dtype \n",
      "---  ------        --------------  ----- \n",
      " 0   Title         1560 non-null   object\n",
      " 1   Author        1560 non-null   object\n",
      " 2   Edition       1560 non-null   object\n",
      " 3   Reviews       1560 non-null   object\n",
      " 4   Ratings       1560 non-null   object\n",
      " 5   Synopsis      1560 non-null   object\n",
      " 6   Genre         1560 non-null   object\n",
      " 7   BookCategory  1560 non-null   object\n",
      "dtypes: object(8)\n",
      "memory usage: 97.6+ KB\n"
     ]
    }
   ],
   "source": [
    "data_submit.info()"
   ]
  },
  {
   "cell_type": "markdown",
   "metadata": {},
   "source": [
    "Well, fortunately, there are no missing values (both datatrain & datatest)"
   ]
  },
  {
   "cell_type": "markdown",
   "metadata": {},
   "source": [
    "## Some minor DataTransformation"
   ]
  },
  {
   "cell_type": "markdown",
   "metadata": {},
   "source": [
    "### Edition"
   ]
  },
  {
   "cell_type": "markdown",
   "metadata": {},
   "source": [
    "I want to explain why I created a extract_edition_sub : \n",
    "\n",
    "Sometimes as edition we have either \"NAME_EDITION,– XX MONTH YEAR\" or \"NAME_EDITION,– SUB_EDITION, XX MONTH YEAR\" or \"NAME_EDITION,– SUB_EDITION\"\n",
    "SUB_EDITION Refers sometimes to Box Set which means that this is a collection of books which is good to know."
   ]
  },
  {
   "cell_type": "code",
   "execution_count": 6,
   "metadata": {},
   "outputs": [],
   "source": [
    "def hasNumbers(inputString):\n",
    "    return any(char.isdigit() for char in inputString)\n",
    "\n",
    "def extract_date(edition):\n",
    "    \"\"\"Function made to extract the date from the Edition Column\"\"\"\n",
    "    split_of_interest = edition.split(',– ')[1]\n",
    "    split = split_of_interest.split(', ')\n",
    "    if len(split) < 2:\n",
    "        string = split[0]\n",
    "        if hasNumbers(string):\n",
    "            return string\n",
    "    if len(split) >= 2:\n",
    "        string = split[1]\n",
    "        if hasNumbers(string):\n",
    "            return string\n",
    "    return float('nan')\n",
    "    \n",
    "\n",
    "def extract_edition_sub(edition):\n",
    "    \"\"\"Function made to extract the sub edition from the Edition Column\"\"\"\n",
    "    split_of_interest = edition.split(',– ')[1]\n",
    "    split = split_of_interest.split(', ')\n",
    "    if len(split) < 2:\n",
    "        string = split[0]\n",
    "        if not hasNumbers(string):\n",
    "            return string\n",
    "    if len(split) >= 2:\n",
    "        string = split[0]\n",
    "        if not hasNumbers(string):\n",
    "            return string\n",
    "    return float('nan')"
   ]
  },
  {
   "cell_type": "code",
   "execution_count": 7,
   "metadata": {},
   "outputs": [
    {
     "data": {
      "text/html": [
       "<div>\n",
       "<style scoped>\n",
       "    .dataframe tbody tr th:only-of-type {\n",
       "        vertical-align: middle;\n",
       "    }\n",
       "\n",
       "    .dataframe tbody tr th {\n",
       "        vertical-align: top;\n",
       "    }\n",
       "\n",
       "    .dataframe thead th {\n",
       "        text-align: right;\n",
       "    }\n",
       "</style>\n",
       "<table border=\"1\" class=\"dataframe\">\n",
       "  <thead>\n",
       "    <tr style=\"text-align: right;\">\n",
       "      <th></th>\n",
       "      <th>Title</th>\n",
       "      <th>Author</th>\n",
       "      <th>Reviews</th>\n",
       "      <th>Ratings</th>\n",
       "      <th>Synopsis</th>\n",
       "      <th>Genre</th>\n",
       "      <th>BookCategory</th>\n",
       "      <th>Price</th>\n",
       "      <th>EditionName</th>\n",
       "      <th>EditionDate</th>\n",
       "      <th>EditionSub</th>\n",
       "    </tr>\n",
       "  </thead>\n",
       "  <tbody>\n",
       "    <tr>\n",
       "      <th>0</th>\n",
       "      <td>The Prisoner's Gold (The Hunters 3)</td>\n",
       "      <td>Chris Kuzneski</td>\n",
       "      <td>4.0 out of 5 stars</td>\n",
       "      <td>8 customer reviews</td>\n",
       "      <td>THE HUNTERS return in their third brilliant no...</td>\n",
       "      <td>Action &amp; Adventure (Books)</td>\n",
       "      <td>Action &amp; Adventure</td>\n",
       "      <td>220.00</td>\n",
       "      <td>Paperback</td>\n",
       "      <td>10 Mar 2016</td>\n",
       "      <td>NaN</td>\n",
       "    </tr>\n",
       "    <tr>\n",
       "      <th>1</th>\n",
       "      <td>Guru Dutt: A Tragedy in Three Acts</td>\n",
       "      <td>Arun Khopkar</td>\n",
       "      <td>3.9 out of 5 stars</td>\n",
       "      <td>14 customer reviews</td>\n",
       "      <td>A layered portrait of a troubled genius for wh...</td>\n",
       "      <td>Cinema &amp; Broadcast (Books)</td>\n",
       "      <td>Biographies, Diaries &amp; True Accounts</td>\n",
       "      <td>202.93</td>\n",
       "      <td>Paperback</td>\n",
       "      <td>7 Nov 2012</td>\n",
       "      <td>NaN</td>\n",
       "    </tr>\n",
       "    <tr>\n",
       "      <th>2</th>\n",
       "      <td>Leviathan (Penguin Classics)</td>\n",
       "      <td>Thomas Hobbes</td>\n",
       "      <td>4.8 out of 5 stars</td>\n",
       "      <td>6 customer reviews</td>\n",
       "      <td>\"During the time men live without a common Pow...</td>\n",
       "      <td>International Relations</td>\n",
       "      <td>Humour</td>\n",
       "      <td>299.00</td>\n",
       "      <td>Paperback</td>\n",
       "      <td>25 Feb 1982</td>\n",
       "      <td>NaN</td>\n",
       "    </tr>\n",
       "    <tr>\n",
       "      <th>3</th>\n",
       "      <td>A Pocket Full of Rye (Miss Marple)</td>\n",
       "      <td>Agatha Christie</td>\n",
       "      <td>4.1 out of 5 stars</td>\n",
       "      <td>13 customer reviews</td>\n",
       "      <td>A handful of grain is found in the pocket of a...</td>\n",
       "      <td>Contemporary Fiction (Books)</td>\n",
       "      <td>Crime, Thriller &amp; Mystery</td>\n",
       "      <td>180.00</td>\n",
       "      <td>Paperback</td>\n",
       "      <td>5 Oct 2017</td>\n",
       "      <td>NaN</td>\n",
       "    </tr>\n",
       "    <tr>\n",
       "      <th>4</th>\n",
       "      <td>LIFE 70 Years of Extraordinary Photography</td>\n",
       "      <td>Editors of Life</td>\n",
       "      <td>5.0 out of 5 stars</td>\n",
       "      <td>1 customer review</td>\n",
       "      <td>For seven decades, \"Life\" has been thrilling t...</td>\n",
       "      <td>Photography Textbooks</td>\n",
       "      <td>Arts, Film &amp; Photography</td>\n",
       "      <td>965.62</td>\n",
       "      <td>Hardcover</td>\n",
       "      <td>10 Oct 2006</td>\n",
       "      <td>NaN</td>\n",
       "    </tr>\n",
       "  </tbody>\n",
       "</table>\n",
       "</div>"
      ],
      "text/plain": [
       "                                        Title           Author  \\\n",
       "0         The Prisoner's Gold (The Hunters 3)   Chris Kuzneski   \n",
       "1          Guru Dutt: A Tragedy in Three Acts     Arun Khopkar   \n",
       "2                Leviathan (Penguin Classics)    Thomas Hobbes   \n",
       "3          A Pocket Full of Rye (Miss Marple)  Agatha Christie   \n",
       "4  LIFE 70 Years of Extraordinary Photography  Editors of Life   \n",
       "\n",
       "              Reviews              Ratings  \\\n",
       "0  4.0 out of 5 stars   8 customer reviews   \n",
       "1  3.9 out of 5 stars  14 customer reviews   \n",
       "2  4.8 out of 5 stars   6 customer reviews   \n",
       "3  4.1 out of 5 stars  13 customer reviews   \n",
       "4  5.0 out of 5 stars    1 customer review   \n",
       "\n",
       "                                            Synopsis  \\\n",
       "0  THE HUNTERS return in their third brilliant no...   \n",
       "1  A layered portrait of a troubled genius for wh...   \n",
       "2  \"During the time men live without a common Pow...   \n",
       "3  A handful of grain is found in the pocket of a...   \n",
       "4  For seven decades, \"Life\" has been thrilling t...   \n",
       "\n",
       "                          Genre                          BookCategory   Price  \\\n",
       "0    Action & Adventure (Books)                    Action & Adventure  220.00   \n",
       "1    Cinema & Broadcast (Books)  Biographies, Diaries & True Accounts  202.93   \n",
       "2       International Relations                                Humour  299.00   \n",
       "3  Contemporary Fiction (Books)             Crime, Thriller & Mystery  180.00   \n",
       "4         Photography Textbooks              Arts, Film & Photography  965.62   \n",
       "\n",
       "  EditionName  EditionDate EditionSub  \n",
       "0   Paperback  10 Mar 2016        NaN  \n",
       "1   Paperback   7 Nov 2012        NaN  \n",
       "2   Paperback  25 Feb 1982        NaN  \n",
       "3   Paperback   5 Oct 2017        NaN  \n",
       "4   Hardcover  10 Oct 2006        NaN  "
      ]
     },
     "execution_count": 7,
     "metadata": {},
     "output_type": "execute_result"
    }
   ],
   "source": [
    "data['EditionName'] = data['Edition'].apply(lambda x : x.split(',')[0])\n",
    "data['EditionDate'] = data['Edition'].apply(extract_date)\n",
    "data['EditionSub'] = data['Edition'].apply(extract_edition_sub)\n",
    "data_submit['EditionName'] = data_submit['Edition'].apply(lambda x : x.split(',')[0])\n",
    "data_submit['EditionDate'] = data_submit['Edition'].apply(extract_date)\n",
    "data_submit['EditionSub'] = data_submit['Edition'].apply(extract_edition_sub)\n",
    "data = data.drop('Edition', axis=1)\n",
    "data_submit = data_submit.drop('Edition',axis=1)\n",
    "data.head()"
   ]
  },
  {
   "cell_type": "markdown",
   "metadata": {},
   "source": [
    "### Reviews"
   ]
  },
  {
   "cell_type": "code",
   "execution_count": 8,
   "metadata": {},
   "outputs": [],
   "source": [
    "data['Reviews'] = data['Reviews'].apply(lambda x: float(x.split()[0]))\n",
    "data_submit['Reviews'] = data_submit['Reviews'].apply(lambda x: float(x.split()[0]))"
   ]
  },
  {
   "cell_type": "markdown",
   "metadata": {},
   "source": [
    "### Ratings"
   ]
  },
  {
   "cell_type": "code",
   "execution_count": 9,
   "metadata": {},
   "outputs": [],
   "source": [
    "data['Ratings'] = data['Ratings'].apply(lambda x: float(x.split()[0].replace(',','.')))\n",
    "data_submit['Ratings'] = data_submit['Ratings'].apply(lambda x: float(x.split()[0].replace(',','.')))"
   ]
  },
  {
   "cell_type": "markdown",
   "metadata": {},
   "source": [
    "### Date"
   ]
  },
  {
   "cell_type": "code",
   "execution_count": 10,
   "metadata": {},
   "outputs": [],
   "source": [
    "month_num = {'Jan': '01', 'Feb': '02', 'Mar': '03', 'Apr': '04', 'May': '05', 'Jun': '06', 'Jul': '07',\n",
    "            'Aug': '08', 'Sep': '09', 'Oct': '10', 'Nov': '11', 'Dec': '12'}\n",
    "def convert_to_date(x):\n",
    "    if x != x:\n",
    "        return x\n",
    "    component = x.split()\n",
    "    if len(component) > 2:\n",
    "        return component[2] + '-' + month_num[component[1]] + '-' + component[0]\n",
    "    elif len(component) > 1:\n",
    "        return component[1] + '-' + month_num[component[0]] + '-01'\n",
    "    else:\n",
    "        return component[0] + '-01-01'"
   ]
  },
  {
   "cell_type": "code",
   "execution_count": 11,
   "metadata": {},
   "outputs": [],
   "source": [
    "data['EditionDate'] = data['EditionDate'].apply(convert_to_date)\n",
    "data_submit['EditionDate'] = data_submit['EditionDate'].apply(convert_to_date)"
   ]
  },
  {
   "cell_type": "markdown",
   "metadata": {},
   "source": [
    "### New info on data"
   ]
  },
  {
   "cell_type": "code",
   "execution_count": 12,
   "metadata": {},
   "outputs": [
    {
     "name": "stdout",
     "output_type": "stream",
     "text": [
      "<class 'pandas.core.frame.DataFrame'>\n",
      "RangeIndex: 6237 entries, 0 to 6236\n",
      "Data columns (total 11 columns):\n",
      " #   Column        Non-Null Count  Dtype  \n",
      "---  ------        --------------  -----  \n",
      " 0   Title         6237 non-null   object \n",
      " 1   Author        6237 non-null   object \n",
      " 2   Reviews       6237 non-null   float64\n",
      " 3   Ratings       6237 non-null   float64\n",
      " 4   Synopsis      6237 non-null   object \n",
      " 5   Genre         6237 non-null   object \n",
      " 6   BookCategory  6237 non-null   object \n",
      " 7   Price         6237 non-null   float64\n",
      " 8   EditionName   6237 non-null   object \n",
      " 9   EditionDate   6216 non-null   object \n",
      " 10  EditionSub    786 non-null    object \n",
      "dtypes: float64(3), object(8)\n",
      "memory usage: 536.1+ KB\n"
     ]
    }
   ],
   "source": [
    "data.info()"
   ]
  },
  {
   "cell_type": "markdown",
   "metadata": {},
   "source": [
    "**Well there are some missing data such as the edition's date. Not Really a problem since I will use some ml algorithm than handles missing data**"
   ]
  },
  {
   "cell_type": "markdown",
   "metadata": {},
   "source": [
    "## Comparaison between the train & the test set"
   ]
  },
  {
   "cell_type": "markdown",
   "metadata": {},
   "source": [
    "### Author"
   ]
  },
  {
   "cell_type": "code",
   "execution_count": 13,
   "metadata": {},
   "outputs": [
    {
     "name": "stdout",
     "output_type": "stream",
     "text": [
      "There are 3679 differents authors in the train set\n",
      "\n",
      "There are 1224 differents authors in the test set\n"
     ]
    }
   ],
   "source": [
    "all_author_train = data.Author.unique().tolist()\n",
    "all_author_test = data_submit.Author.unique().tolist()\n",
    "print(f'There are {len(all_author_train)} differents authors in the train set')\n",
    "print()\n",
    "print(f'There are {len(all_author_test)} differents authors in the test set')"
   ]
  },
  {
   "cell_type": "code",
   "execution_count": 14,
   "metadata": {},
   "outputs": [
    {
     "name": "stdout",
     "output_type": "stream",
     "text": [
      "There are 693 authors that in the test set but not in the train set\n"
     ]
    }
   ],
   "source": [
    "author_only_in_test = [x for x in all_author_test if x not in all_author_train]\n",
    "print(f'There are {len(author_only_in_test)} authors that in the test set but not in the train set')"
   ]
  },
  {
   "cell_type": "markdown",
   "metadata": {},
   "source": [
    "### Edition"
   ]
  },
  {
   "cell_type": "code",
   "execution_count": 15,
   "metadata": {},
   "outputs": [
    {
     "name": "stdout",
     "output_type": "stream",
     "text": [
      "There are 19 differents editions in the train set\n",
      "\n",
      "There are 9 differents editions in the test set\n"
     ]
    }
   ],
   "source": [
    "all_edition_train = data.EditionName.unique().tolist()\n",
    "all_edition_test = data_submit.EditionName.unique().tolist()\n",
    "print(f'There are {len(all_edition_train)} differents editions in the train set')\n",
    "print()\n",
    "print(f'There are {len(all_edition_test)} differents editions in the test set')"
   ]
  },
  {
   "cell_type": "code",
   "execution_count": 16,
   "metadata": {},
   "outputs": [
    {
     "name": "stdout",
     "output_type": "stream",
     "text": [
      "There are 1 edition that in the test set but not in the train set\n"
     ]
    }
   ],
   "source": [
    "edition_only_in_test = [x for x in all_edition_test if x not in all_edition_train]\n",
    "print(f'There are {len(edition_only_in_test)} edition that in the test set but not in the train set')"
   ]
  },
  {
   "cell_type": "markdown",
   "metadata": {},
   "source": [
    "### Genre"
   ]
  },
  {
   "cell_type": "code",
   "execution_count": 17,
   "metadata": {},
   "outputs": [
    {
     "name": "stdout",
     "output_type": "stream",
     "text": [
      "There are 345 differents genre in the train set\n",
      "\n",
      "There are 225 differents genre in the test set\n"
     ]
    }
   ],
   "source": [
    "all_genre_train = data.Genre.unique().tolist()\n",
    "all_genre_test = data_submit.Genre.unique().tolist()\n",
    "print(f'There are {len(all_genre_train)} differents genre in the train set')\n",
    "print()\n",
    "print(f'There are {len(all_genre_test)} differents genre in the test set')"
   ]
  },
  {
   "cell_type": "code",
   "execution_count": 18,
   "metadata": {},
   "outputs": [
    {
     "name": "stdout",
     "output_type": "stream",
     "text": [
      "There are 18 genre that in the test set but not in the train set\n"
     ]
    }
   ],
   "source": [
    "genre_only_in_test = [x for x in all_genre_test if x not in all_genre_train]\n",
    "print(f'There are {len(genre_only_in_test)} genre that in the test set but not in the train set')"
   ]
  },
  {
   "cell_type": "markdown",
   "metadata": {},
   "source": [
    "### BookCategory"
   ]
  },
  {
   "cell_type": "code",
   "execution_count": 19,
   "metadata": {},
   "outputs": [
    {
     "name": "stdout",
     "output_type": "stream",
     "text": [
      "There are 11 differents BookCategory in the train set\n",
      "\n",
      "There are 11 differents BookCategory in the test set\n"
     ]
    }
   ],
   "source": [
    "all_BookCategory_train = data.BookCategory.unique().tolist()\n",
    "all_BookCategory_test = data_submit.BookCategory.unique().tolist()\n",
    "print(f'There are {len(all_BookCategory_train)} differents BookCategory in the train set')\n",
    "print()\n",
    "print(f'There are {len(all_BookCategory_test)} differents BookCategory in the test set')"
   ]
  },
  {
   "cell_type": "code",
   "execution_count": 20,
   "metadata": {},
   "outputs": [
    {
     "name": "stdout",
     "output_type": "stream",
     "text": [
      "There are 0 genre that in the test set but not in the train set\n"
     ]
    }
   ],
   "source": [
    "BookCategory_only_in_test = [x for x in all_BookCategory_test if x not in all_BookCategory_train]\n",
    "print(f'There are {len(BookCategory_only_in_test)} genre that in the test set but not in the train set')"
   ]
  },
  {
   "cell_type": "markdown",
   "metadata": {},
   "source": [
    "# Price : y "
   ]
  },
  {
   "cell_type": "code",
   "execution_count": 21,
   "metadata": {},
   "outputs": [
    {
     "name": "stderr",
     "output_type": "stream",
     "text": [
      "/Users/omarsouaidi/opt/miniconda3/lib/python3.8/site-packages/seaborn/distributions.py:2551: FutureWarning: `distplot` is a deprecated function and will be removed in a future version. Please adapt your code to use either `displot` (a figure-level function with similar flexibility) or `histplot` (an axes-level function for histograms).\n",
      "  warnings.warn(msg, FutureWarning)\n"
     ]
    },
    {
     "data": {
      "image/png": "[encoded data removed]",
      "text/plain": [
       "<Figure size 1440x1440 with 1 Axes>"
      ]
     },
     "metadata": {
      "needs_background": "light"
     },
     "output_type": "display_data"
    }
   ],
   "source": [
    "# seaborn histogram\n",
    "plt.figure(figsize=(20,20))\n",
    "sns.distplot(data['Price'], kde=False)\n",
    "plt.show()"
   ]
  },
  {
   "cell_type": "markdown",
   "metadata": {},
   "source": [
    "We can notice here that more than 70% of the dataset's books price belongs to range[0,500]"
   ]
  },
  {
   "cell_type": "markdown",
   "metadata": {},
   "source": [
    "## Price and Ratings"
   ]
  },
  {
   "cell_type": "code",
   "execution_count": 22,
   "metadata": {},
   "outputs": [
    {
     "data": {
      "image/png": "[encoded data removed]",
      "text/plain": [
       "<Figure size 1080x1080 with 1 Axes>"
      ]
     },
     "metadata": {
      "needs_background": "light"
     },
     "output_type": "display_data"
    }
   ],
   "source": [
    "plt.figure(figsize=(15,15))\n",
    "sns.scatterplot(x=\"Price\", y=\"Ratings\", data=data)\n",
    "plt.show()"
   ]
  },
  {
   "cell_type": "markdown",
   "metadata": {},
   "source": [
    "**As you can see, a large number of ratings means that the book is cheaper, which is normal since that the less it costs, the more people will buy it.**\n",
    "\n",
    "Now Im going to look into some of the \"outliers\""
   ]
  },
  {
   "cell_type": "code",
   "execution_count": 23,
   "metadata": {},
   "outputs": [
    {
     "data": {
      "text/html": [
       "<div>\n",
       "<style scoped>\n",
       "    .dataframe tbody tr th:only-of-type {\n",
       "        vertical-align: middle;\n",
       "    }\n",
       "\n",
       "    .dataframe tbody tr th {\n",
       "        vertical-align: top;\n",
       "    }\n",
       "\n",
       "    .dataframe thead th {\n",
       "        text-align: right;\n",
       "    }\n",
       "</style>\n",
       "<table border=\"1\" class=\"dataframe\">\n",
       "  <thead>\n",
       "    <tr style=\"text-align: right;\">\n",
       "      <th></th>\n",
       "      <th>Title</th>\n",
       "      <th>Author</th>\n",
       "      <th>Reviews</th>\n",
       "      <th>Ratings</th>\n",
       "      <th>Synopsis</th>\n",
       "      <th>Genre</th>\n",
       "      <th>BookCategory</th>\n",
       "      <th>Price</th>\n",
       "      <th>EditionName</th>\n",
       "      <th>EditionDate</th>\n",
       "      <th>EditionSub</th>\n",
       "    </tr>\n",
       "  </thead>\n",
       "  <tbody>\n",
       "    <tr>\n",
       "      <th>27</th>\n",
       "      <td>The Buddha Box Set</td>\n",
       "      <td>Osamu Tezuka</td>\n",
       "      <td>4.3</td>\n",
       "      <td>34.0</td>\n",
       "      <td>The classic eight volume graphic novel series ...</td>\n",
       "      <td>Comics &amp; Graphic Novels (Books)</td>\n",
       "      <td>Comics &amp; Mangas</td>\n",
       "      <td>3779.00</td>\n",
       "      <td>Paperback</td>\n",
       "      <td>2014-06-15</td>\n",
       "      <td>Box set</td>\n",
       "    </tr>\n",
       "    <tr>\n",
       "      <th>93</th>\n",
       "      <td>AWS Certified Solutions Architect Official Stu...</td>\n",
       "      <td>Joe Baron</td>\n",
       "      <td>4.1</td>\n",
       "      <td>171.0</td>\n",
       "      <td>Validate your AWS skills. This is your opportu...</td>\n",
       "      <td>IT Certification Exams</td>\n",
       "      <td>Computing, Internet &amp; Digital Media</td>\n",
       "      <td>2846.00</td>\n",
       "      <td>Paperback</td>\n",
       "      <td>2016-11-29</td>\n",
       "      <td>NaN</td>\n",
       "    </tr>\n",
       "    <tr>\n",
       "      <th>183</th>\n",
       "      <td>Excel 2013 Bible</td>\n",
       "      <td>John Walkenbach</td>\n",
       "      <td>4.2</td>\n",
       "      <td>46.0</td>\n",
       "      <td>Excel at Excel with the help of this bestselli...</td>\n",
       "      <td>Software &amp; Business Applications (Books)</td>\n",
       "      <td>Computing, Internet &amp; Digital Media</td>\n",
       "      <td>2905.00</td>\n",
       "      <td>Paperback</td>\n",
       "      <td>2013-03-5</td>\n",
       "      <td>Unabridged</td>\n",
       "    </tr>\n",
       "    <tr>\n",
       "      <th>251</th>\n",
       "      <td>Little Black Classics Box Set (Penguin Little ...</td>\n",
       "      <td>Various</td>\n",
       "      <td>4.0</td>\n",
       "      <td>27.0</td>\n",
       "      <td>In celebration of Penguin's 80th birthday, thi...</td>\n",
       "      <td>Asian Literature</td>\n",
       "      <td>Biographies, Diaries &amp; True Accounts</td>\n",
       "      <td>2742.00</td>\n",
       "      <td>Paperback</td>\n",
       "      <td>2015-11-24</td>\n",
       "      <td>NaN</td>\n",
       "    </tr>\n",
       "    <tr>\n",
       "      <th>377</th>\n",
       "      <td>The Study Quran: A New Translation and Commentary</td>\n",
       "      <td>Joseph E.B. Lumbard</td>\n",
       "      <td>4.3</td>\n",
       "      <td>20.0</td>\n",
       "      <td>An accessible and accurate translation of the ...</td>\n",
       "      <td>Action &amp; Adventure (Books)</td>\n",
       "      <td>Action &amp; Adventure</td>\n",
       "      <td>2216.63</td>\n",
       "      <td>Hardcover</td>\n",
       "      <td>2015-11-17</td>\n",
       "      <td>NaN</td>\n",
       "    </tr>\n",
       "    <tr>\n",
       "      <th>895</th>\n",
       "      <td>Python Machine Learning By Example</td>\n",
       "      <td>Yuxi (Hayden) Liu</td>\n",
       "      <td>4.3</td>\n",
       "      <td>26.0</td>\n",
       "      <td>Take tiny steps to enter the big world of data...</td>\n",
       "      <td>Python Programming</td>\n",
       "      <td>Computing, Internet &amp; Digital Media</td>\n",
       "      <td>2798.00</td>\n",
       "      <td>Paperback</td>\n",
       "      <td>2017-05-31</td>\n",
       "      <td>Import</td>\n",
       "    </tr>\n",
       "    <tr>\n",
       "      <th>2006</th>\n",
       "      <td>Longman Dictionary of Contemporary English New...</td>\n",
       "      <td>Pearson Education Limited</td>\n",
       "      <td>4.6</td>\n",
       "      <td>52.0</td>\n",
       "      <td>The Longman Dictionary of Contempory English (...</td>\n",
       "      <td>Language Learning &amp; Teaching (Books)</td>\n",
       "      <td>Language, Linguistics &amp; Writing</td>\n",
       "      <td>3647.00</td>\n",
       "      <td>Paperback</td>\n",
       "      <td>2008-08-26</td>\n",
       "      <td>NaN</td>\n",
       "    </tr>\n",
       "    <tr>\n",
       "      <th>2343</th>\n",
       "      <td>Pearson Test of English Academic Practice Test...</td>\n",
       "      <td>Ms Kate Chandler, Ms Lisa da Silva, Mr Simon C...</td>\n",
       "      <td>4.0</td>\n",
       "      <td>126.0</td>\n",
       "      <td>PTE Academic Practice Tests Plus includes:\\n •...</td>\n",
       "      <td>Linguistics (Books)</td>\n",
       "      <td>Language, Linguistics &amp; Writing</td>\n",
       "      <td>2000.00</td>\n",
       "      <td>Paperback</td>\n",
       "      <td>2013-02-28</td>\n",
       "      <td>Import</td>\n",
       "    </tr>\n",
       "    <tr>\n",
       "      <th>2359</th>\n",
       "      <td>Death Note Box Set (Vol.s 1-13): Volumes 1 - 12</td>\n",
       "      <td>Tsugumi Ohba</td>\n",
       "      <td>4.5</td>\n",
       "      <td>43.0</td>\n",
       "      <td>The entire Death Note manga story arc is now a...</td>\n",
       "      <td>Mangas</td>\n",
       "      <td>Comics &amp; Mangas</td>\n",
       "      <td>3990.00</td>\n",
       "      <td>Paperback</td>\n",
       "      <td>2008-10-7</td>\n",
       "      <td>Box set</td>\n",
       "    </tr>\n",
       "    <tr>\n",
       "      <th>2455</th>\n",
       "      <td>The Complete Asterix Box Set (36 Titles)</td>\n",
       "      <td>Rene Goscinny</td>\n",
       "      <td>4.9</td>\n",
       "      <td>22.0</td>\n",
       "      <td>Composed of thirty six, four-colour albums in ...</td>\n",
       "      <td>Comics &amp; Graphic Novels (Books)</td>\n",
       "      <td>Comics &amp; Mangas</td>\n",
       "      <td>14100.00</td>\n",
       "      <td>Product Bundle</td>\n",
       "      <td>2016-08-26</td>\n",
       "      <td>NaN</td>\n",
       "    </tr>\n",
       "    <tr>\n",
       "      <th>2941</th>\n",
       "      <td>The Complete Calvin and Hobbes (Set of 4 Books)</td>\n",
       "      <td>Watterson</td>\n",
       "      <td>4.7</td>\n",
       "      <td>122.0</td>\n",
       "      <td>Join Calvin and Hobbes on all their adventures...</td>\n",
       "      <td>Humour (Books)</td>\n",
       "      <td>Humour</td>\n",
       "      <td>4175.00</td>\n",
       "      <td>Paperback</td>\n",
       "      <td>2012-11-13</td>\n",
       "      <td>NaN</td>\n",
       "    </tr>\n",
       "    <tr>\n",
       "      <th>3123</th>\n",
       "      <td>Little Black Classics Box Set (Penguin Little ...</td>\n",
       "      <td>Various</td>\n",
       "      <td>4.0</td>\n",
       "      <td>27.0</td>\n",
       "      <td>In celebration of Penguin's 80th birthday, thi...</td>\n",
       "      <td>Asian Literature</td>\n",
       "      <td>Crime, Thriller &amp; Mystery</td>\n",
       "      <td>2742.00</td>\n",
       "      <td>Paperback</td>\n",
       "      <td>2015-11-24</td>\n",
       "      <td>NaN</td>\n",
       "    </tr>\n",
       "    <tr>\n",
       "      <th>3633</th>\n",
       "      <td>The Tintin Collection: The Adventure of Tintin...</td>\n",
       "      <td>Hergé</td>\n",
       "      <td>4.0</td>\n",
       "      <td>52.0</td>\n",
       "      <td>Adventures of Tintin have been lauded by both ...</td>\n",
       "      <td>Comics &amp; Mangas (Books)</td>\n",
       "      <td>Arts, Film &amp; Photography</td>\n",
       "      <td>5968.00</td>\n",
       "      <td>Hardcover</td>\n",
       "      <td>2015-05-7</td>\n",
       "      <td>NaN</td>\n",
       "    </tr>\n",
       "    <tr>\n",
       "      <th>3692</th>\n",
       "      <td>A Song of Ice and Fire - A Game of Thrones: Th...</td>\n",
       "      <td>George R R Martin</td>\n",
       "      <td>4.5</td>\n",
       "      <td>670.0</td>\n",
       "      <td>HBO’s hit series A Game of Thrones is based on...</td>\n",
       "      <td>Action &amp; Adventure (Books)</td>\n",
       "      <td>Crime, Thriller &amp; Mystery</td>\n",
       "      <td>2403.00</td>\n",
       "      <td>Paperback</td>\n",
       "      <td>2016-01-5</td>\n",
       "      <td>NaN</td>\n",
       "    </tr>\n",
       "    <tr>\n",
       "      <th>4203</th>\n",
       "      <td>The Winner Stands Alone: A Novel</td>\n",
       "      <td>Paulo Coelho</td>\n",
       "      <td>4.1</td>\n",
       "      <td>82.0</td>\n",
       "      <td>“[Coelho’s] special talent seems to be his abi...</td>\n",
       "      <td>Mind, Body &amp; Spirit (Books)</td>\n",
       "      <td>Crime, Thriller &amp; Mystery</td>\n",
       "      <td>2442.00</td>\n",
       "      <td>Hardcover</td>\n",
       "      <td>2009-04-7</td>\n",
       "      <td>Import</td>\n",
       "    </tr>\n",
       "    <tr>\n",
       "      <th>4305</th>\n",
       "      <td>Web Design with HTML, CSS, JavaScript and jQue...</td>\n",
       "      <td>Jon Duckett</td>\n",
       "      <td>4.6</td>\n",
       "      <td>64.0</td>\n",
       "      <td>A two-book set for web designers and front-end...</td>\n",
       "      <td>Graphics &amp; Visualization</td>\n",
       "      <td>Computing, Internet &amp; Digital Media</td>\n",
       "      <td>2747.00</td>\n",
       "      <td>Paperback</td>\n",
       "      <td>2014-08-15</td>\n",
       "      <td>NaN</td>\n",
       "    </tr>\n",
       "    <tr>\n",
       "      <th>4742</th>\n",
       "      <td>Deep Learning (Adaptive Computation and Machin...</td>\n",
       "      <td>Ian Goodfellow</td>\n",
       "      <td>4.3</td>\n",
       "      <td>66.0</td>\n",
       "      <td>An introduction to a broad range of topics in ...</td>\n",
       "      <td>Algebra &amp; Trigonometry</td>\n",
       "      <td>Computing, Internet &amp; Digital Media</td>\n",
       "      <td>2450.00</td>\n",
       "      <td>Hardcover</td>\n",
       "      <td>2017-01-3</td>\n",
       "      <td>NaN</td>\n",
       "    </tr>\n",
       "    <tr>\n",
       "      <th>4877</th>\n",
       "      <td>The Complete Calvin and Hobbes (Set of 4 Books)</td>\n",
       "      <td>Watterson</td>\n",
       "      <td>4.7</td>\n",
       "      <td>122.0</td>\n",
       "      <td>Join Calvin and Hobbes on all their adventures...</td>\n",
       "      <td>Humour (Books)</td>\n",
       "      <td>Comics &amp; Mangas</td>\n",
       "      <td>4175.00</td>\n",
       "      <td>Paperback</td>\n",
       "      <td>2012-11-13</td>\n",
       "      <td>NaN</td>\n",
       "    </tr>\n",
       "    <tr>\n",
       "      <th>5108</th>\n",
       "      <td>A Song of Ice and Fire - A Game of Thrones: Th...</td>\n",
       "      <td>George R R Martin</td>\n",
       "      <td>4.5</td>\n",
       "      <td>727.0</td>\n",
       "      <td>HBO’s hit series A Game of Thrones is based on...</td>\n",
       "      <td>Action &amp; Adventure (Books)</td>\n",
       "      <td>Action &amp; Adventure</td>\n",
       "      <td>2403.00</td>\n",
       "      <td>Paperback</td>\n",
       "      <td>2016-01-5</td>\n",
       "      <td>NaN</td>\n",
       "    </tr>\n",
       "    <tr>\n",
       "      <th>5231</th>\n",
       "      <td>The Web Application Hacker′s Handbook: Finding...</td>\n",
       "      <td>Dafydd Stuttard</td>\n",
       "      <td>4.2</td>\n",
       "      <td>85.0</td>\n",
       "      <td>The highly successful security book returns wi...</td>\n",
       "      <td>Networks &amp; System Administration (Books)</td>\n",
       "      <td>Computing, Internet &amp; Digital Media</td>\n",
       "      <td>2764.00</td>\n",
       "      <td>Paperback</td>\n",
       "      <td>2011-10-7</td>\n",
       "      <td>NaN</td>\n",
       "    </tr>\n",
       "    <tr>\n",
       "      <th>5927</th>\n",
       "      <td>Death Note Box Set (Vol.s 1-13): Volumes 1 - 12</td>\n",
       "      <td>Tsugumi Ohba</td>\n",
       "      <td>4.5</td>\n",
       "      <td>43.0</td>\n",
       "      <td>The entire Death Note manga story arc is now a...</td>\n",
       "      <td>Mangas</td>\n",
       "      <td>Politics</td>\n",
       "      <td>2999.00</td>\n",
       "      <td>Paperback</td>\n",
       "      <td>2008-10-7</td>\n",
       "      <td>Box set</td>\n",
       "    </tr>\n",
       "    <tr>\n",
       "      <th>6018</th>\n",
       "      <td>The Tintin Collection: The Adventure of Tintin...</td>\n",
       "      <td>Hergé</td>\n",
       "      <td>4.0</td>\n",
       "      <td>53.0</td>\n",
       "      <td>Adventures of Tintin have been lauded by both ...</td>\n",
       "      <td>Comics &amp; Mangas (Books)</td>\n",
       "      <td>Comics &amp; Mangas</td>\n",
       "      <td>4915.00</td>\n",
       "      <td>Hardcover</td>\n",
       "      <td>2015-05-7</td>\n",
       "      <td>NaN</td>\n",
       "    </tr>\n",
       "  </tbody>\n",
       "</table>\n",
       "</div>"
      ],
      "text/plain": [
       "                                                  Title  \\\n",
       "27                                   The Buddha Box Set   \n",
       "93    AWS Certified Solutions Architect Official Stu...   \n",
       "183                                    Excel 2013 Bible   \n",
       "251   Little Black Classics Box Set (Penguin Little ...   \n",
       "377   The Study Quran: A New Translation and Commentary   \n",
       "895                  Python Machine Learning By Example   \n",
       "2006  Longman Dictionary of Contemporary English New...   \n",
       "2343  Pearson Test of English Academic Practice Test...   \n",
       "2359    Death Note Box Set (Vol.s 1-13): Volumes 1 - 12   \n",
       "2455           The Complete Asterix Box Set (36 Titles)   \n",
       "2941    The Complete Calvin and Hobbes (Set of 4 Books)   \n",
       "3123  Little Black Classics Box Set (Penguin Little ...   \n",
       "3633  The Tintin Collection: The Adventure of Tintin...   \n",
       "3692  A Song of Ice and Fire - A Game of Thrones: Th...   \n",
       "4203                   The Winner Stands Alone: A Novel   \n",
       "4305  Web Design with HTML, CSS, JavaScript and jQue...   \n",
       "4742  Deep Learning (Adaptive Computation and Machin...   \n",
       "4877    The Complete Calvin and Hobbes (Set of 4 Books)   \n",
       "5108  A Song of Ice and Fire - A Game of Thrones: Th...   \n",
       "5231  The Web Application Hacker′s Handbook: Finding...   \n",
       "5927    Death Note Box Set (Vol.s 1-13): Volumes 1 - 12   \n",
       "6018  The Tintin Collection: The Adventure of Tintin...   \n",
       "\n",
       "                                                 Author  Reviews  Ratings  \\\n",
       "27                                         Osamu Tezuka      4.3     34.0   \n",
       "93                                            Joe Baron      4.1    171.0   \n",
       "183                                     John Walkenbach      4.2     46.0   \n",
       "251                                             Various      4.0     27.0   \n",
       "377                                 Joseph E.B. Lumbard      4.3     20.0   \n",
       "895                                   Yuxi (Hayden) Liu      4.3     26.0   \n",
       "2006                          Pearson Education Limited      4.6     52.0   \n",
       "2343  Ms Kate Chandler, Ms Lisa da Silva, Mr Simon C...      4.0    126.0   \n",
       "2359                                       Tsugumi Ohba      4.5     43.0   \n",
       "2455                                      Rene Goscinny      4.9     22.0   \n",
       "2941                                          Watterson      4.7    122.0   \n",
       "3123                                            Various      4.0     27.0   \n",
       "3633                                              Hergé      4.0     52.0   \n",
       "3692                                  George R R Martin      4.5    670.0   \n",
       "4203                                       Paulo Coelho      4.1     82.0   \n",
       "4305                                        Jon Duckett      4.6     64.0   \n",
       "4742                                     Ian Goodfellow      4.3     66.0   \n",
       "4877                                          Watterson      4.7    122.0   \n",
       "5108                                  George R R Martin      4.5    727.0   \n",
       "5231                                    Dafydd Stuttard      4.2     85.0   \n",
       "5927                                       Tsugumi Ohba      4.5     43.0   \n",
       "6018                                              Hergé      4.0     53.0   \n",
       "\n",
       "                                               Synopsis  \\\n",
       "27    The classic eight volume graphic novel series ...   \n",
       "93    Validate your AWS skills. This is your opportu...   \n",
       "183   Excel at Excel with the help of this bestselli...   \n",
       "251   In celebration of Penguin's 80th birthday, thi...   \n",
       "377   An accessible and accurate translation of the ...   \n",
       "895   Take tiny steps to enter the big world of data...   \n",
       "2006  The Longman Dictionary of Contempory English (...   \n",
       "2343  PTE Academic Practice Tests Plus includes:\\n •...   \n",
       "2359  The entire Death Note manga story arc is now a...   \n",
       "2455  Composed of thirty six, four-colour albums in ...   \n",
       "2941  Join Calvin and Hobbes on all their adventures...   \n",
       "3123  In celebration of Penguin's 80th birthday, thi...   \n",
       "3633  Adventures of Tintin have been lauded by both ...   \n",
       "3692  HBO’s hit series A Game of Thrones is based on...   \n",
       "4203  “[Coelho’s] special talent seems to be his abi...   \n",
       "4305  A two-book set for web designers and front-end...   \n",
       "4742  An introduction to a broad range of topics in ...   \n",
       "4877  Join Calvin and Hobbes on all their adventures...   \n",
       "5108  HBO’s hit series A Game of Thrones is based on...   \n",
       "5231  The highly successful security book returns wi...   \n",
       "5927  The entire Death Note manga story arc is now a...   \n",
       "6018  Adventures of Tintin have been lauded by both ...   \n",
       "\n",
       "                                         Genre  \\\n",
       "27             Comics & Graphic Novels (Books)   \n",
       "93                      IT Certification Exams   \n",
       "183   Software & Business Applications (Books)   \n",
       "251                           Asian Literature   \n",
       "377                 Action & Adventure (Books)   \n",
       "895                         Python Programming   \n",
       "2006      Language Learning & Teaching (Books)   \n",
       "2343                       Linguistics (Books)   \n",
       "2359                                    Mangas   \n",
       "2455           Comics & Graphic Novels (Books)   \n",
       "2941                            Humour (Books)   \n",
       "3123                          Asian Literature   \n",
       "3633                   Comics & Mangas (Books)   \n",
       "3692                Action & Adventure (Books)   \n",
       "4203               Mind, Body & Spirit (Books)   \n",
       "4305                  Graphics & Visualization   \n",
       "4742                    Algebra & Trigonometry   \n",
       "4877                            Humour (Books)   \n",
       "5108                Action & Adventure (Books)   \n",
       "5231  Networks & System Administration (Books)   \n",
       "5927                                    Mangas   \n",
       "6018                   Comics & Mangas (Books)   \n",
       "\n",
       "                              BookCategory     Price     EditionName  \\\n",
       "27                         Comics & Mangas   3779.00       Paperback   \n",
       "93     Computing, Internet & Digital Media   2846.00       Paperback   \n",
       "183    Computing, Internet & Digital Media   2905.00       Paperback   \n",
       "251   Biographies, Diaries & True Accounts   2742.00       Paperback   \n",
       "377                     Action & Adventure   2216.63       Hardcover   \n",
       "895    Computing, Internet & Digital Media   2798.00       Paperback   \n",
       "2006       Language, Linguistics & Writing   3647.00       Paperback   \n",
       "2343       Language, Linguistics & Writing   2000.00       Paperback   \n",
       "2359                       Comics & Mangas   3990.00       Paperback   \n",
       "2455                       Comics & Mangas  14100.00  Product Bundle   \n",
       "2941                                Humour   4175.00       Paperback   \n",
       "3123             Crime, Thriller & Mystery   2742.00       Paperback   \n",
       "3633              Arts, Film & Photography   5968.00       Hardcover   \n",
       "3692             Crime, Thriller & Mystery   2403.00       Paperback   \n",
       "4203             Crime, Thriller & Mystery   2442.00       Hardcover   \n",
       "4305   Computing, Internet & Digital Media   2747.00       Paperback   \n",
       "4742   Computing, Internet & Digital Media   2450.00       Hardcover   \n",
       "4877                       Comics & Mangas   4175.00       Paperback   \n",
       "5108                    Action & Adventure   2403.00       Paperback   \n",
       "5231   Computing, Internet & Digital Media   2764.00       Paperback   \n",
       "5927                              Politics   2999.00       Paperback   \n",
       "6018                       Comics & Mangas   4915.00       Hardcover   \n",
       "\n",
       "     EditionDate  EditionSub  \n",
       "27    2014-06-15     Box set  \n",
       "93    2016-11-29         NaN  \n",
       "183    2013-03-5  Unabridged  \n",
       "251   2015-11-24         NaN  \n",
       "377   2015-11-17         NaN  \n",
       "895   2017-05-31      Import  \n",
       "2006  2008-08-26         NaN  \n",
       "2343  2013-02-28      Import  \n",
       "2359   2008-10-7     Box set  \n",
       "2455  2016-08-26         NaN  \n",
       "2941  2012-11-13         NaN  \n",
       "3123  2015-11-24         NaN  \n",
       "3633   2015-05-7         NaN  \n",
       "3692   2016-01-5         NaN  \n",
       "4203   2009-04-7      Import  \n",
       "4305  2014-08-15         NaN  \n",
       "4742   2017-01-3         NaN  \n",
       "4877  2012-11-13         NaN  \n",
       "5108   2016-01-5         NaN  \n",
       "5231   2011-10-7         NaN  \n",
       "5927   2008-10-7     Box set  \n",
       "6018   2015-05-7         NaN  "
      ]
     },
     "execution_count": 23,
     "metadata": {},
     "output_type": "execute_result"
    }
   ],
   "source": [
    "data[(data['Price'] >= 2000) & (data['Ratings'] >= 20)]"
   ]
  },
  {
   "cell_type": "markdown",
   "metadata": {},
   "source": [
    "**Well I think I understand why we have such outliers : it's because most of them are a collection of books, so we don't buy only one book but many. \n",
    "To conclude : We have to add one feature which represent the number of books that we are going to buy. The number is going to be extracted via the title or via the Synopsis**"
   ]
  },
  {
   "cell_type": "markdown",
   "metadata": {},
   "source": [
    "## Price and Reviews"
   ]
  },
  {
   "cell_type": "code",
   "execution_count": 24,
   "metadata": {},
   "outputs": [
    {
     "data": {
      "image/png": "[encoded data removed]",
      "text/plain": [
       "<Figure size 1080x1080 with 1 Axes>"
      ]
     },
     "metadata": {
      "needs_background": "light"
     },
     "output_type": "display_data"
    }
   ],
   "source": [
    "plt.figure(figsize=(15,15))\n",
    "sns.scatterplot(x=\"Price\", y=\"Reviews\", data=data)\n",
    "plt.show()"
   ]
  },
  {
   "cell_type": "markdown",
   "metadata": {},
   "source": [
    "## Price and EditionSub"
   ]
  },
  {
   "cell_type": "code",
   "execution_count": 25,
   "metadata": {},
   "outputs": [
    {
     "data": {
      "image/png": "[encoded data removed]",
      "text/plain": [
       "<Figure size 864x864 with 1 Axes>"
      ]
     },
     "metadata": {},
     "output_type": "display_data"
    }
   ],
   "source": [
    "# plot\n",
    "sns.set_style('ticks')\n",
    "fig, ax = plt.subplots()\n",
    "# the size of A4 paper\n",
    "fig.set_size_inches(12, 12)\n",
    "sns.stripplot(x=\"EditionSub\", y=\"Price\", data=data, ax=ax)\n",
    "plt.xticks(rotation=90)\n",
    "sns.despine()"
   ]
  },
  {
   "cell_type": "markdown",
   "metadata": {},
   "source": [
    "Well, I think it will be a good idea to use the edition sub as a feature since it gives a range of the price for some books (for example : For Internation Edition, the price is from 0 to 300 .."
   ]
  },
  {
   "cell_type": "markdown",
   "metadata": {},
   "source": [
    "## BookCategory"
   ]
  },
  {
   "cell_type": "code",
   "execution_count": 26,
   "metadata": {},
   "outputs": [
    {
     "data": {
      "image/png": "[encoded data removed]",
      "text/plain": [
       "<Figure size 864x864 with 1 Axes>"
      ]
     },
     "metadata": {},
     "output_type": "display_data"
    }
   ],
   "source": [
    "# plot\n",
    "sns.set_style('ticks')\n",
    "fig, ax = plt.subplots()\n",
    "# the size of A4 paper\n",
    "fig.set_size_inches(12, 12)\n",
    "sns.stripplot(x=\"BookCategory\", y=\"Price\", data=data, ax=ax)\n",
    "plt.xticks(rotation=90)\n",
    "sns.despine()"
   ]
  },
  {
   "cell_type": "markdown",
   "metadata": {},
   "source": [
    "## Price and Date"
   ]
  },
  {
   "cell_type": "code",
   "execution_count": 27,
   "metadata": {},
   "outputs": [
    {
     "name": "stderr",
     "output_type": "stream",
     "text": [
      "/Users/omarsouaidi/opt/miniconda3/lib/python3.8/site-packages/pandas/core/indexing.py:1745: SettingWithCopyWarning: \n",
      "A value is trying to be set on a copy of a slice from a DataFrame.\n",
      "Try using .loc[row_indexer,col_indexer] = value instead\n",
      "\n",
      "See the caveats in the documentation: https://pandas.pydata.org/pandas-docs/stable/user_guide/indexing.html#returning-a-view-versus-a-copy\n",
      "  isetter(ilocs[0], value)\n"
     ]
    }
   ],
   "source": [
    "df = data[['EditionDate', 'Price', 'EditionName']]\n",
    "df.loc[:,'EditionDate'] = pd.to_datetime(df.EditionDate)\n",
    "df = df.sort_values('EditionDate', ascending=True).dropna()\n",
    "df['month'] = df['EditionDate'].dt.to_period('M')\n",
    "df['year'] = df['EditionDate'].dt.to_period('Y')"
   ]
  },
  {
   "cell_type": "markdown",
   "metadata": {},
   "source": [
    "#### Yearly and By Edition"
   ]
  },
  {
   "cell_type": "code",
   "execution_count": 28,
   "metadata": {},
   "outputs": [],
   "source": [
    "df_year = df[['year', 'Price', 'EditionName']]\n",
    "df_year = df_year.groupby(['year','EditionName']).mean().reset_index()"
   ]
  },
  {
   "cell_type": "code",
   "execution_count": 29,
   "metadata": {},
   "outputs": [
    {
     "data": {
      "text/plain": [
       "Paperback                53\n",
       "Mass Market Paperback    38\n",
       "Hardcover                32\n",
       "Cards                     7\n",
       "Flexibound                6\n",
       "Sheet music               4\n",
       "Spiral-bound              4\n",
       "Loose Leaf                2\n",
       "Tankobon Softcover        2\n",
       "(Spanish)                 1\n",
       "Product Bundle            1\n",
       "(Kannada)                 1\n",
       "Board book                1\n",
       "Leather Bound             1\n",
       "(French)                  1\n",
       "Library Binding           1\n",
       "(German)                  1\n",
       "Perfect Paperback         1\n",
       "Name: EditionName, dtype: int64"
      ]
     },
     "execution_count": 29,
     "metadata": {},
     "output_type": "execute_result"
    }
   ],
   "source": [
    "df_year.EditionName.value_counts()"
   ]
  },
  {
   "cell_type": "code",
   "execution_count": 30,
   "metadata": {},
   "outputs": [
    {
     "data": {
      "image/png": "[encoded data removed]",
      "text/plain": [
       "<Figure size 864x864 with 1 Axes>"
      ]
     },
     "metadata": {},
     "output_type": "display_data"
    }
   ],
   "source": [
    "# plot\n",
    "sns.set_style('ticks')\n",
    "fig, ax = plt.subplots()\n",
    "# the size of A4 paper\n",
    "fig.set_size_inches(12, 12)\n",
    "sns.stripplot(x='year', y=\"Price\", data=df_year[df_year.EditionName=='Paperback'][5:], ax=ax)\n",
    "plt.xticks(rotation=90)\n",
    "sns.despine()"
   ]
  },
  {
   "cell_type": "code",
   "execution_count": 31,
   "metadata": {},
   "outputs": [
    {
     "data": {
      "image/png": "[encoded data removed]",
      "text/plain": [
       "<Figure size 864x864 with 1 Axes>"
      ]
     },
     "metadata": {},
     "output_type": "display_data"
    }
   ],
   "source": [
    "# plot\n",
    "sns.set_style('ticks')\n",
    "fig, ax = plt.subplots()\n",
    "# the size of A4 paper\n",
    "fig.set_size_inches(12, 12)\n",
    "sns.stripplot(x='year', y=\"Price\", data=df_year[df_year.EditionName=='Mass Market Paperback'], ax=ax)\n",
    "plt.xticks(rotation=90)\n",
    "sns.despine()"
   ]
  },
  {
   "cell_type": "code",
   "execution_count": 32,
   "metadata": {},
   "outputs": [
    {
     "data": {
      "image/png": "[encoded data removed]",
      "text/plain": [
       "<Figure size 864x864 with 1 Axes>"
      ]
     },
     "metadata": {},
     "output_type": "display_data"
    }
   ],
   "source": [
    "# plot\n",
    "sns.set_style('ticks')\n",
    "fig, ax = plt.subplots()\n",
    "# the size of A4 paper\n",
    "fig.set_size_inches(12, 12)\n",
    "sns.stripplot(x='year', y=\"Price\", data=df_year[df_year.EditionName=='Hardcover'], ax=ax)\n",
    "plt.xticks(rotation=90)\n",
    "sns.despine()"
   ]
  },
  {
   "cell_type": "markdown",
   "metadata": {},
   "source": [
    "**I can't see any trend/seasonality when I look at the evolution of the price by year and by edition, it's not really relevant as feature**"
   ]
  },
  {
   "cell_type": "markdown",
   "metadata": {},
   "source": [
    "#### Monthly and By Edition"
   ]
  },
  {
   "cell_type": "code",
   "execution_count": 33,
   "metadata": {},
   "outputs": [],
   "source": [
    "df_month = df[['year', 'month', 'Price', 'EditionName']]\n",
    "df_month = df_month.groupby(['year', 'month', 'EditionName']).mean().reset_index()"
   ]
  },
  {
   "cell_type": "code",
   "execution_count": 34,
   "metadata": {},
   "outputs": [
    {
     "data": {
      "image/png": "[encoded data removed]",
      "text/plain": [
       "<Figure size 864x864 with 1 Axes>"
      ]
     },
     "metadata": {},
     "output_type": "display_data"
    }
   ],
   "source": [
    "# plot\n",
    "sns.set_style('ticks')\n",
    "fig, ax = plt.subplots()\n",
    "# the size of A4 paper\n",
    "fig.set_size_inches(12, 12)\n",
    "sns.stripplot(x='month', y=\"Price\", data=df_month[(df_month.EditionName == 'Paperback') & (df_month.year.dt.year == 2019)], ax=ax)\n",
    "plt.xticks(rotation=90)\n",
    "sns.despine()"
   ]
  },
  {
   "cell_type": "markdown",
   "metadata": {},
   "source": [
    "**This is a dead end, I tried to do more visualisation, but I can't see any monthly trend, (nor seasonality)\n",
    "Unfortunately, I wanted to encore three or two time variables (month and the year) but it is useless .. Well sometimes you think you'll find something but at the end there is nothing haha**"
   ]
  },
  {
   "cell_type": "code",
   "execution_count": 35,
   "metadata": {},
   "outputs": [],
   "source": [
    "data.loc[:,'EditionDate'] = pd.to_datetime(data.EditionDate)\n",
    "data_submit.loc[:,'EditionDate'] = pd.to_datetime(data_submit.EditionDate)"
   ]
  },
  {
   "cell_type": "markdown",
   "metadata": {},
   "source": [
    "## Price and Author"
   ]
  },
  {
   "cell_type": "code",
   "execution_count": 36,
   "metadata": {},
   "outputs": [
    {
     "data": {
      "text/html": [
       "<div>\n",
       "<style scoped>\n",
       "    .dataframe tbody tr th:only-of-type {\n",
       "        vertical-align: middle;\n",
       "    }\n",
       "\n",
       "    .dataframe tbody tr th {\n",
       "        vertical-align: top;\n",
       "    }\n",
       "\n",
       "    .dataframe thead th {\n",
       "        text-align: right;\n",
       "    }\n",
       "</style>\n",
       "<table border=\"1\" class=\"dataframe\">\n",
       "  <thead>\n",
       "    <tr style=\"text-align: right;\">\n",
       "      <th></th>\n",
       "      <th>Title</th>\n",
       "      <th>Author</th>\n",
       "      <th>Reviews</th>\n",
       "      <th>Ratings</th>\n",
       "      <th>Synopsis</th>\n",
       "      <th>Genre</th>\n",
       "      <th>BookCategory</th>\n",
       "      <th>Price</th>\n",
       "      <th>EditionName</th>\n",
       "      <th>EditionDate</th>\n",
       "      <th>EditionSub</th>\n",
       "    </tr>\n",
       "  </thead>\n",
       "  <tbody>\n",
       "    <tr>\n",
       "      <th>0</th>\n",
       "      <td>The Prisoner's Gold (The Hunters 3)</td>\n",
       "      <td>Chris Kuzneski</td>\n",
       "      <td>4.0</td>\n",
       "      <td>8.0</td>\n",
       "      <td>THE HUNTERS return in their third brilliant no...</td>\n",
       "      <td>Action &amp; Adventure (Books)</td>\n",
       "      <td>Action &amp; Adventure</td>\n",
       "      <td>220.00</td>\n",
       "      <td>Paperback</td>\n",
       "      <td>2016-03-10</td>\n",
       "      <td>NaN</td>\n",
       "    </tr>\n",
       "    <tr>\n",
       "      <th>1</th>\n",
       "      <td>Guru Dutt: A Tragedy in Three Acts</td>\n",
       "      <td>Arun Khopkar</td>\n",
       "      <td>3.9</td>\n",
       "      <td>14.0</td>\n",
       "      <td>A layered portrait of a troubled genius for wh...</td>\n",
       "      <td>Cinema &amp; Broadcast (Books)</td>\n",
       "      <td>Biographies, Diaries &amp; True Accounts</td>\n",
       "      <td>202.93</td>\n",
       "      <td>Paperback</td>\n",
       "      <td>2012-11-07</td>\n",
       "      <td>NaN</td>\n",
       "    </tr>\n",
       "    <tr>\n",
       "      <th>2</th>\n",
       "      <td>Leviathan (Penguin Classics)</td>\n",
       "      <td>Thomas Hobbes</td>\n",
       "      <td>4.8</td>\n",
       "      <td>6.0</td>\n",
       "      <td>\"During the time men live without a common Pow...</td>\n",
       "      <td>International Relations</td>\n",
       "      <td>Humour</td>\n",
       "      <td>299.00</td>\n",
       "      <td>Paperback</td>\n",
       "      <td>1982-02-25</td>\n",
       "      <td>NaN</td>\n",
       "    </tr>\n",
       "    <tr>\n",
       "      <th>3</th>\n",
       "      <td>A Pocket Full of Rye (Miss Marple)</td>\n",
       "      <td>Agatha Christie</td>\n",
       "      <td>4.1</td>\n",
       "      <td>13.0</td>\n",
       "      <td>A handful of grain is found in the pocket of a...</td>\n",
       "      <td>Contemporary Fiction (Books)</td>\n",
       "      <td>Crime, Thriller &amp; Mystery</td>\n",
       "      <td>180.00</td>\n",
       "      <td>Paperback</td>\n",
       "      <td>2017-10-05</td>\n",
       "      <td>NaN</td>\n",
       "    </tr>\n",
       "    <tr>\n",
       "      <th>4</th>\n",
       "      <td>LIFE 70 Years of Extraordinary Photography</td>\n",
       "      <td>Editors of Life</td>\n",
       "      <td>5.0</td>\n",
       "      <td>1.0</td>\n",
       "      <td>For seven decades, \"Life\" has been thrilling t...</td>\n",
       "      <td>Photography Textbooks</td>\n",
       "      <td>Arts, Film &amp; Photography</td>\n",
       "      <td>965.62</td>\n",
       "      <td>Hardcover</td>\n",
       "      <td>2006-10-10</td>\n",
       "      <td>NaN</td>\n",
       "    </tr>\n",
       "  </tbody>\n",
       "</table>\n",
       "</div>"
      ],
      "text/plain": [
       "                                        Title           Author  Reviews  \\\n",
       "0         The Prisoner's Gold (The Hunters 3)   Chris Kuzneski      4.0   \n",
       "1          Guru Dutt: A Tragedy in Three Acts     Arun Khopkar      3.9   \n",
       "2                Leviathan (Penguin Classics)    Thomas Hobbes      4.8   \n",
       "3          A Pocket Full of Rye (Miss Marple)  Agatha Christie      4.1   \n",
       "4  LIFE 70 Years of Extraordinary Photography  Editors of Life      5.0   \n",
       "\n",
       "   Ratings                                           Synopsis  \\\n",
       "0      8.0  THE HUNTERS return in their third brilliant no...   \n",
       "1     14.0  A layered portrait of a troubled genius for wh...   \n",
       "2      6.0  \"During the time men live without a common Pow...   \n",
       "3     13.0  A handful of grain is found in the pocket of a...   \n",
       "4      1.0  For seven decades, \"Life\" has been thrilling t...   \n",
       "\n",
       "                          Genre                          BookCategory   Price  \\\n",
       "0    Action & Adventure (Books)                    Action & Adventure  220.00   \n",
       "1    Cinema & Broadcast (Books)  Biographies, Diaries & True Accounts  202.93   \n",
       "2       International Relations                                Humour  299.00   \n",
       "3  Contemporary Fiction (Books)             Crime, Thriller & Mystery  180.00   \n",
       "4         Photography Textbooks              Arts, Film & Photography  965.62   \n",
       "\n",
       "  EditionName EditionDate EditionSub  \n",
       "0   Paperback  2016-03-10        NaN  \n",
       "1   Paperback  2012-11-07        NaN  \n",
       "2   Paperback  1982-02-25        NaN  \n",
       "3   Paperback  2017-10-05        NaN  \n",
       "4   Hardcover  2006-10-10        NaN  "
      ]
     },
     "execution_count": 36,
     "metadata": {},
     "output_type": "execute_result"
    }
   ],
   "source": [
    "data.head()"
   ]
  },
  {
   "cell_type": "code",
   "execution_count": 37,
   "metadata": {},
   "outputs": [],
   "source": [
    "author_to_consider = [x for x in data.Author.unique() if x in data_submit.Author.unique()]"
   ]
  },
  {
   "cell_type": "code",
   "execution_count": 38,
   "metadata": {},
   "outputs": [
    {
     "data": {
      "text/plain": [
       "Agatha Christie                  69\n",
       "Ladybird                         49\n",
       "DK                               48\n",
       "Herge                            34\n",
       "Albert Uderzo                    34\n",
       "                                 ..\n",
       "Elizabeth Gaskell                 1\n",
       "Preet Bharara                     1\n",
       "Ivan Hissey, Curtis Tappenden     1\n",
       "David Harland Rousseau            1\n",
       "Ryan Foley                        1\n",
       "Name: Author, Length: 531, dtype: int64"
      ]
     },
     "execution_count": 38,
     "metadata": {},
     "output_type": "execute_result"
    }
   ],
   "source": [
    "df = data[data['Author'].isin(author_to_consider)]\n",
    "df.Author.value_counts()"
   ]
  },
  {
   "cell_type": "markdown",
   "metadata": {},
   "source": [
    "## Title"
   ]
  },
  {
   "cell_type": "code",
   "execution_count": 49,
   "metadata": {},
   "outputs": [
    {
     "name": "stdout",
     "output_type": "stream",
     "text": [
      "Extreme Copy Colour - Sea World\n",
      "70.0\n",
      "--------------------------------------------------\n",
      "1984\n",
      "94.0\n",
      "--------------------------------------------------\n",
      "Writing Skills: Success in 20 Minutes a Day\n",
      "57.0\n",
      "--------------------------------------------------\n",
      "The Invisible Man\n",
      "99.0\n",
      "--------------------------------------------------\n",
      "School Essays, Letters, Paragraphs, Comprehension and Stories (For Middle Classes)\n",
      "64.0\n",
      "--------------------------------------------------\n",
      "Life is What You Make It\n",
      "80.0\n",
      "--------------------------------------------------\n",
      "Junior English Translation\n",
      "40.0\n",
      "--------------------------------------------------\n",
      "Tinkle Double Digest No. 8\n",
      "90.0\n",
      "--------------------------------------------------\n",
      "You Never Know When You'll Get Lucky!\n",
      "84.0\n",
      "--------------------------------------------------\n",
      "Know About Napoleon\n",
      "40.0\n",
      "--------------------------------------------------\n"
     ]
    }
   ],
   "source": [
    "for index, row in data[data.Price < 100].sample(n=10).iterrows():\n",
    "    print(row['Title'])\n",
    "    print(row['Price'])\n",
    "    print('-'*50)"
   ]
  },
  {
   "cell_type": "code",
   "execution_count": 51,
   "metadata": {},
   "outputs": [
    {
     "name": "stdout",
     "output_type": "stream",
     "text": [
      "Love in Olive Greens\n",
      "125.0\n",
      "--------------------------------------------------\n",
      "JAVA/J2EE: Interview Questions (With Set of 2 CDs)\n",
      "150.0\n",
      "--------------------------------------------------\n",
      "Mrs Funnybones\n",
      "181.0\n",
      "--------------------------------------------------\n",
      "The Master's Tools Will Never Dismantle the Master's House (Penguin Modern)\n",
      "146.0\n",
      "--------------------------------------------------\n",
      "The Cricket Fanatics Essential Guide\n",
      "146.0\n",
      "--------------------------------------------------\n",
      "The Dhoni Touch: Unravelling the Enigma That Is Mahendra Singh Dhoni\n",
      "144.0\n",
      "--------------------------------------------------\n",
      "The People vs. Alex Cross: (Alex Cross 25)\n",
      "177.0\n",
      "--------------------------------------------------\n",
      "Small Acts of Freedom\n",
      "166.0\n",
      "--------------------------------------------------\n",
      "Mini Shopaholic (Shopaholic Book 6)\n",
      "199.0\n",
      "--------------------------------------------------\n",
      "My Inventions: The Autobiography of Nikola Tesla (Hardbound Delux Edition)\n",
      "196.0\n",
      "--------------------------------------------------\n"
     ]
    }
   ],
   "source": [
    "for index, row in data[(data.Price >= 100) & (data.Price < 200)].sample(n=10).iterrows():\n",
    "    print(row['Title'])\n",
    "    print(row['Price'])\n",
    "    print('-'*50)"
   ]
  },
  {
   "cell_type": "code",
   "execution_count": 52,
   "metadata": {},
   "outputs": [
    {
     "name": "stdout",
     "output_type": "stream",
     "text": [
      "The Stranger\n",
      "205.0\n",
      "--------------------------------------------------\n",
      "Fifty Great Short Stories (Bantam Classics)\n",
      "228.0\n",
      "--------------------------------------------------\n",
      "Stranger in the Mirror\n",
      "215.0\n",
      "--------------------------------------------------\n",
      "Fantastically Great Women Who Made History\n",
      "215.0\n",
      "--------------------------------------------------\n",
      "Half-Lion: How P V Narasimha Rao Transformed India\n",
      "352.0\n",
      "--------------------------------------------------\n",
      "India Cried That Night: Untold Tales of Freedom’s Foot Soldiers\n",
      "220.0\n",
      "--------------------------------------------------\n",
      "I Am Malala: The Girl Who Stood Up for Education and was Shot by the Taliban\n",
      "299.0\n",
      "--------------------------------------------------\n",
      "Anil's Ghost\n",
      "381.22\n",
      "--------------------------------------------------\n",
      "Calvin And Hobbes Volume 2: One Day the Wind Will Change: The Calvin & Hobbes Series\n",
      "283.0\n",
      "--------------------------------------------------\n",
      "Dipa Karmakar: The Small Wonder (India's First Ever Female Gymnast to Compete in the Olympics)\n",
      "349.0\n",
      "--------------------------------------------------\n"
     ]
    }
   ],
   "source": [
    "for index, row in data[(data.Price >= 200) & (data.Price < 400)].sample(n=10).iterrows():\n",
    "    print(row['Title'])\n",
    "    print(row['Price'])\n",
    "    print('-'*50)"
   ]
  },
  {
   "cell_type": "code",
   "execution_count": 53,
   "metadata": {},
   "outputs": [
    {
     "name": "stdout",
     "output_type": "stream",
     "text": [
      "Jerusalem: The Biography\n",
      "540.0\n",
      "--------------------------------------------------\n",
      "The Ultimate History of Video Games: from Pong to Pokemon and beyond...the story behind the craze that touched our lives and changed the world\n",
      "749.0\n",
      "--------------------------------------------------\n",
      "The Complete Guide to Drones Extended 2nd Edition\n",
      "471.0\n",
      "--------------------------------------------------\n",
      "The Thrilling Adventures of Lovelace and Babbage: The (Mostly) True Story of the First Computer\n",
      "580.0\n",
      "--------------------------------------------------\n",
      "Introvert Doodles: An Illustrated Look at Introvert Life in an Extrovert World\n",
      "616.0\n",
      "--------------------------------------------------\n",
      "Amphigorey Too\n",
      "799.0\n",
      "--------------------------------------------------\n",
      "Collected Short Stories Volume 2 (Vintage Classics) (Maugham Short Stories)\n",
      "435.0\n",
      "--------------------------------------------------\n",
      "Miraculous: Tales of Ladybug and Cat Noir: Spots on\n",
      "661.0\n",
      "--------------------------------------------------\n",
      "Complete Guide to Digital Photography\n",
      "646.0\n",
      "--------------------------------------------------\n",
      "Asterix Omnibus: Asterix and the Actress, Asterix and the Class Act, Asterix and the Falling Sky\n",
      "678.0\n",
      "--------------------------------------------------\n"
     ]
    }
   ],
   "source": [
    "for index, row in data[(data.Price >= 400) & (data.Price < 800)].sample(n=10).iterrows():\n",
    "    print(row['Title'])\n",
    "    print(row['Price'])\n",
    "    print('-'*50)"
   ]
  },
  {
   "cell_type": "code",
   "execution_count": 54,
   "metadata": {},
   "outputs": [
    {
     "name": "stdout",
     "output_type": "stream",
     "text": [
      "Islamic Patterns: An Analytical and Cosmological Approach\n",
      "1422.0\n",
      "--------------------------------------------------\n",
      "While the Light Lasts (The Agatha Christie Collection)\n",
      "896.0\n",
      "--------------------------------------------------\n",
      "Batman: The Dark Knight Returns\n",
      "1036.0\n",
      "--------------------------------------------------\n",
      "Cruel Beauty\n",
      "991.0\n",
      "--------------------------------------------------\n",
      "Batman: White Knight\n",
      "1137.0\n",
      "--------------------------------------------------\n",
      "Tell Me Your Dreams\n",
      "1290.66\n",
      "--------------------------------------------------\n",
      "Philographics: Big Ideas in Simple Shapes\n",
      "1445.0\n",
      "--------------------------------------------------\n",
      "Enterprise Application Architecture with .NET Core\n",
      "1399.0\n",
      "--------------------------------------------------\n",
      "Twenty Years' Crisis, 1919-1939\n",
      "850.0\n",
      "--------------------------------------------------\n",
      "Figuring\n",
      "900.0\n",
      "--------------------------------------------------\n"
     ]
    }
   ],
   "source": [
    "for index, row in data[(data.Price >= 800) & (data.Price < 1500)].sample(n=10).iterrows():\n",
    "    print(row['Title'])\n",
    "    print(row['Price'])\n",
    "    print('-'*50)"
   ]
  },
  {
   "cell_type": "code",
   "execution_count": 55,
   "metadata": {},
   "outputs": [
    {
     "name": "stdout",
     "output_type": "stream",
     "text": [
      "Wooden on Leadership\n",
      "1854.0\n",
      "--------------------------------------------------\n",
      "Deep Learning (Adaptive Computation and Machine Learning series)\n",
      "2450.0\n",
      "--------------------------------------------------\n",
      "SAP Performance Optimization Guide: Analyzing and Tuning SAP Systems\n",
      "2000.0\n",
      "--------------------------------------------------\n",
      "How to Render\n",
      "2384.0\n",
      "--------------------------------------------------\n",
      "Everything is Inside\n",
      "2500.0\n",
      "--------------------------------------------------\n",
      "Park Bench\n",
      "1513.0\n",
      "--------------------------------------------------\n",
      "Tintin: The Complete Companion: The Complete Guide to Tintin's World (The Adventures of Tintin)\n",
      "2767.0\n",
      "--------------------------------------------------\n",
      "Kafka: The Definitive Guide- Real-Time Data and Stream Processing at Scale\n",
      "1600.0\n",
      "--------------------------------------------------\n",
      "Punisher Max Complete Collection Vol. 1 (The Punisher: Max Comics)\n",
      "1974.0\n",
      "--------------------------------------------------\n",
      "Tennis Anatomy\n",
      "1828.0\n",
      "--------------------------------------------------\n"
     ]
    }
   ],
   "source": [
    "for index, row in data[(data.Price >= 1500) & (data.Price < 4000)].sample(n=10).iterrows():\n",
    "    print(row['Title'])\n",
    "    print(row['Price'])\n",
    "    print('-'*50)"
   ]
  },
  {
   "cell_type": "code",
   "execution_count": 56,
   "metadata": {},
   "outputs": [
    {
     "name": "stdout",
     "output_type": "stream",
     "text": [
      "The Complete Calvin and Hobbes (Set of 4 Books)\n",
      "4175.0\n",
      "--------------------------------------------------\n",
      "The Tintin Collection: The Adventure of Tintin (The Adventures of Tintin - Compact Editions)\n",
      "5968.0\n",
      "--------------------------------------------------\n",
      "ABAP Development for SAP HANA\n",
      "4292.0\n",
      "--------------------------------------------------\n",
      "Fifty Cars that Changed the World: Design Museum Fifty\n",
      "11715.12\n",
      "--------------------------------------------------\n",
      "Modern Labor Economics: Theory and Public Policy (The Addison-Wesley Series in Economics)\n",
      "13244.67\n",
      "--------------------------------------------------\n",
      "Born to Ice\n",
      "5530.0\n",
      "--------------------------------------------------\n",
      "Discovering Statistics Using R\n",
      "5253.0\n",
      "--------------------------------------------------\n",
      "Webley Air Rifles 1925-2005\n",
      "4936.0\n",
      "--------------------------------------------------\n",
      "Threat Modeling: Designing for Security\n",
      "4013.0\n",
      "--------------------------------------------------\n",
      "Ranga Roopa: Gods. Words. Images\n",
      "9096.0\n",
      "--------------------------------------------------\n"
     ]
    }
   ],
   "source": [
    "for index, row in data[data.Price >= 4000].sample(n=10).iterrows():\n",
    "    print(row['Title'])\n",
    "    print(row['Price'])\n",
    "    print('-'*50)"
   ]
  },
  {
   "cell_type": "markdown",
   "metadata": {},
   "source": [
    "I can't see anything relevant"
   ]
  },
  {
   "cell_type": "markdown",
   "metadata": {},
   "source": [
    "# BaseLine With PYCARET"
   ]
  },
  {
   "cell_type": "markdown",
   "metadata": {},
   "source": [
    "Firt of all, I will use PYCARET as a baseline, Im gonna drop Title and Synopsis (because I think it's so much to handle (big unstructured data)"
   ]
  },
  {
   "cell_type": "code",
   "execution_count": 67,
   "metadata": {
    "collapsed": true
   },
   "outputs": [
    {
     "data": {
      "text/html": [
       "<style  type=\"text/css\" >\n",
       "#T_c7da6dc2_1ad5_11eb_aa80_acde48001122row3_col1,#T_c7da6dc2_1ad5_11eb_aa80_acde48001122row27_col1,#T_c7da6dc2_1ad5_11eb_aa80_acde48001122row29_col1,#T_c7da6dc2_1ad5_11eb_aa80_acde48001122row34_col1,#T_c7da6dc2_1ad5_11eb_aa80_acde48001122row35_col1,#T_c7da6dc2_1ad5_11eb_aa80_acde48001122row54_col1{\n",
       "            background-color:  lightgreen;\n",
       "        }</style><table id=\"T_c7da6dc2_1ad5_11eb_aa80_acde48001122\" ><thead>    <tr>        <th class=\"blank level0\" ></th>        <th class=\"col_heading level0 col0\" >Description</th>        <th class=\"col_heading level0 col1\" >Value</th>    </tr></thead><tbody>\n",
       "                <tr>\n",
       "                        <th id=\"T_c7da6dc2_1ad5_11eb_aa80_acde48001122level0_row0\" class=\"row_heading level0 row0\" >0</th>\n",
       "                        <td id=\"T_c7da6dc2_1ad5_11eb_aa80_acde48001122row0_col0\" class=\"data row0 col0\" >session_id</td>\n",
       "                        <td id=\"T_c7da6dc2_1ad5_11eb_aa80_acde48001122row0_col1\" class=\"data row0 col1\" >123</td>\n",
       "            </tr>\n",
       "            <tr>\n",
       "                        <th id=\"T_c7da6dc2_1ad5_11eb_aa80_acde48001122level0_row1\" class=\"row_heading level0 row1\" >1</th>\n",
       "                        <td id=\"T_c7da6dc2_1ad5_11eb_aa80_acde48001122row1_col0\" class=\"data row1 col0\" >Target</td>\n",
       "                        <td id=\"T_c7da6dc2_1ad5_11eb_aa80_acde48001122row1_col1\" class=\"data row1 col1\" >Price</td>\n",
       "            </tr>\n",
       "            <tr>\n",
       "                        <th id=\"T_c7da6dc2_1ad5_11eb_aa80_acde48001122level0_row2\" class=\"row_heading level0 row2\" >2</th>\n",
       "                        <td id=\"T_c7da6dc2_1ad5_11eb_aa80_acde48001122row2_col0\" class=\"data row2 col0\" >Original Data</td>\n",
       "                        <td id=\"T_c7da6dc2_1ad5_11eb_aa80_acde48001122row2_col1\" class=\"data row2 col1\" >(6237, 9)</td>\n",
       "            </tr>\n",
       "            <tr>\n",
       "                        <th id=\"T_c7da6dc2_1ad5_11eb_aa80_acde48001122level0_row3\" class=\"row_heading level0 row3\" >3</th>\n",
       "                        <td id=\"T_c7da6dc2_1ad5_11eb_aa80_acde48001122row3_col0\" class=\"data row3 col0\" >Missing Values</td>\n",
       "                        <td id=\"T_c7da6dc2_1ad5_11eb_aa80_acde48001122row3_col1\" class=\"data row3 col1\" >True</td>\n",
       "            </tr>\n",
       "            <tr>\n",
       "                        <th id=\"T_c7da6dc2_1ad5_11eb_aa80_acde48001122level0_row4\" class=\"row_heading level0 row4\" >4</th>\n",
       "                        <td id=\"T_c7da6dc2_1ad5_11eb_aa80_acde48001122row4_col0\" class=\"data row4 col0\" >Numeric Features</td>\n",
       "                        <td id=\"T_c7da6dc2_1ad5_11eb_aa80_acde48001122row4_col1\" class=\"data row4 col1\" >2</td>\n",
       "            </tr>\n",
       "            <tr>\n",
       "                        <th id=\"T_c7da6dc2_1ad5_11eb_aa80_acde48001122level0_row5\" class=\"row_heading level0 row5\" >5</th>\n",
       "                        <td id=\"T_c7da6dc2_1ad5_11eb_aa80_acde48001122row5_col0\" class=\"data row5 col0\" >Categorical Features</td>\n",
       "                        <td id=\"T_c7da6dc2_1ad5_11eb_aa80_acde48001122row5_col1\" class=\"data row5 col1\" >5</td>\n",
       "            </tr>\n",
       "            <tr>\n",
       "                        <th id=\"T_c7da6dc2_1ad5_11eb_aa80_acde48001122level0_row6\" class=\"row_heading level0 row6\" >6</th>\n",
       "                        <td id=\"T_c7da6dc2_1ad5_11eb_aa80_acde48001122row6_col0\" class=\"data row6 col0\" >Ordinal Features</td>\n",
       "                        <td id=\"T_c7da6dc2_1ad5_11eb_aa80_acde48001122row6_col1\" class=\"data row6 col1\" >False</td>\n",
       "            </tr>\n",
       "            <tr>\n",
       "                        <th id=\"T_c7da6dc2_1ad5_11eb_aa80_acde48001122level0_row7\" class=\"row_heading level0 row7\" >7</th>\n",
       "                        <td id=\"T_c7da6dc2_1ad5_11eb_aa80_acde48001122row7_col0\" class=\"data row7 col0\" >High Cardinality Features</td>\n",
       "                        <td id=\"T_c7da6dc2_1ad5_11eb_aa80_acde48001122row7_col1\" class=\"data row7 col1\" >False</td>\n",
       "            </tr>\n",
       "            <tr>\n",
       "                        <th id=\"T_c7da6dc2_1ad5_11eb_aa80_acde48001122level0_row8\" class=\"row_heading level0 row8\" >8</th>\n",
       "                        <td id=\"T_c7da6dc2_1ad5_11eb_aa80_acde48001122row8_col0\" class=\"data row8 col0\" >High Cardinality Method</td>\n",
       "                        <td id=\"T_c7da6dc2_1ad5_11eb_aa80_acde48001122row8_col1\" class=\"data row8 col1\" >None</td>\n",
       "            </tr>\n",
       "            <tr>\n",
       "                        <th id=\"T_c7da6dc2_1ad5_11eb_aa80_acde48001122level0_row9\" class=\"row_heading level0 row9\" >9</th>\n",
       "                        <td id=\"T_c7da6dc2_1ad5_11eb_aa80_acde48001122row9_col0\" class=\"data row9 col0\" >Transformed Train Set</td>\n",
       "                        <td id=\"T_c7da6dc2_1ad5_11eb_aa80_acde48001122row9_col1\" class=\"data row9 col1\" >(4365, 857)</td>\n",
       "            </tr>\n",
       "            <tr>\n",
       "                        <th id=\"T_c7da6dc2_1ad5_11eb_aa80_acde48001122level0_row10\" class=\"row_heading level0 row10\" >10</th>\n",
       "                        <td id=\"T_c7da6dc2_1ad5_11eb_aa80_acde48001122row10_col0\" class=\"data row10 col0\" >Transformed Test Set</td>\n",
       "                        <td id=\"T_c7da6dc2_1ad5_11eb_aa80_acde48001122row10_col1\" class=\"data row10 col1\" >(1872, 857)</td>\n",
       "            </tr>\n",
       "            <tr>\n",
       "                        <th id=\"T_c7da6dc2_1ad5_11eb_aa80_acde48001122level0_row11\" class=\"row_heading level0 row11\" >11</th>\n",
       "                        <td id=\"T_c7da6dc2_1ad5_11eb_aa80_acde48001122row11_col0\" class=\"data row11 col0\" >Shuffle Train-Test</td>\n",
       "                        <td id=\"T_c7da6dc2_1ad5_11eb_aa80_acde48001122row11_col1\" class=\"data row11 col1\" >True</td>\n",
       "            </tr>\n",
       "            <tr>\n",
       "                        <th id=\"T_c7da6dc2_1ad5_11eb_aa80_acde48001122level0_row12\" class=\"row_heading level0 row12\" >12</th>\n",
       "                        <td id=\"T_c7da6dc2_1ad5_11eb_aa80_acde48001122row12_col0\" class=\"data row12 col0\" >Stratify Train-Test</td>\n",
       "                        <td id=\"T_c7da6dc2_1ad5_11eb_aa80_acde48001122row12_col1\" class=\"data row12 col1\" >False</td>\n",
       "            </tr>\n",
       "            <tr>\n",
       "                        <th id=\"T_c7da6dc2_1ad5_11eb_aa80_acde48001122level0_row13\" class=\"row_heading level0 row13\" >13</th>\n",
       "                        <td id=\"T_c7da6dc2_1ad5_11eb_aa80_acde48001122row13_col0\" class=\"data row13 col0\" >Fold Generator</td>\n",
       "                        <td id=\"T_c7da6dc2_1ad5_11eb_aa80_acde48001122row13_col1\" class=\"data row13 col1\" >KFold</td>\n",
       "            </tr>\n",
       "            <tr>\n",
       "                        <th id=\"T_c7da6dc2_1ad5_11eb_aa80_acde48001122level0_row14\" class=\"row_heading level0 row14\" >14</th>\n",
       "                        <td id=\"T_c7da6dc2_1ad5_11eb_aa80_acde48001122row14_col0\" class=\"data row14 col0\" >Fold Number</td>\n",
       "                        <td id=\"T_c7da6dc2_1ad5_11eb_aa80_acde48001122row14_col1\" class=\"data row14 col1\" >10</td>\n",
       "            </tr>\n",
       "            <tr>\n",
       "                        <th id=\"T_c7da6dc2_1ad5_11eb_aa80_acde48001122level0_row15\" class=\"row_heading level0 row15\" >15</th>\n",
       "                        <td id=\"T_c7da6dc2_1ad5_11eb_aa80_acde48001122row15_col0\" class=\"data row15 col0\" >CPU Jobs</td>\n",
       "                        <td id=\"T_c7da6dc2_1ad5_11eb_aa80_acde48001122row15_col1\" class=\"data row15 col1\" >-1</td>\n",
       "            </tr>\n",
       "            <tr>\n",
       "                        <th id=\"T_c7da6dc2_1ad5_11eb_aa80_acde48001122level0_row16\" class=\"row_heading level0 row16\" >16</th>\n",
       "                        <td id=\"T_c7da6dc2_1ad5_11eb_aa80_acde48001122row16_col0\" class=\"data row16 col0\" >Use GPU</td>\n",
       "                        <td id=\"T_c7da6dc2_1ad5_11eb_aa80_acde48001122row16_col1\" class=\"data row16 col1\" >False</td>\n",
       "            </tr>\n",
       "            <tr>\n",
       "                        <th id=\"T_c7da6dc2_1ad5_11eb_aa80_acde48001122level0_row17\" class=\"row_heading level0 row17\" >17</th>\n",
       "                        <td id=\"T_c7da6dc2_1ad5_11eb_aa80_acde48001122row17_col0\" class=\"data row17 col0\" >Log Experiment</td>\n",
       "                        <td id=\"T_c7da6dc2_1ad5_11eb_aa80_acde48001122row17_col1\" class=\"data row17 col1\" >False</td>\n",
       "            </tr>\n",
       "            <tr>\n",
       "                        <th id=\"T_c7da6dc2_1ad5_11eb_aa80_acde48001122level0_row18\" class=\"row_heading level0 row18\" >18</th>\n",
       "                        <td id=\"T_c7da6dc2_1ad5_11eb_aa80_acde48001122row18_col0\" class=\"data row18 col0\" >Experiment Name</td>\n",
       "                        <td id=\"T_c7da6dc2_1ad5_11eb_aa80_acde48001122row18_col1\" class=\"data row18 col1\" >reg-default-name</td>\n",
       "            </tr>\n",
       "            <tr>\n",
       "                        <th id=\"T_c7da6dc2_1ad5_11eb_aa80_acde48001122level0_row19\" class=\"row_heading level0 row19\" >19</th>\n",
       "                        <td id=\"T_c7da6dc2_1ad5_11eb_aa80_acde48001122row19_col0\" class=\"data row19 col0\" >USI</td>\n",
       "                        <td id=\"T_c7da6dc2_1ad5_11eb_aa80_acde48001122row19_col1\" class=\"data row19 col1\" >4126</td>\n",
       "            </tr>\n",
       "            <tr>\n",
       "                        <th id=\"T_c7da6dc2_1ad5_11eb_aa80_acde48001122level0_row20\" class=\"row_heading level0 row20\" >20</th>\n",
       "                        <td id=\"T_c7da6dc2_1ad5_11eb_aa80_acde48001122row20_col0\" class=\"data row20 col0\" >Imputation Type</td>\n",
       "                        <td id=\"T_c7da6dc2_1ad5_11eb_aa80_acde48001122row20_col1\" class=\"data row20 col1\" >simple</td>\n",
       "            </tr>\n",
       "            <tr>\n",
       "                        <th id=\"T_c7da6dc2_1ad5_11eb_aa80_acde48001122level0_row21\" class=\"row_heading level0 row21\" >21</th>\n",
       "                        <td id=\"T_c7da6dc2_1ad5_11eb_aa80_acde48001122row21_col0\" class=\"data row21 col0\" >Iterative Imputation Iteration</td>\n",
       "                        <td id=\"T_c7da6dc2_1ad5_11eb_aa80_acde48001122row21_col1\" class=\"data row21 col1\" >None</td>\n",
       "            </tr>\n",
       "            <tr>\n",
       "                        <th id=\"T_c7da6dc2_1ad5_11eb_aa80_acde48001122level0_row22\" class=\"row_heading level0 row22\" >22</th>\n",
       "                        <td id=\"T_c7da6dc2_1ad5_11eb_aa80_acde48001122row22_col0\" class=\"data row22 col0\" >Numeric Imputer</td>\n",
       "                        <td id=\"T_c7da6dc2_1ad5_11eb_aa80_acde48001122row22_col1\" class=\"data row22 col1\" >mean</td>\n",
       "            </tr>\n",
       "            <tr>\n",
       "                        <th id=\"T_c7da6dc2_1ad5_11eb_aa80_acde48001122level0_row23\" class=\"row_heading level0 row23\" >23</th>\n",
       "                        <td id=\"T_c7da6dc2_1ad5_11eb_aa80_acde48001122row23_col0\" class=\"data row23 col0\" >Iterative Imputation Numeric Model</td>\n",
       "                        <td id=\"T_c7da6dc2_1ad5_11eb_aa80_acde48001122row23_col1\" class=\"data row23 col1\" >None</td>\n",
       "            </tr>\n",
       "            <tr>\n",
       "                        <th id=\"T_c7da6dc2_1ad5_11eb_aa80_acde48001122level0_row24\" class=\"row_heading level0 row24\" >24</th>\n",
       "                        <td id=\"T_c7da6dc2_1ad5_11eb_aa80_acde48001122row24_col0\" class=\"data row24 col0\" >Categorical Imputer</td>\n",
       "                        <td id=\"T_c7da6dc2_1ad5_11eb_aa80_acde48001122row24_col1\" class=\"data row24 col1\" >constant</td>\n",
       "            </tr>\n",
       "            <tr>\n",
       "                        <th id=\"T_c7da6dc2_1ad5_11eb_aa80_acde48001122level0_row25\" class=\"row_heading level0 row25\" >25</th>\n",
       "                        <td id=\"T_c7da6dc2_1ad5_11eb_aa80_acde48001122row25_col0\" class=\"data row25 col0\" >Iterative Imputation Categorical Model</td>\n",
       "                        <td id=\"T_c7da6dc2_1ad5_11eb_aa80_acde48001122row25_col1\" class=\"data row25 col1\" >None</td>\n",
       "            </tr>\n",
       "            <tr>\n",
       "                        <th id=\"T_c7da6dc2_1ad5_11eb_aa80_acde48001122level0_row26\" class=\"row_heading level0 row26\" >26</th>\n",
       "                        <td id=\"T_c7da6dc2_1ad5_11eb_aa80_acde48001122row26_col0\" class=\"data row26 col0\" >Unknown Categoricals Handling</td>\n",
       "                        <td id=\"T_c7da6dc2_1ad5_11eb_aa80_acde48001122row26_col1\" class=\"data row26 col1\" >least_frequent</td>\n",
       "            </tr>\n",
       "            <tr>\n",
       "                        <th id=\"T_c7da6dc2_1ad5_11eb_aa80_acde48001122level0_row27\" class=\"row_heading level0 row27\" >27</th>\n",
       "                        <td id=\"T_c7da6dc2_1ad5_11eb_aa80_acde48001122row27_col0\" class=\"data row27 col0\" >Normalize</td>\n",
       "                        <td id=\"T_c7da6dc2_1ad5_11eb_aa80_acde48001122row27_col1\" class=\"data row27 col1\" >True</td>\n",
       "            </tr>\n",
       "            <tr>\n",
       "                        <th id=\"T_c7da6dc2_1ad5_11eb_aa80_acde48001122level0_row28\" class=\"row_heading level0 row28\" >28</th>\n",
       "                        <td id=\"T_c7da6dc2_1ad5_11eb_aa80_acde48001122row28_col0\" class=\"data row28 col0\" >Normalize Method</td>\n",
       "                        <td id=\"T_c7da6dc2_1ad5_11eb_aa80_acde48001122row28_col1\" class=\"data row28 col1\" >zscore</td>\n",
       "            </tr>\n",
       "            <tr>\n",
       "                        <th id=\"T_c7da6dc2_1ad5_11eb_aa80_acde48001122level0_row29\" class=\"row_heading level0 row29\" >29</th>\n",
       "                        <td id=\"T_c7da6dc2_1ad5_11eb_aa80_acde48001122row29_col0\" class=\"data row29 col0\" >Transformation</td>\n",
       "                        <td id=\"T_c7da6dc2_1ad5_11eb_aa80_acde48001122row29_col1\" class=\"data row29 col1\" >True</td>\n",
       "            </tr>\n",
       "            <tr>\n",
       "                        <th id=\"T_c7da6dc2_1ad5_11eb_aa80_acde48001122level0_row30\" class=\"row_heading level0 row30\" >30</th>\n",
       "                        <td id=\"T_c7da6dc2_1ad5_11eb_aa80_acde48001122row30_col0\" class=\"data row30 col0\" >Transformation Method</td>\n",
       "                        <td id=\"T_c7da6dc2_1ad5_11eb_aa80_acde48001122row30_col1\" class=\"data row30 col1\" >yeo-johnson</td>\n",
       "            </tr>\n",
       "            <tr>\n",
       "                        <th id=\"T_c7da6dc2_1ad5_11eb_aa80_acde48001122level0_row31\" class=\"row_heading level0 row31\" >31</th>\n",
       "                        <td id=\"T_c7da6dc2_1ad5_11eb_aa80_acde48001122row31_col0\" class=\"data row31 col0\" >PCA</td>\n",
       "                        <td id=\"T_c7da6dc2_1ad5_11eb_aa80_acde48001122row31_col1\" class=\"data row31 col1\" >False</td>\n",
       "            </tr>\n",
       "            <tr>\n",
       "                        <th id=\"T_c7da6dc2_1ad5_11eb_aa80_acde48001122level0_row32\" class=\"row_heading level0 row32\" >32</th>\n",
       "                        <td id=\"T_c7da6dc2_1ad5_11eb_aa80_acde48001122row32_col0\" class=\"data row32 col0\" >PCA Method</td>\n",
       "                        <td id=\"T_c7da6dc2_1ad5_11eb_aa80_acde48001122row32_col1\" class=\"data row32 col1\" >None</td>\n",
       "            </tr>\n",
       "            <tr>\n",
       "                        <th id=\"T_c7da6dc2_1ad5_11eb_aa80_acde48001122level0_row33\" class=\"row_heading level0 row33\" >33</th>\n",
       "                        <td id=\"T_c7da6dc2_1ad5_11eb_aa80_acde48001122row33_col0\" class=\"data row33 col0\" >PCA Components</td>\n",
       "                        <td id=\"T_c7da6dc2_1ad5_11eb_aa80_acde48001122row33_col1\" class=\"data row33 col1\" >None</td>\n",
       "            </tr>\n",
       "            <tr>\n",
       "                        <th id=\"T_c7da6dc2_1ad5_11eb_aa80_acde48001122level0_row34\" class=\"row_heading level0 row34\" >34</th>\n",
       "                        <td id=\"T_c7da6dc2_1ad5_11eb_aa80_acde48001122row34_col0\" class=\"data row34 col0\" >Ignore Low Variance</td>\n",
       "                        <td id=\"T_c7da6dc2_1ad5_11eb_aa80_acde48001122row34_col1\" class=\"data row34 col1\" >True</td>\n",
       "            </tr>\n",
       "            <tr>\n",
       "                        <th id=\"T_c7da6dc2_1ad5_11eb_aa80_acde48001122level0_row35\" class=\"row_heading level0 row35\" >35</th>\n",
       "                        <td id=\"T_c7da6dc2_1ad5_11eb_aa80_acde48001122row35_col0\" class=\"data row35 col0\" >Combine Rare Levels</td>\n",
       "                        <td id=\"T_c7da6dc2_1ad5_11eb_aa80_acde48001122row35_col1\" class=\"data row35 col1\" >True</td>\n",
       "            </tr>\n",
       "            <tr>\n",
       "                        <th id=\"T_c7da6dc2_1ad5_11eb_aa80_acde48001122level0_row36\" class=\"row_heading level0 row36\" >36</th>\n",
       "                        <td id=\"T_c7da6dc2_1ad5_11eb_aa80_acde48001122row36_col0\" class=\"data row36 col0\" >Rare Level Threshold</td>\n",
       "                        <td id=\"T_c7da6dc2_1ad5_11eb_aa80_acde48001122row36_col1\" class=\"data row36 col1\" >0.100000</td>\n",
       "            </tr>\n",
       "            <tr>\n",
       "                        <th id=\"T_c7da6dc2_1ad5_11eb_aa80_acde48001122level0_row37\" class=\"row_heading level0 row37\" >37</th>\n",
       "                        <td id=\"T_c7da6dc2_1ad5_11eb_aa80_acde48001122row37_col0\" class=\"data row37 col0\" >Numeric Binning</td>\n",
       "                        <td id=\"T_c7da6dc2_1ad5_11eb_aa80_acde48001122row37_col1\" class=\"data row37 col1\" >False</td>\n",
       "            </tr>\n",
       "            <tr>\n",
       "                        <th id=\"T_c7da6dc2_1ad5_11eb_aa80_acde48001122level0_row38\" class=\"row_heading level0 row38\" >38</th>\n",
       "                        <td id=\"T_c7da6dc2_1ad5_11eb_aa80_acde48001122row38_col0\" class=\"data row38 col0\" >Remove Outliers</td>\n",
       "                        <td id=\"T_c7da6dc2_1ad5_11eb_aa80_acde48001122row38_col1\" class=\"data row38 col1\" >False</td>\n",
       "            </tr>\n",
       "            <tr>\n",
       "                        <th id=\"T_c7da6dc2_1ad5_11eb_aa80_acde48001122level0_row39\" class=\"row_heading level0 row39\" >39</th>\n",
       "                        <td id=\"T_c7da6dc2_1ad5_11eb_aa80_acde48001122row39_col0\" class=\"data row39 col0\" >Outliers Threshold</td>\n",
       "                        <td id=\"T_c7da6dc2_1ad5_11eb_aa80_acde48001122row39_col1\" class=\"data row39 col1\" >None</td>\n",
       "            </tr>\n",
       "            <tr>\n",
       "                        <th id=\"T_c7da6dc2_1ad5_11eb_aa80_acde48001122level0_row40\" class=\"row_heading level0 row40\" >40</th>\n",
       "                        <td id=\"T_c7da6dc2_1ad5_11eb_aa80_acde48001122row40_col0\" class=\"data row40 col0\" >Remove Multicollinearity</td>\n",
       "                        <td id=\"T_c7da6dc2_1ad5_11eb_aa80_acde48001122row40_col1\" class=\"data row40 col1\" >False</td>\n",
       "            </tr>\n",
       "            <tr>\n",
       "                        <th id=\"T_c7da6dc2_1ad5_11eb_aa80_acde48001122level0_row41\" class=\"row_heading level0 row41\" >41</th>\n",
       "                        <td id=\"T_c7da6dc2_1ad5_11eb_aa80_acde48001122row41_col0\" class=\"data row41 col0\" >Multicollinearity Threshold</td>\n",
       "                        <td id=\"T_c7da6dc2_1ad5_11eb_aa80_acde48001122row41_col1\" class=\"data row41 col1\" >None</td>\n",
       "            </tr>\n",
       "            <tr>\n",
       "                        <th id=\"T_c7da6dc2_1ad5_11eb_aa80_acde48001122level0_row42\" class=\"row_heading level0 row42\" >42</th>\n",
       "                        <td id=\"T_c7da6dc2_1ad5_11eb_aa80_acde48001122row42_col0\" class=\"data row42 col0\" >Clustering</td>\n",
       "                        <td id=\"T_c7da6dc2_1ad5_11eb_aa80_acde48001122row42_col1\" class=\"data row42 col1\" >False</td>\n",
       "            </tr>\n",
       "            <tr>\n",
       "                        <th id=\"T_c7da6dc2_1ad5_11eb_aa80_acde48001122level0_row43\" class=\"row_heading level0 row43\" >43</th>\n",
       "                        <td id=\"T_c7da6dc2_1ad5_11eb_aa80_acde48001122row43_col0\" class=\"data row43 col0\" >Clustering Iteration</td>\n",
       "                        <td id=\"T_c7da6dc2_1ad5_11eb_aa80_acde48001122row43_col1\" class=\"data row43 col1\" >None</td>\n",
       "            </tr>\n",
       "            <tr>\n",
       "                        <th id=\"T_c7da6dc2_1ad5_11eb_aa80_acde48001122level0_row44\" class=\"row_heading level0 row44\" >44</th>\n",
       "                        <td id=\"T_c7da6dc2_1ad5_11eb_aa80_acde48001122row44_col0\" class=\"data row44 col0\" >Polynomial Features</td>\n",
       "                        <td id=\"T_c7da6dc2_1ad5_11eb_aa80_acde48001122row44_col1\" class=\"data row44 col1\" >False</td>\n",
       "            </tr>\n",
       "            <tr>\n",
       "                        <th id=\"T_c7da6dc2_1ad5_11eb_aa80_acde48001122level0_row45\" class=\"row_heading level0 row45\" >45</th>\n",
       "                        <td id=\"T_c7da6dc2_1ad5_11eb_aa80_acde48001122row45_col0\" class=\"data row45 col0\" >Polynomial Degree</td>\n",
       "                        <td id=\"T_c7da6dc2_1ad5_11eb_aa80_acde48001122row45_col1\" class=\"data row45 col1\" >None</td>\n",
       "            </tr>\n",
       "            <tr>\n",
       "                        <th id=\"T_c7da6dc2_1ad5_11eb_aa80_acde48001122level0_row46\" class=\"row_heading level0 row46\" >46</th>\n",
       "                        <td id=\"T_c7da6dc2_1ad5_11eb_aa80_acde48001122row46_col0\" class=\"data row46 col0\" >Trignometry Features</td>\n",
       "                        <td id=\"T_c7da6dc2_1ad5_11eb_aa80_acde48001122row46_col1\" class=\"data row46 col1\" >False</td>\n",
       "            </tr>\n",
       "            <tr>\n",
       "                        <th id=\"T_c7da6dc2_1ad5_11eb_aa80_acde48001122level0_row47\" class=\"row_heading level0 row47\" >47</th>\n",
       "                        <td id=\"T_c7da6dc2_1ad5_11eb_aa80_acde48001122row47_col0\" class=\"data row47 col0\" >Polynomial Threshold</td>\n",
       "                        <td id=\"T_c7da6dc2_1ad5_11eb_aa80_acde48001122row47_col1\" class=\"data row47 col1\" >None</td>\n",
       "            </tr>\n",
       "            <tr>\n",
       "                        <th id=\"T_c7da6dc2_1ad5_11eb_aa80_acde48001122level0_row48\" class=\"row_heading level0 row48\" >48</th>\n",
       "                        <td id=\"T_c7da6dc2_1ad5_11eb_aa80_acde48001122row48_col0\" class=\"data row48 col0\" >Group Features</td>\n",
       "                        <td id=\"T_c7da6dc2_1ad5_11eb_aa80_acde48001122row48_col1\" class=\"data row48 col1\" >False</td>\n",
       "            </tr>\n",
       "            <tr>\n",
       "                        <th id=\"T_c7da6dc2_1ad5_11eb_aa80_acde48001122level0_row49\" class=\"row_heading level0 row49\" >49</th>\n",
       "                        <td id=\"T_c7da6dc2_1ad5_11eb_aa80_acde48001122row49_col0\" class=\"data row49 col0\" >Feature Selection</td>\n",
       "                        <td id=\"T_c7da6dc2_1ad5_11eb_aa80_acde48001122row49_col1\" class=\"data row49 col1\" >False</td>\n",
       "            </tr>\n",
       "            <tr>\n",
       "                        <th id=\"T_c7da6dc2_1ad5_11eb_aa80_acde48001122level0_row50\" class=\"row_heading level0 row50\" >50</th>\n",
       "                        <td id=\"T_c7da6dc2_1ad5_11eb_aa80_acde48001122row50_col0\" class=\"data row50 col0\" >Features Selection Threshold</td>\n",
       "                        <td id=\"T_c7da6dc2_1ad5_11eb_aa80_acde48001122row50_col1\" class=\"data row50 col1\" >None</td>\n",
       "            </tr>\n",
       "            <tr>\n",
       "                        <th id=\"T_c7da6dc2_1ad5_11eb_aa80_acde48001122level0_row51\" class=\"row_heading level0 row51\" >51</th>\n",
       "                        <td id=\"T_c7da6dc2_1ad5_11eb_aa80_acde48001122row51_col0\" class=\"data row51 col0\" >Feature Interaction</td>\n",
       "                        <td id=\"T_c7da6dc2_1ad5_11eb_aa80_acde48001122row51_col1\" class=\"data row51 col1\" >False</td>\n",
       "            </tr>\n",
       "            <tr>\n",
       "                        <th id=\"T_c7da6dc2_1ad5_11eb_aa80_acde48001122level0_row52\" class=\"row_heading level0 row52\" >52</th>\n",
       "                        <td id=\"T_c7da6dc2_1ad5_11eb_aa80_acde48001122row52_col0\" class=\"data row52 col0\" >Feature Ratio</td>\n",
       "                        <td id=\"T_c7da6dc2_1ad5_11eb_aa80_acde48001122row52_col1\" class=\"data row52 col1\" >False</td>\n",
       "            </tr>\n",
       "            <tr>\n",
       "                        <th id=\"T_c7da6dc2_1ad5_11eb_aa80_acde48001122level0_row53\" class=\"row_heading level0 row53\" >53</th>\n",
       "                        <td id=\"T_c7da6dc2_1ad5_11eb_aa80_acde48001122row53_col0\" class=\"data row53 col0\" >Interaction Threshold</td>\n",
       "                        <td id=\"T_c7da6dc2_1ad5_11eb_aa80_acde48001122row53_col1\" class=\"data row53 col1\" >None</td>\n",
       "            </tr>\n",
       "            <tr>\n",
       "                        <th id=\"T_c7da6dc2_1ad5_11eb_aa80_acde48001122level0_row54\" class=\"row_heading level0 row54\" >54</th>\n",
       "                        <td id=\"T_c7da6dc2_1ad5_11eb_aa80_acde48001122row54_col0\" class=\"data row54 col0\" >Transform Target</td>\n",
       "                        <td id=\"T_c7da6dc2_1ad5_11eb_aa80_acde48001122row54_col1\" class=\"data row54 col1\" >True</td>\n",
       "            </tr>\n",
       "            <tr>\n",
       "                        <th id=\"T_c7da6dc2_1ad5_11eb_aa80_acde48001122level0_row55\" class=\"row_heading level0 row55\" >55</th>\n",
       "                        <td id=\"T_c7da6dc2_1ad5_11eb_aa80_acde48001122row55_col0\" class=\"data row55 col0\" >Transform Target Method</td>\n",
       "                        <td id=\"T_c7da6dc2_1ad5_11eb_aa80_acde48001122row55_col1\" class=\"data row55 col1\" >box-cox</td>\n",
       "            </tr>\n",
       "    </tbody></table>"
      ],
      "text/plain": [
       "<pandas.io.formats.style.Styler at 0x7fabc0f1b3d0>"
      ]
     },
     "metadata": {},
     "output_type": "display_data"
    }
   ],
   "source": [
    "from pycaret.regression import *\n",
    "reg1 = setup(data.drop(['Title',\"Synopsis\"],axis=1), target = 'Price', session_id = 123, \n",
    "             normalize = True, normalize_method = 'zscore',\n",
    "             transformation = True, transformation_method = 'yeo-johnson', transform_target = True,\n",
    "             ignore_low_variance = True, combine_rare_levels = True, silent=True)"
   ]
  },
  {
   "cell_type": "code",
   "execution_count": 68,
   "metadata": {
    "collapsed": true
   },
   "outputs": [
    {
     "data": {
      "text/html": [
       "<style  type=\"text/css\" >\n",
       "    #T_1fa047fc_1ad6_11eb_aa80_acde48001122 th {\n",
       "          text-align: left;\n",
       "    }#T_1fa047fc_1ad6_11eb_aa80_acde48001122row0_col0,#T_1fa047fc_1ad6_11eb_aa80_acde48001122row0_col1,#T_1fa047fc_1ad6_11eb_aa80_acde48001122row0_col2,#T_1fa047fc_1ad6_11eb_aa80_acde48001122row0_col3,#T_1fa047fc_1ad6_11eb_aa80_acde48001122row0_col5,#T_1fa047fc_1ad6_11eb_aa80_acde48001122row0_col6,#T_1fa047fc_1ad6_11eb_aa80_acde48001122row1_col0,#T_1fa047fc_1ad6_11eb_aa80_acde48001122row1_col4,#T_1fa047fc_1ad6_11eb_aa80_acde48001122row2_col0,#T_1fa047fc_1ad6_11eb_aa80_acde48001122row2_col1,#T_1fa047fc_1ad6_11eb_aa80_acde48001122row2_col2,#T_1fa047fc_1ad6_11eb_aa80_acde48001122row2_col3,#T_1fa047fc_1ad6_11eb_aa80_acde48001122row2_col4,#T_1fa047fc_1ad6_11eb_aa80_acde48001122row2_col5,#T_1fa047fc_1ad6_11eb_aa80_acde48001122row2_col6,#T_1fa047fc_1ad6_11eb_aa80_acde48001122row3_col0,#T_1fa047fc_1ad6_11eb_aa80_acde48001122row3_col1,#T_1fa047fc_1ad6_11eb_aa80_acde48001122row3_col2,#T_1fa047fc_1ad6_11eb_aa80_acde48001122row3_col3,#T_1fa047fc_1ad6_11eb_aa80_acde48001122row3_col4,#T_1fa047fc_1ad6_11eb_aa80_acde48001122row3_col5,#T_1fa047fc_1ad6_11eb_aa80_acde48001122row3_col6{\n",
       "            text-align:  left;\n",
       "            text-align:  left;\n",
       "        }#T_1fa047fc_1ad6_11eb_aa80_acde48001122row0_col4,#T_1fa047fc_1ad6_11eb_aa80_acde48001122row1_col1,#T_1fa047fc_1ad6_11eb_aa80_acde48001122row1_col2,#T_1fa047fc_1ad6_11eb_aa80_acde48001122row1_col3,#T_1fa047fc_1ad6_11eb_aa80_acde48001122row1_col5,#T_1fa047fc_1ad6_11eb_aa80_acde48001122row1_col6{\n",
       "            text-align:  left;\n",
       "            text-align:  left;\n",
       "            background-color:  yellow;\n",
       "        }#T_1fa047fc_1ad6_11eb_aa80_acde48001122row0_col7,#T_1fa047fc_1ad6_11eb_aa80_acde48001122row1_col7,#T_1fa047fc_1ad6_11eb_aa80_acde48001122row3_col7{\n",
       "            text-align:  left;\n",
       "            text-align:  left;\n",
       "            background-color:  lightgrey;\n",
       "        }#T_1fa047fc_1ad6_11eb_aa80_acde48001122row2_col7{\n",
       "            text-align:  left;\n",
       "            text-align:  left;\n",
       "            background-color:  yellow;\n",
       "            background-color:  lightgrey;\n",
       "        }</style><table id=\"T_1fa047fc_1ad6_11eb_aa80_acde48001122\" ><thead>    <tr>        <th class=\"blank level0\" ></th>        <th class=\"col_heading level0 col0\" >Model</th>        <th class=\"col_heading level0 col1\" >MAE</th>        <th class=\"col_heading level0 col2\" >MSE</th>        <th class=\"col_heading level0 col3\" >RMSE</th>        <th class=\"col_heading level0 col4\" >R2</th>        <th class=\"col_heading level0 col5\" >RMSLE</th>        <th class=\"col_heading level0 col6\" >MAPE</th>        <th class=\"col_heading level0 col7\" >TT (Sec)</th>    </tr></thead><tbody>\n",
       "                <tr>\n",
       "                        <th id=\"T_1fa047fc_1ad6_11eb_aa80_acde48001122level0_row0\" class=\"row_heading level0 row0\" >xgboost</th>\n",
       "                        <td id=\"T_1fa047fc_1ad6_11eb_aa80_acde48001122row0_col0\" class=\"data row0 col0\" >Extreme Gradient Boosting</td>\n",
       "                        <td id=\"T_1fa047fc_1ad6_11eb_aa80_acde48001122row0_col1\" class=\"data row0 col1\" >264.0680</td>\n",
       "                        <td id=\"T_1fa047fc_1ad6_11eb_aa80_acde48001122row0_col2\" class=\"data row0 col2\" >429546.5609</td>\n",
       "                        <td id=\"T_1fa047fc_1ad6_11eb_aa80_acde48001122row0_col3\" class=\"data row0 col3\" >634.6117</td>\n",
       "                        <td id=\"T_1fa047fc_1ad6_11eb_aa80_acde48001122row0_col4\" class=\"data row0 col4\" >0.1963</td>\n",
       "                        <td id=\"T_1fa047fc_1ad6_11eb_aa80_acde48001122row0_col5\" class=\"data row0 col5\" >0.5821</td>\n",
       "                        <td id=\"T_1fa047fc_1ad6_11eb_aa80_acde48001122row0_col6\" class=\"data row0 col6\" >0.4704</td>\n",
       "                        <td id=\"T_1fa047fc_1ad6_11eb_aa80_acde48001122row0_col7\" class=\"data row0 col7\" >4.6330</td>\n",
       "            </tr>\n",
       "            <tr>\n",
       "                        <th id=\"T_1fa047fc_1ad6_11eb_aa80_acde48001122level0_row1\" class=\"row_heading level0 row1\" >catboost</th>\n",
       "                        <td id=\"T_1fa047fc_1ad6_11eb_aa80_acde48001122row1_col0\" class=\"data row1 col0\" >CatBoost Regressor</td>\n",
       "                        <td id=\"T_1fa047fc_1ad6_11eb_aa80_acde48001122row1_col1\" class=\"data row1 col1\" >262.1445</td>\n",
       "                        <td id=\"T_1fa047fc_1ad6_11eb_aa80_acde48001122row1_col2\" class=\"data row1 col2\" >428121.1931</td>\n",
       "                        <td id=\"T_1fa047fc_1ad6_11eb_aa80_acde48001122row1_col3\" class=\"data row1 col3\" >634.2182</td>\n",
       "                        <td id=\"T_1fa047fc_1ad6_11eb_aa80_acde48001122row1_col4\" class=\"data row1 col4\" >0.1957</td>\n",
       "                        <td id=\"T_1fa047fc_1ad6_11eb_aa80_acde48001122row1_col5\" class=\"data row1 col5\" >0.5725</td>\n",
       "                        <td id=\"T_1fa047fc_1ad6_11eb_aa80_acde48001122row1_col6\" class=\"data row1 col6\" >0.4615</td>\n",
       "                        <td id=\"T_1fa047fc_1ad6_11eb_aa80_acde48001122row1_col7\" class=\"data row1 col7\" >3.9510</td>\n",
       "            </tr>\n",
       "            <tr>\n",
       "                        <th id=\"T_1fa047fc_1ad6_11eb_aa80_acde48001122level0_row2\" class=\"row_heading level0 row2\" >lightgbm</th>\n",
       "                        <td id=\"T_1fa047fc_1ad6_11eb_aa80_acde48001122row2_col0\" class=\"data row2 col0\" >Light Gradient Boosting Machine</td>\n",
       "                        <td id=\"T_1fa047fc_1ad6_11eb_aa80_acde48001122row2_col1\" class=\"data row2 col1\" >268.0376</td>\n",
       "                        <td id=\"T_1fa047fc_1ad6_11eb_aa80_acde48001122row2_col2\" class=\"data row2 col2\" >432926.3691</td>\n",
       "                        <td id=\"T_1fa047fc_1ad6_11eb_aa80_acde48001122row2_col3\" class=\"data row2 col3\" >636.0034</td>\n",
       "                        <td id=\"T_1fa047fc_1ad6_11eb_aa80_acde48001122row2_col4\" class=\"data row2 col4\" >0.1937</td>\n",
       "                        <td id=\"T_1fa047fc_1ad6_11eb_aa80_acde48001122row2_col5\" class=\"data row2 col5\" >0.6004</td>\n",
       "                        <td id=\"T_1fa047fc_1ad6_11eb_aa80_acde48001122row2_col6\" class=\"data row2 col6\" >0.4870</td>\n",
       "                        <td id=\"T_1fa047fc_1ad6_11eb_aa80_acde48001122row2_col7\" class=\"data row2 col7\" >0.1060</td>\n",
       "            </tr>\n",
       "            <tr>\n",
       "                        <th id=\"T_1fa047fc_1ad6_11eb_aa80_acde48001122level0_row3\" class=\"row_heading level0 row3\" >rf</th>\n",
       "                        <td id=\"T_1fa047fc_1ad6_11eb_aa80_acde48001122row3_col0\" class=\"data row3 col0\" >Random Forest Regressor</td>\n",
       "                        <td id=\"T_1fa047fc_1ad6_11eb_aa80_acde48001122row3_col1\" class=\"data row3 col1\" >263.2312</td>\n",
       "                        <td id=\"T_1fa047fc_1ad6_11eb_aa80_acde48001122row3_col2\" class=\"data row3 col2\" >432157.7024</td>\n",
       "                        <td id=\"T_1fa047fc_1ad6_11eb_aa80_acde48001122row3_col3\" class=\"data row3 col3\" >636.9445</td>\n",
       "                        <td id=\"T_1fa047fc_1ad6_11eb_aa80_acde48001122row3_col4\" class=\"data row3 col4\" >0.1873</td>\n",
       "                        <td id=\"T_1fa047fc_1ad6_11eb_aa80_acde48001122row3_col5\" class=\"data row3 col5\" >0.5917</td>\n",
       "                        <td id=\"T_1fa047fc_1ad6_11eb_aa80_acde48001122row3_col6\" class=\"data row3 col6\" >0.4765</td>\n",
       "                        <td id=\"T_1fa047fc_1ad6_11eb_aa80_acde48001122row3_col7\" class=\"data row3 col7\" >2.6720</td>\n",
       "            </tr>\n",
       "    </tbody></table>"
      ],
      "text/plain": [
       "<pandas.io.formats.style.Styler at 0x7fac3ab46880>"
      ]
     },
     "metadata": {},
     "output_type": "display_data"
    },
    {
     "data": {
      "text/plain": [
       "PowerTransformedTargetRegressor(base_score=None, booster='gbtree',\n",
       "                                colsample_bylevel=None, colsample_bynode=None,\n",
       "                                colsample_bytree=None, gamma=None, gpu_id=None,\n",
       "                                importance_type='gain',\n",
       "                                interaction_constraints=None,\n",
       "                                learning_rate=None, max_delta_step=None,\n",
       "                                max_depth=None, min_child_weight=None,\n",
       "                                missing=nan, monotone_constraints=None,\n",
       "                                n_estimators=100, n_jobs=-1,\n",
       "                                nu...\n",
       "                                                       missing=nan,\n",
       "                                                       monotone_constraints=None,\n",
       "                                                       n_estimators=100,\n",
       "                                                       n_jobs=-1,\n",
       "                                                       num_parallel_tree=None,\n",
       "                                                       objective='reg:squarederror',\n",
       "                                                       random_state=123,\n",
       "                                                       reg_alpha=None,\n",
       "                                                       reg_lambda=None,\n",
       "                                                       scale_pos_weight=None,\n",
       "                                                       subsample=None,\n",
       "                                                       tree_method='auto',\n",
       "                                                       validate_parameters=None,\n",
       "                                                       verbosity=0),\n",
       "                                scale_pos_weight=None, subsample=None,\n",
       "                                tree_method='auto', validate_parameters=None,\n",
       "                                verbosity=0)"
      ]
     },
     "execution_count": 68,
     "metadata": {},
     "output_type": "execute_result"
    }
   ],
   "source": [
    "compare_models(include = ['catboost', 'lightgbm', 'xgboost', 'rf'])"
   ]
  },
  {
   "cell_type": "code",
   "execution_count": 70,
   "metadata": {},
   "outputs": [],
   "source": [
    "# Take the 3 bests models\n",
    "catb = create_model('catboost', verbose=False)\n",
    "xgb = create_model('xgboost', verbose=False)\n",
    "rf = create_model('rf', verbose=False)"
   ]
  },
  {
   "cell_type": "code",
   "execution_count": 71,
   "metadata": {},
   "outputs": [
    {
     "data": {
      "text/html": [
       "<style  type=\"text/css\" >\n",
       "#T_0fa2c00e_1ad7_11eb_aa80_acde48001122row10_col0,#T_0fa2c00e_1ad7_11eb_aa80_acde48001122row10_col1,#T_0fa2c00e_1ad7_11eb_aa80_acde48001122row10_col2,#T_0fa2c00e_1ad7_11eb_aa80_acde48001122row10_col3,#T_0fa2c00e_1ad7_11eb_aa80_acde48001122row10_col4,#T_0fa2c00e_1ad7_11eb_aa80_acde48001122row10_col5{\n",
       "            background:  yellow;\n",
       "        }</style><table id=\"T_0fa2c00e_1ad7_11eb_aa80_acde48001122\" ><thead>    <tr>        <th class=\"blank level0\" ></th>        <th class=\"col_heading level0 col0\" >MAE</th>        <th class=\"col_heading level0 col1\" >MSE</th>        <th class=\"col_heading level0 col2\" >RMSE</th>        <th class=\"col_heading level0 col3\" >R2</th>        <th class=\"col_heading level0 col4\" >RMSLE</th>        <th class=\"col_heading level0 col5\" >MAPE</th>    </tr></thead><tbody>\n",
       "                <tr>\n",
       "                        <th id=\"T_0fa2c00e_1ad7_11eb_aa80_acde48001122level0_row0\" class=\"row_heading level0 row0\" >0</th>\n",
       "                        <td id=\"T_0fa2c00e_1ad7_11eb_aa80_acde48001122row0_col0\" class=\"data row0 col0\" >279.8498</td>\n",
       "                        <td id=\"T_0fa2c00e_1ad7_11eb_aa80_acde48001122row0_col1\" class=\"data row0 col1\" >476900.0098</td>\n",
       "                        <td id=\"T_0fa2c00e_1ad7_11eb_aa80_acde48001122row0_col2\" class=\"data row0 col2\" >690.5795</td>\n",
       "                        <td id=\"T_0fa2c00e_1ad7_11eb_aa80_acde48001122row0_col3\" class=\"data row0 col3\" >0.1502</td>\n",
       "                        <td id=\"T_0fa2c00e_1ad7_11eb_aa80_acde48001122row0_col4\" class=\"data row0 col4\" >0.5646</td>\n",
       "                        <td id=\"T_0fa2c00e_1ad7_11eb_aa80_acde48001122row0_col5\" class=\"data row0 col5\" >0.4404</td>\n",
       "            </tr>\n",
       "            <tr>\n",
       "                        <th id=\"T_0fa2c00e_1ad7_11eb_aa80_acde48001122level0_row1\" class=\"row_heading level0 row1\" >1</th>\n",
       "                        <td id=\"T_0fa2c00e_1ad7_11eb_aa80_acde48001122row1_col0\" class=\"data row1 col0\" >321.5033</td>\n",
       "                        <td id=\"T_0fa2c00e_1ad7_11eb_aa80_acde48001122row1_col1\" class=\"data row1 col1\" >636480.2304</td>\n",
       "                        <td id=\"T_0fa2c00e_1ad7_11eb_aa80_acde48001122row1_col2\" class=\"data row1 col2\" >797.7971</td>\n",
       "                        <td id=\"T_0fa2c00e_1ad7_11eb_aa80_acde48001122row1_col3\" class=\"data row1 col3\" >0.1657</td>\n",
       "                        <td id=\"T_0fa2c00e_1ad7_11eb_aa80_acde48001122row1_col4\" class=\"data row1 col4\" >0.6240</td>\n",
       "                        <td id=\"T_0fa2c00e_1ad7_11eb_aa80_acde48001122row1_col5\" class=\"data row1 col5\" >0.4922</td>\n",
       "            </tr>\n",
       "            <tr>\n",
       "                        <th id=\"T_0fa2c00e_1ad7_11eb_aa80_acde48001122level0_row2\" class=\"row_heading level0 row2\" >2</th>\n",
       "                        <td id=\"T_0fa2c00e_1ad7_11eb_aa80_acde48001122row2_col0\" class=\"data row2 col0\" >217.4154</td>\n",
       "                        <td id=\"T_0fa2c00e_1ad7_11eb_aa80_acde48001122row2_col1\" class=\"data row2 col1\" >234531.0729</td>\n",
       "                        <td id=\"T_0fa2c00e_1ad7_11eb_aa80_acde48001122row2_col2\" class=\"data row2 col2\" >484.2841</td>\n",
       "                        <td id=\"T_0fa2c00e_1ad7_11eb_aa80_acde48001122row2_col3\" class=\"data row2 col3\" >0.2181</td>\n",
       "                        <td id=\"T_0fa2c00e_1ad7_11eb_aa80_acde48001122row2_col4\" class=\"data row2 col4\" >0.5395</td>\n",
       "                        <td id=\"T_0fa2c00e_1ad7_11eb_aa80_acde48001122row2_col5\" class=\"data row2 col5\" >0.4551</td>\n",
       "            </tr>\n",
       "            <tr>\n",
       "                        <th id=\"T_0fa2c00e_1ad7_11eb_aa80_acde48001122level0_row3\" class=\"row_heading level0 row3\" >3</th>\n",
       "                        <td id=\"T_0fa2c00e_1ad7_11eb_aa80_acde48001122row3_col0\" class=\"data row3 col0\" >266.7597</td>\n",
       "                        <td id=\"T_0fa2c00e_1ad7_11eb_aa80_acde48001122row3_col1\" class=\"data row3 col1\" >720844.2931</td>\n",
       "                        <td id=\"T_0fa2c00e_1ad7_11eb_aa80_acde48001122row3_col2\" class=\"data row3 col2\" >849.0255</td>\n",
       "                        <td id=\"T_0fa2c00e_1ad7_11eb_aa80_acde48001122row3_col3\" class=\"data row3 col3\" >0.0794</td>\n",
       "                        <td id=\"T_0fa2c00e_1ad7_11eb_aa80_acde48001122row3_col4\" class=\"data row3 col4\" >0.5669</td>\n",
       "                        <td id=\"T_0fa2c00e_1ad7_11eb_aa80_acde48001122row3_col5\" class=\"data row3 col5\" >0.3934</td>\n",
       "            </tr>\n",
       "            <tr>\n",
       "                        <th id=\"T_0fa2c00e_1ad7_11eb_aa80_acde48001122level0_row4\" class=\"row_heading level0 row4\" >4</th>\n",
       "                        <td id=\"T_0fa2c00e_1ad7_11eb_aa80_acde48001122row4_col0\" class=\"data row4 col0\" >241.5672</td>\n",
       "                        <td id=\"T_0fa2c00e_1ad7_11eb_aa80_acde48001122row4_col1\" class=\"data row4 col1\" >294612.8987</td>\n",
       "                        <td id=\"T_0fa2c00e_1ad7_11eb_aa80_acde48001122row4_col2\" class=\"data row4 col2\" >542.7826</td>\n",
       "                        <td id=\"T_0fa2c00e_1ad7_11eb_aa80_acde48001122row4_col3\" class=\"data row4 col3\" >0.2747</td>\n",
       "                        <td id=\"T_0fa2c00e_1ad7_11eb_aa80_acde48001122row4_col4\" class=\"data row4 col4\" >0.5445</td>\n",
       "                        <td id=\"T_0fa2c00e_1ad7_11eb_aa80_acde48001122row4_col5\" class=\"data row4 col5\" >0.4426</td>\n",
       "            </tr>\n",
       "            <tr>\n",
       "                        <th id=\"T_0fa2c00e_1ad7_11eb_aa80_acde48001122level0_row5\" class=\"row_heading level0 row5\" >5</th>\n",
       "                        <td id=\"T_0fa2c00e_1ad7_11eb_aa80_acde48001122row5_col0\" class=\"data row5 col0\" >259.4660</td>\n",
       "                        <td id=\"T_0fa2c00e_1ad7_11eb_aa80_acde48001122row5_col1\" class=\"data row5 col1\" >454057.2678</td>\n",
       "                        <td id=\"T_0fa2c00e_1ad7_11eb_aa80_acde48001122row5_col2\" class=\"data row5 col2\" >673.8377</td>\n",
       "                        <td id=\"T_0fa2c00e_1ad7_11eb_aa80_acde48001122row5_col3\" class=\"data row5 col3\" >0.2208</td>\n",
       "                        <td id=\"T_0fa2c00e_1ad7_11eb_aa80_acde48001122row5_col4\" class=\"data row5 col4\" >0.5929</td>\n",
       "                        <td id=\"T_0fa2c00e_1ad7_11eb_aa80_acde48001122row5_col5\" class=\"data row5 col5\" >0.4856</td>\n",
       "            </tr>\n",
       "            <tr>\n",
       "                        <th id=\"T_0fa2c00e_1ad7_11eb_aa80_acde48001122level0_row6\" class=\"row_heading level0 row6\" >6</th>\n",
       "                        <td id=\"T_0fa2c00e_1ad7_11eb_aa80_acde48001122row6_col0\" class=\"data row6 col0\" >309.0319</td>\n",
       "                        <td id=\"T_0fa2c00e_1ad7_11eb_aa80_acde48001122row6_col1\" class=\"data row6 col1\" >800346.3347</td>\n",
       "                        <td id=\"T_0fa2c00e_1ad7_11eb_aa80_acde48001122row6_col2\" class=\"data row6 col2\" >894.6208</td>\n",
       "                        <td id=\"T_0fa2c00e_1ad7_11eb_aa80_acde48001122row6_col3\" class=\"data row6 col3\" >0.0869</td>\n",
       "                        <td id=\"T_0fa2c00e_1ad7_11eb_aa80_acde48001122row6_col4\" class=\"data row6 col4\" >0.6313</td>\n",
       "                        <td id=\"T_0fa2c00e_1ad7_11eb_aa80_acde48001122row6_col5\" class=\"data row6 col5\" >0.5107</td>\n",
       "            </tr>\n",
       "            <tr>\n",
       "                        <th id=\"T_0fa2c00e_1ad7_11eb_aa80_acde48001122level0_row7\" class=\"row_heading level0 row7\" >7</th>\n",
       "                        <td id=\"T_0fa2c00e_1ad7_11eb_aa80_acde48001122row7_col0\" class=\"data row7 col0\" >230.9310</td>\n",
       "                        <td id=\"T_0fa2c00e_1ad7_11eb_aa80_acde48001122row7_col1\" class=\"data row7 col1\" >197842.0330</td>\n",
       "                        <td id=\"T_0fa2c00e_1ad7_11eb_aa80_acde48001122row7_col2\" class=\"data row7 col2\" >444.7944</td>\n",
       "                        <td id=\"T_0fa2c00e_1ad7_11eb_aa80_acde48001122row7_col3\" class=\"data row7 col3\" >0.3557</td>\n",
       "                        <td id=\"T_0fa2c00e_1ad7_11eb_aa80_acde48001122row7_col4\" class=\"data row7 col4\" >0.5580</td>\n",
       "                        <td id=\"T_0fa2c00e_1ad7_11eb_aa80_acde48001122row7_col5\" class=\"data row7 col5\" >0.4852</td>\n",
       "            </tr>\n",
       "            <tr>\n",
       "                        <th id=\"T_0fa2c00e_1ad7_11eb_aa80_acde48001122level0_row8\" class=\"row_heading level0 row8\" >8</th>\n",
       "                        <td id=\"T_0fa2c00e_1ad7_11eb_aa80_acde48001122row8_col0\" class=\"data row8 col0\" >231.9924</td>\n",
       "                        <td id=\"T_0fa2c00e_1ad7_11eb_aa80_acde48001122row8_col1\" class=\"data row8 col1\" >219866.2573</td>\n",
       "                        <td id=\"T_0fa2c00e_1ad7_11eb_aa80_acde48001122row8_col2\" class=\"data row8 col2\" >468.8990</td>\n",
       "                        <td id=\"T_0fa2c00e_1ad7_11eb_aa80_acde48001122row8_col3\" class=\"data row8 col3\" >0.2224</td>\n",
       "                        <td id=\"T_0fa2c00e_1ad7_11eb_aa80_acde48001122row8_col4\" class=\"data row8 col4\" >0.5575</td>\n",
       "                        <td id=\"T_0fa2c00e_1ad7_11eb_aa80_acde48001122row8_col5\" class=\"data row8 col5\" >0.4463</td>\n",
       "            </tr>\n",
       "            <tr>\n",
       "                        <th id=\"T_0fa2c00e_1ad7_11eb_aa80_acde48001122level0_row9\" class=\"row_heading level0 row9\" >9</th>\n",
       "                        <td id=\"T_0fa2c00e_1ad7_11eb_aa80_acde48001122row9_col0\" class=\"data row9 col0\" >229.8179</td>\n",
       "                        <td id=\"T_0fa2c00e_1ad7_11eb_aa80_acde48001122row9_col1\" class=\"data row9 col1\" >208569.5953</td>\n",
       "                        <td id=\"T_0fa2c00e_1ad7_11eb_aa80_acde48001122row9_col2\" class=\"data row9 col2\" >456.6942</td>\n",
       "                        <td id=\"T_0fa2c00e_1ad7_11eb_aa80_acde48001122row9_col3\" class=\"data row9 col3\" >0.3021</td>\n",
       "                        <td id=\"T_0fa2c00e_1ad7_11eb_aa80_acde48001122row9_col4\" class=\"data row9 col4\" >0.5342</td>\n",
       "                        <td id=\"T_0fa2c00e_1ad7_11eb_aa80_acde48001122row9_col5\" class=\"data row9 col5\" >0.4156</td>\n",
       "            </tr>\n",
       "            <tr>\n",
       "                        <th id=\"T_0fa2c00e_1ad7_11eb_aa80_acde48001122level0_row10\" class=\"row_heading level0 row10\" >Mean</th>\n",
       "                        <td id=\"T_0fa2c00e_1ad7_11eb_aa80_acde48001122row10_col0\" class=\"data row10 col0\" >258.8335</td>\n",
       "                        <td id=\"T_0fa2c00e_1ad7_11eb_aa80_acde48001122row10_col1\" class=\"data row10 col1\" >424404.9993</td>\n",
       "                        <td id=\"T_0fa2c00e_1ad7_11eb_aa80_acde48001122row10_col2\" class=\"data row10 col2\" >630.3315</td>\n",
       "                        <td id=\"T_0fa2c00e_1ad7_11eb_aa80_acde48001122row10_col3\" class=\"data row10 col3\" >0.2076</td>\n",
       "                        <td id=\"T_0fa2c00e_1ad7_11eb_aa80_acde48001122row10_col4\" class=\"data row10 col4\" >0.5714</td>\n",
       "                        <td id=\"T_0fa2c00e_1ad7_11eb_aa80_acde48001122row10_col5\" class=\"data row10 col5\" >0.4567</td>\n",
       "            </tr>\n",
       "            <tr>\n",
       "                        <th id=\"T_0fa2c00e_1ad7_11eb_aa80_acde48001122level0_row11\" class=\"row_heading level0 row11\" >SD</th>\n",
       "                        <td id=\"T_0fa2c00e_1ad7_11eb_aa80_acde48001122row11_col0\" class=\"data row11 col0\" >33.6255</td>\n",
       "                        <td id=\"T_0fa2c00e_1ad7_11eb_aa80_acde48001122row11_col1\" class=\"data row11 col1\" >216902.9559</td>\n",
       "                        <td id=\"T_0fa2c00e_1ad7_11eb_aa80_acde48001122row11_col2\" class=\"data row11 col2\" >164.5820</td>\n",
       "                        <td id=\"T_0fa2c00e_1ad7_11eb_aa80_acde48001122row11_col3\" class=\"data row11 col3\" >0.0848</td>\n",
       "                        <td id=\"T_0fa2c00e_1ad7_11eb_aa80_acde48001122row11_col4\" class=\"data row11 col4\" >0.0322</td>\n",
       "                        <td id=\"T_0fa2c00e_1ad7_11eb_aa80_acde48001122row11_col5\" class=\"data row11 col5\" >0.0348</td>\n",
       "            </tr>\n",
       "    </tbody></table>"
      ],
      "text/plain": [
       "<pandas.io.formats.style.Styler at 0x7fac37163040>"
      ]
     },
     "metadata": {},
     "output_type": "display_data"
    }
   ],
   "source": [
    "# Blend all the 3 bests models\n",
    "blend_all = blend_models(estimator_list = [catb, xgb, rf])"
   ]
  },
  {
   "cell_type": "code",
   "execution_count": 73,
   "metadata": {},
   "outputs": [
    {
     "data": {
      "text/html": [
       "<div>\n",
       "<style scoped>\n",
       "    .dataframe tbody tr th:only-of-type {\n",
       "        vertical-align: middle;\n",
       "    }\n",
       "\n",
       "    .dataframe tbody tr th {\n",
       "        vertical-align: top;\n",
       "    }\n",
       "\n",
       "    .dataframe thead th {\n",
       "        text-align: right;\n",
       "    }\n",
       "</style>\n",
       "<table border=\"1\" class=\"dataframe\">\n",
       "  <thead>\n",
       "    <tr style=\"text-align: right;\">\n",
       "      <th></th>\n",
       "      <th>Author</th>\n",
       "      <th>Reviews</th>\n",
       "      <th>Ratings</th>\n",
       "      <th>Genre</th>\n",
       "      <th>BookCategory</th>\n",
       "      <th>EditionName</th>\n",
       "      <th>EditionDate</th>\n",
       "      <th>EditionSub</th>\n",
       "      <th>Label</th>\n",
       "    </tr>\n",
       "  </thead>\n",
       "  <tbody>\n",
       "    <tr>\n",
       "      <th>0</th>\n",
       "      <td>Sir Arthur Conan Doyle</td>\n",
       "      <td>4.4</td>\n",
       "      <td>960.0</td>\n",
       "      <td>Short Stories (Books)</td>\n",
       "      <td>Crime, Thriller &amp; Mystery</td>\n",
       "      <td>Mass Market Paperback</td>\n",
       "      <td>1986-10-01</td>\n",
       "      <td>NaN</td>\n",
       "      <td>273.762007</td>\n",
       "    </tr>\n",
       "    <tr>\n",
       "      <th>1</th>\n",
       "      <td>Gabriel N. Schenker</td>\n",
       "      <td>5.0</td>\n",
       "      <td>1.0</td>\n",
       "      <td>Operating Systems Textbooks</td>\n",
       "      <td>Computing, Internet &amp; Digital Media</td>\n",
       "      <td>Paperback</td>\n",
       "      <td>2018-04-26</td>\n",
       "      <td>Import</td>\n",
       "      <td>1337.323894</td>\n",
       "    </tr>\n",
       "    <tr>\n",
       "      <th>2</th>\n",
       "      <td>Danielle Steel</td>\n",
       "      <td>5.0</td>\n",
       "      <td>4.0</td>\n",
       "      <td>Romance (Books)</td>\n",
       "      <td>Romance</td>\n",
       "      <td>Paperback</td>\n",
       "      <td>2011-03-17</td>\n",
       "      <td>NaN</td>\n",
       "      <td>307.040688</td>\n",
       "    </tr>\n",
       "    <tr>\n",
       "      <th>3</th>\n",
       "      <td>Allen B. Downey</td>\n",
       "      <td>4.1</td>\n",
       "      <td>11.0</td>\n",
       "      <td>Programming &amp; Software Development (Books)</td>\n",
       "      <td>Computing, Internet &amp; Digital Media</td>\n",
       "      <td>Paperback</td>\n",
       "      <td>2016-01-01</td>\n",
       "      <td>NaN</td>\n",
       "      <td>578.196513</td>\n",
       "    </tr>\n",
       "    <tr>\n",
       "      <th>4</th>\n",
       "      <td>Redman Gairns</td>\n",
       "      <td>4.4</td>\n",
       "      <td>9.0</td>\n",
       "      <td>Linguistics (Books)</td>\n",
       "      <td>Language, Linguistics &amp; Writing</td>\n",
       "      <td>Paperback</td>\n",
       "      <td>2011-12-26</td>\n",
       "      <td>NaN</td>\n",
       "      <td>352.928218</td>\n",
       "    </tr>\n",
       "  </tbody>\n",
       "</table>\n",
       "</div>"
      ],
      "text/plain": [
       "                   Author  Reviews  Ratings  \\\n",
       "0  Sir Arthur Conan Doyle      4.4    960.0   \n",
       "1     Gabriel N. Schenker      5.0      1.0   \n",
       "2          Danielle Steel      5.0      4.0   \n",
       "3         Allen B. Downey      4.1     11.0   \n",
       "4           Redman Gairns      4.4      9.0   \n",
       "\n",
       "                                        Genre  \\\n",
       "0                       Short Stories (Books)   \n",
       "1                 Operating Systems Textbooks   \n",
       "2                             Romance (Books)   \n",
       "3  Programming & Software Development (Books)   \n",
       "4                         Linguistics (Books)   \n",
       "\n",
       "                          BookCategory            EditionName EditionDate  \\\n",
       "0            Crime, Thriller & Mystery  Mass Market Paperback  1986-10-01   \n",
       "1  Computing, Internet & Digital Media              Paperback  2018-04-26   \n",
       "2                              Romance              Paperback  2011-03-17   \n",
       "3  Computing, Internet & Digital Media              Paperback  2016-01-01   \n",
       "4      Language, Linguistics & Writing              Paperback  2011-12-26   \n",
       "\n",
       "  EditionSub        Label  \n",
       "0        NaN   273.762007  \n",
       "1     Import  1337.323894  \n",
       "2        NaN   307.040688  \n",
       "3        NaN   578.196513  \n",
       "4        NaN   352.928218  "
      ]
     },
     "execution_count": 73,
     "metadata": {},
     "output_type": "execute_result"
    }
   ],
   "source": [
    "# Finalise models and make predictions\n",
    "final_blender = finalize_model(blend_all)\n",
    "predictions = predict_model(final_blender, data = data_submit.drop(['Title',\"Synopsis\"],axis=1))\n",
    "predictions.head()"
   ]
  },
  {
   "cell_type": "code",
   "execution_count": 74,
   "metadata": {},
   "outputs": [],
   "source": [
    "predictions['Price'] = predictions['Label']\n",
    "predictions[['Price']].to_excel('submissions.xlsx', index=False)"
   ]
  },
  {
   "cell_type": "markdown",
   "metadata": {},
   "source": [
    "**Actually, the score is 0.75861 (ranked 47) (link : https://www.machinehack.com/hackathons/predict_the_price_of_books/leaderboard) which is not bad. We will try to improve the score by analysing the Title and the Synopsis.**"
   ]
  }
 ],
 "metadata": {
  "kernelspec": {
   "display_name": "Python 3",
   "language": "python",
   "name": "python3"
  },
  "language_info": {
   "codemirror_mode": {
    "name": "ipython",
    "version": 3
   },
   "file_extension": ".py",
   "mimetype": "text/x-python",
   "name": "python",
   "nbconvert_exporter": "python",
   "pygments_lexer": "ipython3",
   "version": "3.8.3"
  }
 },
 "nbformat": 4,
 "nbformat_minor": 4
}
